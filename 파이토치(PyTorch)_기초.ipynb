{
  "nbformat": 4,
  "nbformat_minor": 0,
  "metadata": {
    "colab": {
      "name": "_9 파이토치(PyTorch) 기초.ipynb의 사본",
      "provenance": [],
      "collapsed_sections": [],
      "toc_visible": true,
      "include_colab_link": true
    },
    "kernelspec": {
      "name": "python3",
      "display_name": "Python 3"
    },
    "accelerator": "GPU",
    "widgets": {
      "application/vnd.jupyter.widget-state+json": {
        "c41e6158e48c49c381794a7ef3262163": {
          "model_module": "@jupyter-widgets/controls",
          "model_name": "HBoxModel",
          "model_module_version": "1.5.0",
          "state": {
            "_dom_classes": [],
            "_model_module": "@jupyter-widgets/controls",
            "_model_module_version": "1.5.0",
            "_model_name": "HBoxModel",
            "_view_count": null,
            "_view_module": "@jupyter-widgets/controls",
            "_view_module_version": "1.5.0",
            "_view_name": "HBoxView",
            "box_style": "",
            "children": [
              "IPY_MODEL_8c57ee819cb6426d80d9fe64c2836211",
              "IPY_MODEL_4ff89b746a734f618639363c45c881fb",
              "IPY_MODEL_6350711f8fe14987aae976dba337ddc9"
            ],
            "layout": "IPY_MODEL_62a66b28d14f49b68b3a40ed45df22a7"
          }
        },
        "8c57ee819cb6426d80d9fe64c2836211": {
          "model_module": "@jupyter-widgets/controls",
          "model_name": "HTMLModel",
          "model_module_version": "1.5.0",
          "state": {
            "_dom_classes": [],
            "_model_module": "@jupyter-widgets/controls",
            "_model_module_version": "1.5.0",
            "_model_name": "HTMLModel",
            "_view_count": null,
            "_view_module": "@jupyter-widgets/controls",
            "_view_module_version": "1.5.0",
            "_view_name": "HTMLView",
            "description": "",
            "description_tooltip": null,
            "layout": "IPY_MODEL_6f39786d5e034ed29bb67dcc6dc50ba7",
            "placeholder": "​",
            "style": "IPY_MODEL_88fc7dd6fd7e4740bd4efd59bf895502",
            "value": ""
          }
        },
        "4ff89b746a734f618639363c45c881fb": {
          "model_module": "@jupyter-widgets/controls",
          "model_name": "FloatProgressModel",
          "model_module_version": "1.5.0",
          "state": {
            "_dom_classes": [],
            "_model_module": "@jupyter-widgets/controls",
            "_model_module_version": "1.5.0",
            "_model_name": "FloatProgressModel",
            "_view_count": null,
            "_view_module": "@jupyter-widgets/controls",
            "_view_module_version": "1.5.0",
            "_view_name": "ProgressView",
            "bar_style": "success",
            "description": "",
            "description_tooltip": null,
            "layout": "IPY_MODEL_d6058a8cbd324ed3848e2fa560c27c17",
            "max": 9912422,
            "min": 0,
            "orientation": "horizontal",
            "style": "IPY_MODEL_6ca65aed88ce4655871bbfabb3be3b9e",
            "value": 9912422
          }
        },
        "6350711f8fe14987aae976dba337ddc9": {
          "model_module": "@jupyter-widgets/controls",
          "model_name": "HTMLModel",
          "model_module_version": "1.5.0",
          "state": {
            "_dom_classes": [],
            "_model_module": "@jupyter-widgets/controls",
            "_model_module_version": "1.5.0",
            "_model_name": "HTMLModel",
            "_view_count": null,
            "_view_module": "@jupyter-widgets/controls",
            "_view_module_version": "1.5.0",
            "_view_name": "HTMLView",
            "description": "",
            "description_tooltip": null,
            "layout": "IPY_MODEL_d29d405fe00a475facca03af2bf91e31",
            "placeholder": "​",
            "style": "IPY_MODEL_757626b72fec4ee3a89a0035ebf9d3f8",
            "value": " 9913344/? [00:00&lt;00:00, 70204335.29it/s]"
          }
        },
        "62a66b28d14f49b68b3a40ed45df22a7": {
          "model_module": "@jupyter-widgets/base",
          "model_name": "LayoutModel",
          "model_module_version": "1.2.0",
          "state": {
            "_model_module": "@jupyter-widgets/base",
            "_model_module_version": "1.2.0",
            "_model_name": "LayoutModel",
            "_view_count": null,
            "_view_module": "@jupyter-widgets/base",
            "_view_module_version": "1.2.0",
            "_view_name": "LayoutView",
            "align_content": null,
            "align_items": null,
            "align_self": null,
            "border": null,
            "bottom": null,
            "display": null,
            "flex": null,
            "flex_flow": null,
            "grid_area": null,
            "grid_auto_columns": null,
            "grid_auto_flow": null,
            "grid_auto_rows": null,
            "grid_column": null,
            "grid_gap": null,
            "grid_row": null,
            "grid_template_areas": null,
            "grid_template_columns": null,
            "grid_template_rows": null,
            "height": null,
            "justify_content": null,
            "justify_items": null,
            "left": null,
            "margin": null,
            "max_height": null,
            "max_width": null,
            "min_height": null,
            "min_width": null,
            "object_fit": null,
            "object_position": null,
            "order": null,
            "overflow": null,
            "overflow_x": null,
            "overflow_y": null,
            "padding": null,
            "right": null,
            "top": null,
            "visibility": null,
            "width": null
          }
        },
        "6f39786d5e034ed29bb67dcc6dc50ba7": {
          "model_module": "@jupyter-widgets/base",
          "model_name": "LayoutModel",
          "model_module_version": "1.2.0",
          "state": {
            "_model_module": "@jupyter-widgets/base",
            "_model_module_version": "1.2.0",
            "_model_name": "LayoutModel",
            "_view_count": null,
            "_view_module": "@jupyter-widgets/base",
            "_view_module_version": "1.2.0",
            "_view_name": "LayoutView",
            "align_content": null,
            "align_items": null,
            "align_self": null,
            "border": null,
            "bottom": null,
            "display": null,
            "flex": null,
            "flex_flow": null,
            "grid_area": null,
            "grid_auto_columns": null,
            "grid_auto_flow": null,
            "grid_auto_rows": null,
            "grid_column": null,
            "grid_gap": null,
            "grid_row": null,
            "grid_template_areas": null,
            "grid_template_columns": null,
            "grid_template_rows": null,
            "height": null,
            "justify_content": null,
            "justify_items": null,
            "left": null,
            "margin": null,
            "max_height": null,
            "max_width": null,
            "min_height": null,
            "min_width": null,
            "object_fit": null,
            "object_position": null,
            "order": null,
            "overflow": null,
            "overflow_x": null,
            "overflow_y": null,
            "padding": null,
            "right": null,
            "top": null,
            "visibility": null,
            "width": null
          }
        },
        "88fc7dd6fd7e4740bd4efd59bf895502": {
          "model_module": "@jupyter-widgets/controls",
          "model_name": "DescriptionStyleModel",
          "model_module_version": "1.5.0",
          "state": {
            "_model_module": "@jupyter-widgets/controls",
            "_model_module_version": "1.5.0",
            "_model_name": "DescriptionStyleModel",
            "_view_count": null,
            "_view_module": "@jupyter-widgets/base",
            "_view_module_version": "1.2.0",
            "_view_name": "StyleView",
            "description_width": ""
          }
        },
        "d6058a8cbd324ed3848e2fa560c27c17": {
          "model_module": "@jupyter-widgets/base",
          "model_name": "LayoutModel",
          "model_module_version": "1.2.0",
          "state": {
            "_model_module": "@jupyter-widgets/base",
            "_model_module_version": "1.2.0",
            "_model_name": "LayoutModel",
            "_view_count": null,
            "_view_module": "@jupyter-widgets/base",
            "_view_module_version": "1.2.0",
            "_view_name": "LayoutView",
            "align_content": null,
            "align_items": null,
            "align_self": null,
            "border": null,
            "bottom": null,
            "display": null,
            "flex": null,
            "flex_flow": null,
            "grid_area": null,
            "grid_auto_columns": null,
            "grid_auto_flow": null,
            "grid_auto_rows": null,
            "grid_column": null,
            "grid_gap": null,
            "grid_row": null,
            "grid_template_areas": null,
            "grid_template_columns": null,
            "grid_template_rows": null,
            "height": null,
            "justify_content": null,
            "justify_items": null,
            "left": null,
            "margin": null,
            "max_height": null,
            "max_width": null,
            "min_height": null,
            "min_width": null,
            "object_fit": null,
            "object_position": null,
            "order": null,
            "overflow": null,
            "overflow_x": null,
            "overflow_y": null,
            "padding": null,
            "right": null,
            "top": null,
            "visibility": null,
            "width": null
          }
        },
        "6ca65aed88ce4655871bbfabb3be3b9e": {
          "model_module": "@jupyter-widgets/controls",
          "model_name": "ProgressStyleModel",
          "model_module_version": "1.5.0",
          "state": {
            "_model_module": "@jupyter-widgets/controls",
            "_model_module_version": "1.5.0",
            "_model_name": "ProgressStyleModel",
            "_view_count": null,
            "_view_module": "@jupyter-widgets/base",
            "_view_module_version": "1.2.0",
            "_view_name": "StyleView",
            "bar_color": null,
            "description_width": ""
          }
        },
        "d29d405fe00a475facca03af2bf91e31": {
          "model_module": "@jupyter-widgets/base",
          "model_name": "LayoutModel",
          "model_module_version": "1.2.0",
          "state": {
            "_model_module": "@jupyter-widgets/base",
            "_model_module_version": "1.2.0",
            "_model_name": "LayoutModel",
            "_view_count": null,
            "_view_module": "@jupyter-widgets/base",
            "_view_module_version": "1.2.0",
            "_view_name": "LayoutView",
            "align_content": null,
            "align_items": null,
            "align_self": null,
            "border": null,
            "bottom": null,
            "display": null,
            "flex": null,
            "flex_flow": null,
            "grid_area": null,
            "grid_auto_columns": null,
            "grid_auto_flow": null,
            "grid_auto_rows": null,
            "grid_column": null,
            "grid_gap": null,
            "grid_row": null,
            "grid_template_areas": null,
            "grid_template_columns": null,
            "grid_template_rows": null,
            "height": null,
            "justify_content": null,
            "justify_items": null,
            "left": null,
            "margin": null,
            "max_height": null,
            "max_width": null,
            "min_height": null,
            "min_width": null,
            "object_fit": null,
            "object_position": null,
            "order": null,
            "overflow": null,
            "overflow_x": null,
            "overflow_y": null,
            "padding": null,
            "right": null,
            "top": null,
            "visibility": null,
            "width": null
          }
        },
        "757626b72fec4ee3a89a0035ebf9d3f8": {
          "model_module": "@jupyter-widgets/controls",
          "model_name": "DescriptionStyleModel",
          "model_module_version": "1.5.0",
          "state": {
            "_model_module": "@jupyter-widgets/controls",
            "_model_module_version": "1.5.0",
            "_model_name": "DescriptionStyleModel",
            "_view_count": null,
            "_view_module": "@jupyter-widgets/base",
            "_view_module_version": "1.2.0",
            "_view_name": "StyleView",
            "description_width": ""
          }
        },
        "e1079150b28e4c4ab3bb74630e675db5": {
          "model_module": "@jupyter-widgets/controls",
          "model_name": "HBoxModel",
          "model_module_version": "1.5.0",
          "state": {
            "_dom_classes": [],
            "_model_module": "@jupyter-widgets/controls",
            "_model_module_version": "1.5.0",
            "_model_name": "HBoxModel",
            "_view_count": null,
            "_view_module": "@jupyter-widgets/controls",
            "_view_module_version": "1.5.0",
            "_view_name": "HBoxView",
            "box_style": "",
            "children": [
              "IPY_MODEL_2ef60a5906994dfbb58cd77cf4b120cf",
              "IPY_MODEL_cf0ca8b8cb2a499d972b6aa197e46c46",
              "IPY_MODEL_4c3650ab356b4a2aa96b0aecf8139e6a"
            ],
            "layout": "IPY_MODEL_600876142a244a8fafaa344b2eda8732"
          }
        },
        "2ef60a5906994dfbb58cd77cf4b120cf": {
          "model_module": "@jupyter-widgets/controls",
          "model_name": "HTMLModel",
          "model_module_version": "1.5.0",
          "state": {
            "_dom_classes": [],
            "_model_module": "@jupyter-widgets/controls",
            "_model_module_version": "1.5.0",
            "_model_name": "HTMLModel",
            "_view_count": null,
            "_view_module": "@jupyter-widgets/controls",
            "_view_module_version": "1.5.0",
            "_view_name": "HTMLView",
            "description": "",
            "description_tooltip": null,
            "layout": "IPY_MODEL_21369469b4de4a8e9ef579492494f819",
            "placeholder": "​",
            "style": "IPY_MODEL_bb97dea6898841cca0c10df220f06371",
            "value": ""
          }
        },
        "cf0ca8b8cb2a499d972b6aa197e46c46": {
          "model_module": "@jupyter-widgets/controls",
          "model_name": "FloatProgressModel",
          "model_module_version": "1.5.0",
          "state": {
            "_dom_classes": [],
            "_model_module": "@jupyter-widgets/controls",
            "_model_module_version": "1.5.0",
            "_model_name": "FloatProgressModel",
            "_view_count": null,
            "_view_module": "@jupyter-widgets/controls",
            "_view_module_version": "1.5.0",
            "_view_name": "ProgressView",
            "bar_style": "success",
            "description": "",
            "description_tooltip": null,
            "layout": "IPY_MODEL_f8988eb842144e24bac51bcb9598f72e",
            "max": 28881,
            "min": 0,
            "orientation": "horizontal",
            "style": "IPY_MODEL_5ca16c75e54941ca8bb50c97ff9d04c6",
            "value": 28881
          }
        },
        "4c3650ab356b4a2aa96b0aecf8139e6a": {
          "model_module": "@jupyter-widgets/controls",
          "model_name": "HTMLModel",
          "model_module_version": "1.5.0",
          "state": {
            "_dom_classes": [],
            "_model_module": "@jupyter-widgets/controls",
            "_model_module_version": "1.5.0",
            "_model_name": "HTMLModel",
            "_view_count": null,
            "_view_module": "@jupyter-widgets/controls",
            "_view_module_version": "1.5.0",
            "_view_name": "HTMLView",
            "description": "",
            "description_tooltip": null,
            "layout": "IPY_MODEL_d11f12c906474f5c9b9059b729e08589",
            "placeholder": "​",
            "style": "IPY_MODEL_0ec255ee23274461bff34c31501a699c",
            "value": " 29696/? [00:00&lt;00:00, 884591.71it/s]"
          }
        },
        "600876142a244a8fafaa344b2eda8732": {
          "model_module": "@jupyter-widgets/base",
          "model_name": "LayoutModel",
          "model_module_version": "1.2.0",
          "state": {
            "_model_module": "@jupyter-widgets/base",
            "_model_module_version": "1.2.0",
            "_model_name": "LayoutModel",
            "_view_count": null,
            "_view_module": "@jupyter-widgets/base",
            "_view_module_version": "1.2.0",
            "_view_name": "LayoutView",
            "align_content": null,
            "align_items": null,
            "align_self": null,
            "border": null,
            "bottom": null,
            "display": null,
            "flex": null,
            "flex_flow": null,
            "grid_area": null,
            "grid_auto_columns": null,
            "grid_auto_flow": null,
            "grid_auto_rows": null,
            "grid_column": null,
            "grid_gap": null,
            "grid_row": null,
            "grid_template_areas": null,
            "grid_template_columns": null,
            "grid_template_rows": null,
            "height": null,
            "justify_content": null,
            "justify_items": null,
            "left": null,
            "margin": null,
            "max_height": null,
            "max_width": null,
            "min_height": null,
            "min_width": null,
            "object_fit": null,
            "object_position": null,
            "order": null,
            "overflow": null,
            "overflow_x": null,
            "overflow_y": null,
            "padding": null,
            "right": null,
            "top": null,
            "visibility": null,
            "width": null
          }
        },
        "21369469b4de4a8e9ef579492494f819": {
          "model_module": "@jupyter-widgets/base",
          "model_name": "LayoutModel",
          "model_module_version": "1.2.0",
          "state": {
            "_model_module": "@jupyter-widgets/base",
            "_model_module_version": "1.2.0",
            "_model_name": "LayoutModel",
            "_view_count": null,
            "_view_module": "@jupyter-widgets/base",
            "_view_module_version": "1.2.0",
            "_view_name": "LayoutView",
            "align_content": null,
            "align_items": null,
            "align_self": null,
            "border": null,
            "bottom": null,
            "display": null,
            "flex": null,
            "flex_flow": null,
            "grid_area": null,
            "grid_auto_columns": null,
            "grid_auto_flow": null,
            "grid_auto_rows": null,
            "grid_column": null,
            "grid_gap": null,
            "grid_row": null,
            "grid_template_areas": null,
            "grid_template_columns": null,
            "grid_template_rows": null,
            "height": null,
            "justify_content": null,
            "justify_items": null,
            "left": null,
            "margin": null,
            "max_height": null,
            "max_width": null,
            "min_height": null,
            "min_width": null,
            "object_fit": null,
            "object_position": null,
            "order": null,
            "overflow": null,
            "overflow_x": null,
            "overflow_y": null,
            "padding": null,
            "right": null,
            "top": null,
            "visibility": null,
            "width": null
          }
        },
        "bb97dea6898841cca0c10df220f06371": {
          "model_module": "@jupyter-widgets/controls",
          "model_name": "DescriptionStyleModel",
          "model_module_version": "1.5.0",
          "state": {
            "_model_module": "@jupyter-widgets/controls",
            "_model_module_version": "1.5.0",
            "_model_name": "DescriptionStyleModel",
            "_view_count": null,
            "_view_module": "@jupyter-widgets/base",
            "_view_module_version": "1.2.0",
            "_view_name": "StyleView",
            "description_width": ""
          }
        },
        "f8988eb842144e24bac51bcb9598f72e": {
          "model_module": "@jupyter-widgets/base",
          "model_name": "LayoutModel",
          "model_module_version": "1.2.0",
          "state": {
            "_model_module": "@jupyter-widgets/base",
            "_model_module_version": "1.2.0",
            "_model_name": "LayoutModel",
            "_view_count": null,
            "_view_module": "@jupyter-widgets/base",
            "_view_module_version": "1.2.0",
            "_view_name": "LayoutView",
            "align_content": null,
            "align_items": null,
            "align_self": null,
            "border": null,
            "bottom": null,
            "display": null,
            "flex": null,
            "flex_flow": null,
            "grid_area": null,
            "grid_auto_columns": null,
            "grid_auto_flow": null,
            "grid_auto_rows": null,
            "grid_column": null,
            "grid_gap": null,
            "grid_row": null,
            "grid_template_areas": null,
            "grid_template_columns": null,
            "grid_template_rows": null,
            "height": null,
            "justify_content": null,
            "justify_items": null,
            "left": null,
            "margin": null,
            "max_height": null,
            "max_width": null,
            "min_height": null,
            "min_width": null,
            "object_fit": null,
            "object_position": null,
            "order": null,
            "overflow": null,
            "overflow_x": null,
            "overflow_y": null,
            "padding": null,
            "right": null,
            "top": null,
            "visibility": null,
            "width": null
          }
        },
        "5ca16c75e54941ca8bb50c97ff9d04c6": {
          "model_module": "@jupyter-widgets/controls",
          "model_name": "ProgressStyleModel",
          "model_module_version": "1.5.0",
          "state": {
            "_model_module": "@jupyter-widgets/controls",
            "_model_module_version": "1.5.0",
            "_model_name": "ProgressStyleModel",
            "_view_count": null,
            "_view_module": "@jupyter-widgets/base",
            "_view_module_version": "1.2.0",
            "_view_name": "StyleView",
            "bar_color": null,
            "description_width": ""
          }
        },
        "d11f12c906474f5c9b9059b729e08589": {
          "model_module": "@jupyter-widgets/base",
          "model_name": "LayoutModel",
          "model_module_version": "1.2.0",
          "state": {
            "_model_module": "@jupyter-widgets/base",
            "_model_module_version": "1.2.0",
            "_model_name": "LayoutModel",
            "_view_count": null,
            "_view_module": "@jupyter-widgets/base",
            "_view_module_version": "1.2.0",
            "_view_name": "LayoutView",
            "align_content": null,
            "align_items": null,
            "align_self": null,
            "border": null,
            "bottom": null,
            "display": null,
            "flex": null,
            "flex_flow": null,
            "grid_area": null,
            "grid_auto_columns": null,
            "grid_auto_flow": null,
            "grid_auto_rows": null,
            "grid_column": null,
            "grid_gap": null,
            "grid_row": null,
            "grid_template_areas": null,
            "grid_template_columns": null,
            "grid_template_rows": null,
            "height": null,
            "justify_content": null,
            "justify_items": null,
            "left": null,
            "margin": null,
            "max_height": null,
            "max_width": null,
            "min_height": null,
            "min_width": null,
            "object_fit": null,
            "object_position": null,
            "order": null,
            "overflow": null,
            "overflow_x": null,
            "overflow_y": null,
            "padding": null,
            "right": null,
            "top": null,
            "visibility": null,
            "width": null
          }
        },
        "0ec255ee23274461bff34c31501a699c": {
          "model_module": "@jupyter-widgets/controls",
          "model_name": "DescriptionStyleModel",
          "model_module_version": "1.5.0",
          "state": {
            "_model_module": "@jupyter-widgets/controls",
            "_model_module_version": "1.5.0",
            "_model_name": "DescriptionStyleModel",
            "_view_count": null,
            "_view_module": "@jupyter-widgets/base",
            "_view_module_version": "1.2.0",
            "_view_name": "StyleView",
            "description_width": ""
          }
        },
        "e078155a30994c6799da2152c80137fc": {
          "model_module": "@jupyter-widgets/controls",
          "model_name": "HBoxModel",
          "model_module_version": "1.5.0",
          "state": {
            "_dom_classes": [],
            "_model_module": "@jupyter-widgets/controls",
            "_model_module_version": "1.5.0",
            "_model_name": "HBoxModel",
            "_view_count": null,
            "_view_module": "@jupyter-widgets/controls",
            "_view_module_version": "1.5.0",
            "_view_name": "HBoxView",
            "box_style": "",
            "children": [
              "IPY_MODEL_063d0ed6beeb4eaea2b655ec0d78ce97",
              "IPY_MODEL_ac4e6906b2014f26a247a47e063b5936",
              "IPY_MODEL_b717262d4ee9486f87e90f7a690f10f0"
            ],
            "layout": "IPY_MODEL_9a992acf6a7b42049742b7b22f9ecac1"
          }
        },
        "063d0ed6beeb4eaea2b655ec0d78ce97": {
          "model_module": "@jupyter-widgets/controls",
          "model_name": "HTMLModel",
          "model_module_version": "1.5.0",
          "state": {
            "_dom_classes": [],
            "_model_module": "@jupyter-widgets/controls",
            "_model_module_version": "1.5.0",
            "_model_name": "HTMLModel",
            "_view_count": null,
            "_view_module": "@jupyter-widgets/controls",
            "_view_module_version": "1.5.0",
            "_view_name": "HTMLView",
            "description": "",
            "description_tooltip": null,
            "layout": "IPY_MODEL_edb8245aa33e42a3829f687f0890a225",
            "placeholder": "​",
            "style": "IPY_MODEL_bb264961004d40b59c122adb762d4ebb",
            "value": ""
          }
        },
        "ac4e6906b2014f26a247a47e063b5936": {
          "model_module": "@jupyter-widgets/controls",
          "model_name": "FloatProgressModel",
          "model_module_version": "1.5.0",
          "state": {
            "_dom_classes": [],
            "_model_module": "@jupyter-widgets/controls",
            "_model_module_version": "1.5.0",
            "_model_name": "FloatProgressModel",
            "_view_count": null,
            "_view_module": "@jupyter-widgets/controls",
            "_view_module_version": "1.5.0",
            "_view_name": "ProgressView",
            "bar_style": "success",
            "description": "",
            "description_tooltip": null,
            "layout": "IPY_MODEL_5e55ba654f764d42aa062fdfda82a65f",
            "max": 1648877,
            "min": 0,
            "orientation": "horizontal",
            "style": "IPY_MODEL_2bc87b8e9065455eb2425e8b6d63ba33",
            "value": 1648877
          }
        },
        "b717262d4ee9486f87e90f7a690f10f0": {
          "model_module": "@jupyter-widgets/controls",
          "model_name": "HTMLModel",
          "model_module_version": "1.5.0",
          "state": {
            "_dom_classes": [],
            "_model_module": "@jupyter-widgets/controls",
            "_model_module_version": "1.5.0",
            "_model_name": "HTMLModel",
            "_view_count": null,
            "_view_module": "@jupyter-widgets/controls",
            "_view_module_version": "1.5.0",
            "_view_name": "HTMLView",
            "description": "",
            "description_tooltip": null,
            "layout": "IPY_MODEL_c05e5da000c747099b21cdf8fd2ce190",
            "placeholder": "​",
            "style": "IPY_MODEL_876c64af48284a9b9f03bafc3a5c34c0",
            "value": " 1649664/? [00:00&lt;00:00, 29990864.35it/s]"
          }
        },
        "9a992acf6a7b42049742b7b22f9ecac1": {
          "model_module": "@jupyter-widgets/base",
          "model_name": "LayoutModel",
          "model_module_version": "1.2.0",
          "state": {
            "_model_module": "@jupyter-widgets/base",
            "_model_module_version": "1.2.0",
            "_model_name": "LayoutModel",
            "_view_count": null,
            "_view_module": "@jupyter-widgets/base",
            "_view_module_version": "1.2.0",
            "_view_name": "LayoutView",
            "align_content": null,
            "align_items": null,
            "align_self": null,
            "border": null,
            "bottom": null,
            "display": null,
            "flex": null,
            "flex_flow": null,
            "grid_area": null,
            "grid_auto_columns": null,
            "grid_auto_flow": null,
            "grid_auto_rows": null,
            "grid_column": null,
            "grid_gap": null,
            "grid_row": null,
            "grid_template_areas": null,
            "grid_template_columns": null,
            "grid_template_rows": null,
            "height": null,
            "justify_content": null,
            "justify_items": null,
            "left": null,
            "margin": null,
            "max_height": null,
            "max_width": null,
            "min_height": null,
            "min_width": null,
            "object_fit": null,
            "object_position": null,
            "order": null,
            "overflow": null,
            "overflow_x": null,
            "overflow_y": null,
            "padding": null,
            "right": null,
            "top": null,
            "visibility": null,
            "width": null
          }
        },
        "edb8245aa33e42a3829f687f0890a225": {
          "model_module": "@jupyter-widgets/base",
          "model_name": "LayoutModel",
          "model_module_version": "1.2.0",
          "state": {
            "_model_module": "@jupyter-widgets/base",
            "_model_module_version": "1.2.0",
            "_model_name": "LayoutModel",
            "_view_count": null,
            "_view_module": "@jupyter-widgets/base",
            "_view_module_version": "1.2.0",
            "_view_name": "LayoutView",
            "align_content": null,
            "align_items": null,
            "align_self": null,
            "border": null,
            "bottom": null,
            "display": null,
            "flex": null,
            "flex_flow": null,
            "grid_area": null,
            "grid_auto_columns": null,
            "grid_auto_flow": null,
            "grid_auto_rows": null,
            "grid_column": null,
            "grid_gap": null,
            "grid_row": null,
            "grid_template_areas": null,
            "grid_template_columns": null,
            "grid_template_rows": null,
            "height": null,
            "justify_content": null,
            "justify_items": null,
            "left": null,
            "margin": null,
            "max_height": null,
            "max_width": null,
            "min_height": null,
            "min_width": null,
            "object_fit": null,
            "object_position": null,
            "order": null,
            "overflow": null,
            "overflow_x": null,
            "overflow_y": null,
            "padding": null,
            "right": null,
            "top": null,
            "visibility": null,
            "width": null
          }
        },
        "bb264961004d40b59c122adb762d4ebb": {
          "model_module": "@jupyter-widgets/controls",
          "model_name": "DescriptionStyleModel",
          "model_module_version": "1.5.0",
          "state": {
            "_model_module": "@jupyter-widgets/controls",
            "_model_module_version": "1.5.0",
            "_model_name": "DescriptionStyleModel",
            "_view_count": null,
            "_view_module": "@jupyter-widgets/base",
            "_view_module_version": "1.2.0",
            "_view_name": "StyleView",
            "description_width": ""
          }
        },
        "5e55ba654f764d42aa062fdfda82a65f": {
          "model_module": "@jupyter-widgets/base",
          "model_name": "LayoutModel",
          "model_module_version": "1.2.0",
          "state": {
            "_model_module": "@jupyter-widgets/base",
            "_model_module_version": "1.2.0",
            "_model_name": "LayoutModel",
            "_view_count": null,
            "_view_module": "@jupyter-widgets/base",
            "_view_module_version": "1.2.0",
            "_view_name": "LayoutView",
            "align_content": null,
            "align_items": null,
            "align_self": null,
            "border": null,
            "bottom": null,
            "display": null,
            "flex": null,
            "flex_flow": null,
            "grid_area": null,
            "grid_auto_columns": null,
            "grid_auto_flow": null,
            "grid_auto_rows": null,
            "grid_column": null,
            "grid_gap": null,
            "grid_row": null,
            "grid_template_areas": null,
            "grid_template_columns": null,
            "grid_template_rows": null,
            "height": null,
            "justify_content": null,
            "justify_items": null,
            "left": null,
            "margin": null,
            "max_height": null,
            "max_width": null,
            "min_height": null,
            "min_width": null,
            "object_fit": null,
            "object_position": null,
            "order": null,
            "overflow": null,
            "overflow_x": null,
            "overflow_y": null,
            "padding": null,
            "right": null,
            "top": null,
            "visibility": null,
            "width": null
          }
        },
        "2bc87b8e9065455eb2425e8b6d63ba33": {
          "model_module": "@jupyter-widgets/controls",
          "model_name": "ProgressStyleModel",
          "model_module_version": "1.5.0",
          "state": {
            "_model_module": "@jupyter-widgets/controls",
            "_model_module_version": "1.5.0",
            "_model_name": "ProgressStyleModel",
            "_view_count": null,
            "_view_module": "@jupyter-widgets/base",
            "_view_module_version": "1.2.0",
            "_view_name": "StyleView",
            "bar_color": null,
            "description_width": ""
          }
        },
        "c05e5da000c747099b21cdf8fd2ce190": {
          "model_module": "@jupyter-widgets/base",
          "model_name": "LayoutModel",
          "model_module_version": "1.2.0",
          "state": {
            "_model_module": "@jupyter-widgets/base",
            "_model_module_version": "1.2.0",
            "_model_name": "LayoutModel",
            "_view_count": null,
            "_view_module": "@jupyter-widgets/base",
            "_view_module_version": "1.2.0",
            "_view_name": "LayoutView",
            "align_content": null,
            "align_items": null,
            "align_self": null,
            "border": null,
            "bottom": null,
            "display": null,
            "flex": null,
            "flex_flow": null,
            "grid_area": null,
            "grid_auto_columns": null,
            "grid_auto_flow": null,
            "grid_auto_rows": null,
            "grid_column": null,
            "grid_gap": null,
            "grid_row": null,
            "grid_template_areas": null,
            "grid_template_columns": null,
            "grid_template_rows": null,
            "height": null,
            "justify_content": null,
            "justify_items": null,
            "left": null,
            "margin": null,
            "max_height": null,
            "max_width": null,
            "min_height": null,
            "min_width": null,
            "object_fit": null,
            "object_position": null,
            "order": null,
            "overflow": null,
            "overflow_x": null,
            "overflow_y": null,
            "padding": null,
            "right": null,
            "top": null,
            "visibility": null,
            "width": null
          }
        },
        "876c64af48284a9b9f03bafc3a5c34c0": {
          "model_module": "@jupyter-widgets/controls",
          "model_name": "DescriptionStyleModel",
          "model_module_version": "1.5.0",
          "state": {
            "_model_module": "@jupyter-widgets/controls",
            "_model_module_version": "1.5.0",
            "_model_name": "DescriptionStyleModel",
            "_view_count": null,
            "_view_module": "@jupyter-widgets/base",
            "_view_module_version": "1.2.0",
            "_view_name": "StyleView",
            "description_width": ""
          }
        },
        "0eed918bcd6740c788ed734b78deb97b": {
          "model_module": "@jupyter-widgets/controls",
          "model_name": "HBoxModel",
          "model_module_version": "1.5.0",
          "state": {
            "_dom_classes": [],
            "_model_module": "@jupyter-widgets/controls",
            "_model_module_version": "1.5.0",
            "_model_name": "HBoxModel",
            "_view_count": null,
            "_view_module": "@jupyter-widgets/controls",
            "_view_module_version": "1.5.0",
            "_view_name": "HBoxView",
            "box_style": "",
            "children": [
              "IPY_MODEL_3eb3d617eb4b460c8459ac8b363f67fc",
              "IPY_MODEL_d4a533f20ba542209252214db150a4b4",
              "IPY_MODEL_35076abe39f746b4a7841632e2272b27"
            ],
            "layout": "IPY_MODEL_2f8265c0ea624f24a3b4015a1a28594f"
          }
        },
        "3eb3d617eb4b460c8459ac8b363f67fc": {
          "model_module": "@jupyter-widgets/controls",
          "model_name": "HTMLModel",
          "model_module_version": "1.5.0",
          "state": {
            "_dom_classes": [],
            "_model_module": "@jupyter-widgets/controls",
            "_model_module_version": "1.5.0",
            "_model_name": "HTMLModel",
            "_view_count": null,
            "_view_module": "@jupyter-widgets/controls",
            "_view_module_version": "1.5.0",
            "_view_name": "HTMLView",
            "description": "",
            "description_tooltip": null,
            "layout": "IPY_MODEL_812b246188044dc69e7a8d251389aae8",
            "placeholder": "​",
            "style": "IPY_MODEL_bc8bc79652bf421c8b5cbbd67a5a32f1",
            "value": ""
          }
        },
        "d4a533f20ba542209252214db150a4b4": {
          "model_module": "@jupyter-widgets/controls",
          "model_name": "FloatProgressModel",
          "model_module_version": "1.5.0",
          "state": {
            "_dom_classes": [],
            "_model_module": "@jupyter-widgets/controls",
            "_model_module_version": "1.5.0",
            "_model_name": "FloatProgressModel",
            "_view_count": null,
            "_view_module": "@jupyter-widgets/controls",
            "_view_module_version": "1.5.0",
            "_view_name": "ProgressView",
            "bar_style": "success",
            "description": "",
            "description_tooltip": null,
            "layout": "IPY_MODEL_ae3fa865645d48eaac0068a065ee6ce5",
            "max": 4542,
            "min": 0,
            "orientation": "horizontal",
            "style": "IPY_MODEL_4bef55b45e02405fa0db563a4c7fc1b8",
            "value": 4542
          }
        },
        "35076abe39f746b4a7841632e2272b27": {
          "model_module": "@jupyter-widgets/controls",
          "model_name": "HTMLModel",
          "model_module_version": "1.5.0",
          "state": {
            "_dom_classes": [],
            "_model_module": "@jupyter-widgets/controls",
            "_model_module_version": "1.5.0",
            "_model_name": "HTMLModel",
            "_view_count": null,
            "_view_module": "@jupyter-widgets/controls",
            "_view_module_version": "1.5.0",
            "_view_name": "HTMLView",
            "description": "",
            "description_tooltip": null,
            "layout": "IPY_MODEL_a4bf891696e44ed2968845b7b2b1ee80",
            "placeholder": "​",
            "style": "IPY_MODEL_a3195ee52f2e44fda8b12f0e45884a31",
            "value": " 5120/? [00:00&lt;00:00, 133903.89it/s]"
          }
        },
        "2f8265c0ea624f24a3b4015a1a28594f": {
          "model_module": "@jupyter-widgets/base",
          "model_name": "LayoutModel",
          "model_module_version": "1.2.0",
          "state": {
            "_model_module": "@jupyter-widgets/base",
            "_model_module_version": "1.2.0",
            "_model_name": "LayoutModel",
            "_view_count": null,
            "_view_module": "@jupyter-widgets/base",
            "_view_module_version": "1.2.0",
            "_view_name": "LayoutView",
            "align_content": null,
            "align_items": null,
            "align_self": null,
            "border": null,
            "bottom": null,
            "display": null,
            "flex": null,
            "flex_flow": null,
            "grid_area": null,
            "grid_auto_columns": null,
            "grid_auto_flow": null,
            "grid_auto_rows": null,
            "grid_column": null,
            "grid_gap": null,
            "grid_row": null,
            "grid_template_areas": null,
            "grid_template_columns": null,
            "grid_template_rows": null,
            "height": null,
            "justify_content": null,
            "justify_items": null,
            "left": null,
            "margin": null,
            "max_height": null,
            "max_width": null,
            "min_height": null,
            "min_width": null,
            "object_fit": null,
            "object_position": null,
            "order": null,
            "overflow": null,
            "overflow_x": null,
            "overflow_y": null,
            "padding": null,
            "right": null,
            "top": null,
            "visibility": null,
            "width": null
          }
        },
        "812b246188044dc69e7a8d251389aae8": {
          "model_module": "@jupyter-widgets/base",
          "model_name": "LayoutModel",
          "model_module_version": "1.2.0",
          "state": {
            "_model_module": "@jupyter-widgets/base",
            "_model_module_version": "1.2.0",
            "_model_name": "LayoutModel",
            "_view_count": null,
            "_view_module": "@jupyter-widgets/base",
            "_view_module_version": "1.2.0",
            "_view_name": "LayoutView",
            "align_content": null,
            "align_items": null,
            "align_self": null,
            "border": null,
            "bottom": null,
            "display": null,
            "flex": null,
            "flex_flow": null,
            "grid_area": null,
            "grid_auto_columns": null,
            "grid_auto_flow": null,
            "grid_auto_rows": null,
            "grid_column": null,
            "grid_gap": null,
            "grid_row": null,
            "grid_template_areas": null,
            "grid_template_columns": null,
            "grid_template_rows": null,
            "height": null,
            "justify_content": null,
            "justify_items": null,
            "left": null,
            "margin": null,
            "max_height": null,
            "max_width": null,
            "min_height": null,
            "min_width": null,
            "object_fit": null,
            "object_position": null,
            "order": null,
            "overflow": null,
            "overflow_x": null,
            "overflow_y": null,
            "padding": null,
            "right": null,
            "top": null,
            "visibility": null,
            "width": null
          }
        },
        "bc8bc79652bf421c8b5cbbd67a5a32f1": {
          "model_module": "@jupyter-widgets/controls",
          "model_name": "DescriptionStyleModel",
          "model_module_version": "1.5.0",
          "state": {
            "_model_module": "@jupyter-widgets/controls",
            "_model_module_version": "1.5.0",
            "_model_name": "DescriptionStyleModel",
            "_view_count": null,
            "_view_module": "@jupyter-widgets/base",
            "_view_module_version": "1.2.0",
            "_view_name": "StyleView",
            "description_width": ""
          }
        },
        "ae3fa865645d48eaac0068a065ee6ce5": {
          "model_module": "@jupyter-widgets/base",
          "model_name": "LayoutModel",
          "model_module_version": "1.2.0",
          "state": {
            "_model_module": "@jupyter-widgets/base",
            "_model_module_version": "1.2.0",
            "_model_name": "LayoutModel",
            "_view_count": null,
            "_view_module": "@jupyter-widgets/base",
            "_view_module_version": "1.2.0",
            "_view_name": "LayoutView",
            "align_content": null,
            "align_items": null,
            "align_self": null,
            "border": null,
            "bottom": null,
            "display": null,
            "flex": null,
            "flex_flow": null,
            "grid_area": null,
            "grid_auto_columns": null,
            "grid_auto_flow": null,
            "grid_auto_rows": null,
            "grid_column": null,
            "grid_gap": null,
            "grid_row": null,
            "grid_template_areas": null,
            "grid_template_columns": null,
            "grid_template_rows": null,
            "height": null,
            "justify_content": null,
            "justify_items": null,
            "left": null,
            "margin": null,
            "max_height": null,
            "max_width": null,
            "min_height": null,
            "min_width": null,
            "object_fit": null,
            "object_position": null,
            "order": null,
            "overflow": null,
            "overflow_x": null,
            "overflow_y": null,
            "padding": null,
            "right": null,
            "top": null,
            "visibility": null,
            "width": null
          }
        },
        "4bef55b45e02405fa0db563a4c7fc1b8": {
          "model_module": "@jupyter-widgets/controls",
          "model_name": "ProgressStyleModel",
          "model_module_version": "1.5.0",
          "state": {
            "_model_module": "@jupyter-widgets/controls",
            "_model_module_version": "1.5.0",
            "_model_name": "ProgressStyleModel",
            "_view_count": null,
            "_view_module": "@jupyter-widgets/base",
            "_view_module_version": "1.2.0",
            "_view_name": "StyleView",
            "bar_color": null,
            "description_width": ""
          }
        },
        "a4bf891696e44ed2968845b7b2b1ee80": {
          "model_module": "@jupyter-widgets/base",
          "model_name": "LayoutModel",
          "model_module_version": "1.2.0",
          "state": {
            "_model_module": "@jupyter-widgets/base",
            "_model_module_version": "1.2.0",
            "_model_name": "LayoutModel",
            "_view_count": null,
            "_view_module": "@jupyter-widgets/base",
            "_view_module_version": "1.2.0",
            "_view_name": "LayoutView",
            "align_content": null,
            "align_items": null,
            "align_self": null,
            "border": null,
            "bottom": null,
            "display": null,
            "flex": null,
            "flex_flow": null,
            "grid_area": null,
            "grid_auto_columns": null,
            "grid_auto_flow": null,
            "grid_auto_rows": null,
            "grid_column": null,
            "grid_gap": null,
            "grid_row": null,
            "grid_template_areas": null,
            "grid_template_columns": null,
            "grid_template_rows": null,
            "height": null,
            "justify_content": null,
            "justify_items": null,
            "left": null,
            "margin": null,
            "max_height": null,
            "max_width": null,
            "min_height": null,
            "min_width": null,
            "object_fit": null,
            "object_position": null,
            "order": null,
            "overflow": null,
            "overflow_x": null,
            "overflow_y": null,
            "padding": null,
            "right": null,
            "top": null,
            "visibility": null,
            "width": null
          }
        },
        "a3195ee52f2e44fda8b12f0e45884a31": {
          "model_module": "@jupyter-widgets/controls",
          "model_name": "DescriptionStyleModel",
          "model_module_version": "1.5.0",
          "state": {
            "_model_module": "@jupyter-widgets/controls",
            "_model_module_version": "1.5.0",
            "_model_name": "DescriptionStyleModel",
            "_view_count": null,
            "_view_module": "@jupyter-widgets/base",
            "_view_module_version": "1.2.0",
            "_view_name": "StyleView",
            "description_width": ""
          }
        }
      }
    }
  },
  "cells": [
    {
      "cell_type": "markdown",
      "metadata": {
        "id": "view-in-github",
        "colab_type": "text"
      },
      "source": [
        "<a href=\"https://colab.research.google.com/github/leebs0521/Machine-Learning-2022/blob/main/%ED%8C%8C%EC%9D%B4%ED%86%A0%EC%B9%98(PyTorch)_%EA%B8%B0%EC%B4%88.ipynb\" target=\"_parent\"><img src=\"https://colab.research.google.com/assets/colab-badge.svg\" alt=\"Open In Colab\"/></a>"
      ]
    },
    {
      "cell_type": "markdown",
      "metadata": {
        "id": "f9Xx-jP92OgP"
      },
      "source": [
        "# 파이토치(PyTorch)\n",
        "\n",
        "<img src=\"https://img1.daumcdn.net/thumb/R800x0/?scode=mtistory2&fname=https%3A%2F%2Fblog.kakaocdn.net%2Fdn%2FbuUgoV%2FbtqwWZvcHHX%2Fd6XzIFBEfiuFb0UvyV4A50%2Fimg.jpg\" width=\"300\">\n",
        "\n",
        "- 코드 출처: https://pytorch.org/tutorials/"
      ]
    },
    {
      "cell_type": "markdown",
      "metadata": {
        "id": "3cxreguz2sL0"
      },
      "source": [
        "## 파이토치의 구성요소\n",
        "\n",
        "- `torch`: 텐서를 생성하는 라이브러리\n",
        "\n",
        "- `torch.autograd`: 자동미분 기능을 제공하는 라이브러리\n",
        "\n",
        "- `torch.nn`: 신경망을 생성하는 라이브러리\n",
        "\n",
        "- `torch.multiprocessing`: 병럴처리 기능을 제공하는 라이브러리\n",
        "\n",
        "- `torch.utils`: 데이터 조작 등 유틸리티 기능 제공\n",
        "\n",
        "- `torch.legacy`(./nn/.optim): Torch로부터 포팅해온 코드\n",
        "\n",
        "- `torch.onnx`: ONNX(Open Neural Network Exchange)\n",
        "\n",
        "  - 서로 다른 프레임워크 간의 모델을 공유할 때 사용"
      ]
    },
    {
      "cell_type": "markdown",
      "metadata": {
        "id": "gb5O_aSvtHvb"
      },
      "source": [
        "## 텐서(Tensors)\n",
        "- 넘파이(NumPy)의 ndarray와 유사\n",
        "\n",
        "- GPU를 사용한 연산 가속도 가능"
      ]
    },
    {
      "cell_type": "code",
      "metadata": {
        "id": "CmKIvnx0s8G6"
      },
      "source": [
        "import torch"
      ],
      "execution_count": null,
      "outputs": []
    },
    {
      "cell_type": "code",
      "metadata": {
        "id": "49IHV-qJE5FI",
        "colab": {
          "base_uri": "https://localhost:8080/",
          "height": 35
        },
        "outputId": "7e6a4ea6-d83d-411f-81f6-ab42a621b468"
      },
      "source": [
        "torch.__version__"
      ],
      "execution_count": null,
      "outputs": [
        {
          "output_type": "execute_result",
          "data": {
            "text/plain": [
              "'1.11.0+cu113'"
            ],
            "application/vnd.google.colaboratory.intrinsic+json": {
              "type": "string"
            }
          },
          "metadata": {},
          "execution_count": 2
        }
      ]
    },
    {
      "cell_type": "markdown",
      "metadata": {
        "id": "isUHVy-gtZeT"
      },
      "source": [
        "### 초기화 되지 않은 행렬 "
      ]
    },
    {
      "cell_type": "code",
      "metadata": {
        "id": "3PqY3cZatU0D",
        "colab": {
          "base_uri": "https://localhost:8080/"
        },
        "outputId": "f54380eb-fa26-424d-86b9-8cebefdddf18"
      },
      "source": [
        "x = torch.empty(4,2)\n",
        "print(x)"
      ],
      "execution_count": null,
      "outputs": [
        {
          "output_type": "stream",
          "name": "stdout",
          "text": [
            "tensor([[1.5483e-35, 0.0000e+00],\n",
            "        [3.3631e-44, 0.0000e+00],\n",
            "        [       nan, 0.0000e+00],\n",
            "        [1.1578e+27, 1.1362e+30]])\n"
          ]
        }
      ]
    },
    {
      "cell_type": "markdown",
      "metadata": {
        "id": "zPCIJ2pNteZv"
      },
      "source": [
        "### 무작위로 초기화된 행렬"
      ]
    },
    {
      "cell_type": "code",
      "metadata": {
        "id": "h6oPj2Q9tdYx",
        "colab": {
          "base_uri": "https://localhost:8080/"
        },
        "outputId": "93f1109f-8417-4f80-9b46-f193aaf28633"
      },
      "source": [
        "y = torch.rand(4,2)\n",
        "print(y)"
      ],
      "execution_count": null,
      "outputs": [
        {
          "output_type": "stream",
          "name": "stdout",
          "text": [
            "tensor([[0.0176, 0.7431],\n",
            "        [0.1962, 0.8072],\n",
            "        [0.7881, 0.6934],\n",
            "        [0.6589, 0.9308]])\n"
          ]
        }
      ]
    },
    {
      "cell_type": "markdown",
      "metadata": {
        "id": "A5aHphIHtiJk"
      },
      "source": [
        "### dtype이 long, 0으로 채워진 텐서"
      ]
    },
    {
      "cell_type": "code",
      "metadata": {
        "id": "4zykN8aMthXk",
        "colab": {
          "base_uri": "https://localhost:8080/"
        },
        "outputId": "5548b64f-67a5-4ecb-f9d5-ebfbbf4ba217"
      },
      "source": [
        "x = torch.zeros(4,2,dtype=torch.long)\n",
        "print(x)"
      ],
      "execution_count": null,
      "outputs": [
        {
          "output_type": "stream",
          "name": "stdout",
          "text": [
            "tensor([[0, 0],\n",
            "        [0, 0],\n",
            "        [0, 0],\n",
            "        [0, 0]])\n"
          ]
        }
      ]
    },
    {
      "cell_type": "code",
      "metadata": {
        "id": "W4VL8C_ctu8b",
        "colab": {
          "base_uri": "https://localhost:8080/"
        },
        "outputId": "0cedb0d0-3dda-461a-a134-0a264d785a29"
      },
      "source": [
        "x = torch.tensor([3,2.3])\n",
        "print(x)"
      ],
      "execution_count": null,
      "outputs": [
        {
          "output_type": "stream",
          "name": "stdout",
          "text": [
            "tensor([3.0000, 2.3000])\n"
          ]
        }
      ]
    },
    {
      "cell_type": "code",
      "metadata": {
        "id": "4RmVBVtIt46M",
        "colab": {
          "base_uri": "https://localhost:8080/"
        },
        "outputId": "0eba0e62-0898-4f08-8c16-7c0e2c832118"
      },
      "source": [
        "x = x.new_ones(2,4,dtype=torch.double)\n",
        "print(x)"
      ],
      "execution_count": null,
      "outputs": [
        {
          "output_type": "stream",
          "name": "stdout",
          "text": [
            "tensor([[1., 1., 1., 1.],\n",
            "        [1., 1., 1., 1.]], dtype=torch.float64)\n"
          ]
        }
      ]
    },
    {
      "cell_type": "code",
      "metadata": {
        "id": "xxskTUfGuPUe",
        "colab": {
          "base_uri": "https://localhost:8080/"
        },
        "outputId": "421596b9-54f2-478b-f6aa-0aaa3aa3e817"
      },
      "source": [
        "x=torch.randn_like(x,dtype=torch.float)\n",
        "print(x)"
      ],
      "execution_count": null,
      "outputs": [
        {
          "output_type": "stream",
          "name": "stdout",
          "text": [
            "tensor([[-1.1318,  0.0108,  1.0281, -0.7919],\n",
            "        [-1.1725, -0.0474,  0.9917,  0.3916]])\n"
          ]
        }
      ]
    },
    {
      "cell_type": "markdown",
      "metadata": {
        "id": "7j5sGxGvucpH"
      },
      "source": [
        "### 텐서의 크기"
      ]
    },
    {
      "cell_type": "code",
      "metadata": {
        "id": "yy-JbqKEuYIR",
        "colab": {
          "base_uri": "https://localhost:8080/"
        },
        "outputId": "fed45d09-d940-4a22-cab1-aa2c42bd7496"
      },
      "source": [
        "print(x.size())"
      ],
      "execution_count": null,
      "outputs": [
        {
          "output_type": "stream",
          "name": "stdout",
          "text": [
            "torch.Size([2, 4])\n"
          ]
        }
      ]
    },
    {
      "cell_type": "markdown",
      "metadata": {
        "id": "ehOg0eDwufru"
      },
      "source": [
        "## 텐서의 연산(operations)"
      ]
    },
    {
      "cell_type": "markdown",
      "metadata": {
        "id": "j8Doc_37uh3G"
      },
      "source": [
        "### 덧셈 1"
      ]
    },
    {
      "cell_type": "code",
      "metadata": {
        "id": "Rw4JCYkYuef9",
        "colab": {
          "base_uri": "https://localhost:8080/"
        },
        "outputId": "93662be7-6a63-4105-86f1-28c3dc27973a"
      },
      "source": [
        "print(x)"
      ],
      "execution_count": null,
      "outputs": [
        {
          "output_type": "stream",
          "name": "stdout",
          "text": [
            "tensor([[-1.1318,  0.0108,  1.0281, -0.7919],\n",
            "        [-1.1725, -0.0474,  0.9917,  0.3916]])\n"
          ]
        }
      ]
    },
    {
      "cell_type": "code",
      "metadata": {
        "id": "Wa44ur1Nuj5U",
        "colab": {
          "base_uri": "https://localhost:8080/"
        },
        "outputId": "2cbe11dc-ba58-4ea0-b90b-95219227bac0"
      },
      "source": [
        "y = torch.rand(2,4)\n",
        "print(y)\n",
        "print(x+y)"
      ],
      "execution_count": null,
      "outputs": [
        {
          "output_type": "stream",
          "name": "stdout",
          "text": [
            "tensor([[0.2577, 0.2576, 0.5699, 0.6180],\n",
            "        [0.4841, 0.0319, 0.2674, 0.9347]])\n",
            "tensor([[-0.8741,  0.2684,  1.5980, -0.1740],\n",
            "        [-0.6884, -0.0155,  1.2591,  1.3264]])\n"
          ]
        }
      ]
    },
    {
      "cell_type": "markdown",
      "metadata": {
        "id": "E5gcOo-Ouo9B"
      },
      "source": [
        "### 덧셈2"
      ]
    },
    {
      "cell_type": "code",
      "metadata": {
        "id": "Qx-NzJhhumZx",
        "colab": {
          "base_uri": "https://localhost:8080/"
        },
        "outputId": "51efe883-40b6-4773-9c83-6aa827fd53d3"
      },
      "source": [
        "print(torch.add(x,y))"
      ],
      "execution_count": null,
      "outputs": [
        {
          "output_type": "stream",
          "name": "stdout",
          "text": [
            "tensor([[-0.8741,  0.2684,  1.5980, -0.1740],\n",
            "        [-0.6884, -0.0155,  1.2591,  1.3264]])\n"
          ]
        }
      ]
    },
    {
      "cell_type": "markdown",
      "metadata": {
        "id": "RlvrQhLuuuIr"
      },
      "source": [
        "### 덧셈3\n",
        "- 결과 텐서를 인자로 제공"
      ]
    },
    {
      "cell_type": "code",
      "metadata": {
        "id": "lUsLAOTcur1-",
        "colab": {
          "base_uri": "https://localhost:8080/"
        },
        "outputId": "aaf1a9eb-2a6d-419f-a317-8a18ef93e1de"
      },
      "source": [
        "result = torch.empty(2,4)\n",
        "torch.add(x,y,out=result)\n",
        "print(result)"
      ],
      "execution_count": null,
      "outputs": [
        {
          "output_type": "stream",
          "name": "stdout",
          "text": [
            "tensor([[-0.8741,  0.2684,  1.5980, -0.1740],\n",
            "        [-0.6884, -0.0155,  1.2591,  1.3264]])\n"
          ]
        }
      ]
    },
    {
      "cell_type": "markdown",
      "metadata": {
        "id": "V6BdyZFSu2Ei"
      },
      "source": [
        "### 덧셈4\n",
        "- `in-place` 방식\n",
        "\n",
        "- (참고) in-place 방식\n",
        "  - in-place방식으로 텐서의 값을 변경하는 연산 뒤에는 _''가 붙음\n",
        "  - `x.copy_(y), x.t_()`"
      ]
    },
    {
      "cell_type": "code",
      "metadata": {
        "id": "lu8rR4WVu0wQ",
        "colab": {
          "base_uri": "https://localhost:8080/"
        },
        "outputId": "a3b37f56-6462-4d3f-e602-b971d27f657f"
      },
      "source": [
        "print(x)\n",
        "print(y)\n",
        "y.add_(x)\n",
        "print(y)"
      ],
      "execution_count": null,
      "outputs": [
        {
          "output_type": "stream",
          "name": "stdout",
          "text": [
            "tensor([[-1.1318,  0.0108,  1.0281, -0.7919],\n",
            "        [-1.1725, -0.0474,  0.9917,  0.3916]])\n",
            "tensor([[0.2577, 0.2576, 0.5699, 0.6180],\n",
            "        [0.4841, 0.0319, 0.2674, 0.9347]])\n",
            "tensor([[-0.8741,  0.2684,  1.5980, -0.1740],\n",
            "        [-0.6884, -0.0155,  1.2591,  1.3264]])\n"
          ]
        }
      ]
    },
    {
      "cell_type": "markdown",
      "metadata": {
        "id": "Uo8nsrGjOw6W"
      },
      "source": [
        "### 그 외의 연산\n",
        "- `torch.sub` : 뺄셈\n",
        "\n",
        "- `torch.mul` : 곱셉\n",
        "\n",
        "- `torch.div` : 나눗셈\n",
        "\n",
        "- `torch.mm` : 내적(dot product)"
      ]
    },
    {
      "cell_type": "code",
      "metadata": {
        "id": "S51kxzPTO1ER",
        "colab": {
          "base_uri": "https://localhost:8080/"
        },
        "outputId": "ef007b34-66dd-4a1f-a59b-8045b306e0c8"
      },
      "source": [
        "x = torch.Tensor([[1,3],\n",
        "                 [5,7]])\n",
        "y = torch.Tensor([[2,4],\n",
        "                 [6,8]])\n",
        "print(x-y)\n",
        "print(torch.sub(x,y))\n",
        "print(x.sub(y))"
      ],
      "execution_count": null,
      "outputs": [
        {
          "output_type": "stream",
          "name": "stdout",
          "text": [
            "tensor([[-1., -1.],\n",
            "        [-1., -1.]])\n",
            "tensor([[-1., -1.],\n",
            "        [-1., -1.]])\n",
            "tensor([[-1., -1.],\n",
            "        [-1., -1.]])\n"
          ]
        }
      ]
    },
    {
      "cell_type": "code",
      "metadata": {
        "id": "ou0dY8mkPR24",
        "colab": {
          "base_uri": "https://localhost:8080/"
        },
        "outputId": "b88223ce-4346-4031-ead1-882ef02cbe00"
      },
      "source": [
        "x = torch.Tensor([[1,3],\n",
        "                 [5,7]])\n",
        "y = torch.Tensor([[2,4],\n",
        "                 [6,8]])\n",
        "print(x*y)\n",
        "print(torch.mul(x,y))\n",
        "print(x.mul(y))"
      ],
      "execution_count": null,
      "outputs": [
        {
          "output_type": "stream",
          "name": "stdout",
          "text": [
            "tensor([[ 2., 12.],\n",
            "        [30., 56.]])\n",
            "tensor([[ 2., 12.],\n",
            "        [30., 56.]])\n",
            "tensor([[ 2., 12.],\n",
            "        [30., 56.]])\n"
          ]
        }
      ]
    },
    {
      "cell_type": "code",
      "metadata": {
        "id": "6RlZZBp3PbE4",
        "colab": {
          "base_uri": "https://localhost:8080/"
        },
        "outputId": "5c517f1a-52f8-4a8b-ef58-5884a4c84401"
      },
      "source": [
        "x = torch.Tensor([[1,3],\n",
        "                 [5,7]])\n",
        "y = torch.Tensor([[2,4],\n",
        "                 [6,8]])\n",
        "print(x/y)\n",
        "print(torch.div(x,y))\n",
        "print(x.div(y))"
      ],
      "execution_count": null,
      "outputs": [
        {
          "output_type": "stream",
          "name": "stdout",
          "text": [
            "tensor([[0.5000, 0.7500],\n",
            "        [0.8333, 0.8750]])\n",
            "tensor([[0.5000, 0.7500],\n",
            "        [0.8333, 0.8750]])\n",
            "tensor([[0.5000, 0.7500],\n",
            "        [0.8333, 0.8750]])\n"
          ]
        }
      ]
    },
    {
      "cell_type": "code",
      "metadata": {
        "id": "7MR-ofE5P7VC",
        "colab": {
          "base_uri": "https://localhost:8080/"
        },
        "outputId": "a1f5f853-50cb-43ed-8b87-dde27cd2e75a"
      },
      "source": [
        "x = torch.Tensor([[1,3],\n",
        "                 [5,7]])\n",
        "y = torch.Tensor([[2,4],\n",
        "                 [6,8]])\n",
        "print(torch.mm(x,y))"
      ],
      "execution_count": null,
      "outputs": [
        {
          "output_type": "stream",
          "name": "stdout",
          "text": [
            "tensor([[20., 28.],\n",
            "        [52., 76.]])\n"
          ]
        }
      ]
    },
    {
      "cell_type": "markdown",
      "metadata": {
        "id": "8URGwHE_NjDi"
      },
      "source": [
        "## 텐서의 조작(manipulations)"
      ]
    },
    {
      "cell_type": "markdown",
      "metadata": {
        "id": "uCsdZIPTvG53"
      },
      "source": [
        "### 인덱싱\n",
        "- 넘파이처럼 인덱싱 사용가능"
      ]
    },
    {
      "cell_type": "code",
      "metadata": {
        "id": "jF2DE8kzvOs3",
        "colab": {
          "base_uri": "https://localhost:8080/"
        },
        "outputId": "dd532424-021a-47bd-f3eb-45c29701764d"
      },
      "source": [
        "print(x)"
      ],
      "execution_count": null,
      "outputs": [
        {
          "output_type": "stream",
          "name": "stdout",
          "text": [
            "tensor([[1., 3.],\n",
            "        [5., 7.]])\n"
          ]
        }
      ]
    },
    {
      "cell_type": "code",
      "metadata": {
        "id": "GQtBH3r3u7c3",
        "colab": {
          "base_uri": "https://localhost:8080/"
        },
        "outputId": "20cc2411-698d-46e8-bd6a-56c51c304e8d"
      },
      "source": [
        "print(x[:,1])"
      ],
      "execution_count": null,
      "outputs": [
        {
          "output_type": "stream",
          "name": "stdout",
          "text": [
            "tensor([3., 7.])\n"
          ]
        }
      ]
    },
    {
      "cell_type": "markdown",
      "metadata": {
        "id": "jEscXddKvQ5l"
      },
      "source": [
        "### view\n",
        "- 텐서의 크기(size)나 모양(shape)을 변경"
      ]
    },
    {
      "cell_type": "code",
      "metadata": {
        "id": "xwhWeqhLvKKj",
        "colab": {
          "base_uri": "https://localhost:8080/"
        },
        "outputId": "9c245030-4cb3-429d-fe16-ce51425eeb62"
      },
      "source": [
        "x = torch.randn(4,5)\n",
        "y = x.view(20)\n",
        "z = x.view(5,-1)\n",
        "\n",
        "print(x.size())\n",
        "print(y.size())\n",
        "print(z.size())\n",
        "print(x)\n",
        "print(y)\n",
        "print(z)"
      ],
      "execution_count": null,
      "outputs": [
        {
          "output_type": "stream",
          "name": "stdout",
          "text": [
            "torch.Size([4, 5])\n",
            "torch.Size([20])\n",
            "torch.Size([5, 4])\n",
            "tensor([[ 0.7555, -0.2646,  0.2428,  0.5424,  0.7750],\n",
            "        [-1.1247,  1.2419,  1.4557, -1.2252, -0.2967],\n",
            "        [-0.6579,  0.7936, -1.4235, -0.6193, -1.6316],\n",
            "        [-0.2436, -0.1507,  0.2529,  1.1520,  1.1251]])\n",
            "tensor([ 0.7555, -0.2646,  0.2428,  0.5424,  0.7750, -1.1247,  1.2419,  1.4557,\n",
            "        -1.2252, -0.2967, -0.6579,  0.7936, -1.4235, -0.6193, -1.6316, -0.2436,\n",
            "        -0.1507,  0.2529,  1.1520,  1.1251])\n",
            "tensor([[ 0.7555, -0.2646,  0.2428,  0.5424],\n",
            "        [ 0.7750, -1.1247,  1.2419,  1.4557],\n",
            "        [-1.2252, -0.2967, -0.6579,  0.7936],\n",
            "        [-1.4235, -0.6193, -1.6316, -0.2436],\n",
            "        [-0.1507,  0.2529,  1.1520,  1.1251]])\n"
          ]
        }
      ]
    },
    {
      "cell_type": "markdown",
      "metadata": {
        "id": "iBY_wuIRvf5j"
      },
      "source": [
        "### item\n",
        "- 텐서에 값이 단 하나라도 존재하면 숫자값을 얻을 수 있음\n"
      ]
    },
    {
      "cell_type": "code",
      "metadata": {
        "id": "E0W24QqpvcmV",
        "colab": {
          "base_uri": "https://localhost:8080/"
        },
        "outputId": "9ffed13b-e29a-4127-c7e8-f38186683f78"
      },
      "source": [
        "x= torch.randn(1)\n",
        "print(x)\n",
        "print(x.item())\n",
        "print(x.dtype)"
      ],
      "execution_count": null,
      "outputs": [
        {
          "output_type": "stream",
          "name": "stdout",
          "text": [
            "tensor([0.7374])\n",
            "0.7374337315559387\n",
            "torch.float32\n"
          ]
        }
      ]
    },
    {
      "cell_type": "markdown",
      "metadata": {
        "id": "V1sCUVwC3Nua"
      },
      "source": [
        "- 스칼라값 하나만 존재해야함"
      ]
    },
    {
      "cell_type": "code",
      "metadata": {
        "id": "jl4_FAgd3Lt9",
        "colab": {
          "base_uri": "https://localhost:8080/",
          "height": 236
        },
        "outputId": "6b9cb77a-9162-4a6d-dc69-a1ed782af217"
      },
      "source": [
        "x= torch.randn(2)\n",
        "print(x)\n",
        "print(x.item())\n",
        "print(x.dtype)"
      ],
      "execution_count": null,
      "outputs": [
        {
          "output_type": "stream",
          "name": "stdout",
          "text": [
            "tensor([0.3315, 2.2647])\n"
          ]
        },
        {
          "output_type": "error",
          "ename": "ValueError",
          "evalue": "ignored",
          "traceback": [
            "\u001b[0;31m---------------------------------------------------------------------------\u001b[0m",
            "\u001b[0;31mValueError\u001b[0m                                Traceback (most recent call last)",
            "\u001b[0;32m<ipython-input-28-61df4f4b833e>\u001b[0m in \u001b[0;36m<module>\u001b[0;34m()\u001b[0m\n\u001b[1;32m      1\u001b[0m \u001b[0mx\u001b[0m\u001b[0;34m=\u001b[0m \u001b[0mtorch\u001b[0m\u001b[0;34m.\u001b[0m\u001b[0mrandn\u001b[0m\u001b[0;34m(\u001b[0m\u001b[0;36m2\u001b[0m\u001b[0;34m)\u001b[0m\u001b[0;34m\u001b[0m\u001b[0;34m\u001b[0m\u001b[0m\n\u001b[1;32m      2\u001b[0m \u001b[0mprint\u001b[0m\u001b[0;34m(\u001b[0m\u001b[0mx\u001b[0m\u001b[0;34m)\u001b[0m\u001b[0;34m\u001b[0m\u001b[0;34m\u001b[0m\u001b[0m\n\u001b[0;32m----> 3\u001b[0;31m \u001b[0mprint\u001b[0m\u001b[0;34m(\u001b[0m\u001b[0mx\u001b[0m\u001b[0;34m.\u001b[0m\u001b[0mitem\u001b[0m\u001b[0;34m(\u001b[0m\u001b[0;34m)\u001b[0m\u001b[0;34m)\u001b[0m\u001b[0;34m\u001b[0m\u001b[0;34m\u001b[0m\u001b[0m\n\u001b[0m\u001b[1;32m      4\u001b[0m \u001b[0mprint\u001b[0m\u001b[0;34m(\u001b[0m\u001b[0mx\u001b[0m\u001b[0;34m.\u001b[0m\u001b[0mdtype\u001b[0m\u001b[0;34m)\u001b[0m\u001b[0;34m\u001b[0m\u001b[0;34m\u001b[0m\u001b[0m\n",
            "\u001b[0;31mValueError\u001b[0m: only one element tensors can be converted to Python scalars"
          ]
        }
      ]
    },
    {
      "cell_type": "markdown",
      "metadata": {
        "id": "uThndsy5M6wM"
      },
      "source": [
        "### squeeze \n",
        "- 차원을 축소(제거)"
      ]
    },
    {
      "cell_type": "code",
      "metadata": {
        "id": "OF3rOavnRxgM",
        "colab": {
          "base_uri": "https://localhost:8080/"
        },
        "outputId": "2a5f41ca-214b-47d6-ba87-dc1dc3a1f9f9"
      },
      "source": [
        "tensor = torch.rand(1,3,3)\n",
        "tensor.shape"
      ],
      "execution_count": null,
      "outputs": [
        {
          "output_type": "execute_result",
          "data": {
            "text/plain": [
              "torch.Size([1, 3, 3])"
            ]
          },
          "metadata": {},
          "execution_count": 29
        }
      ]
    },
    {
      "cell_type": "code",
      "metadata": {
        "id": "Y2jq0jHJR5Jw",
        "colab": {
          "base_uri": "https://localhost:8080/"
        },
        "outputId": "35693cf3-9aa5-44d2-c958-383ff82a1877"
      },
      "source": [
        "t = tensor.squeeze()\n",
        "\n",
        "print(t)\n",
        "print(t.shape)"
      ],
      "execution_count": null,
      "outputs": [
        {
          "output_type": "stream",
          "name": "stdout",
          "text": [
            "tensor([[0.9917, 0.9028, 0.2035],\n",
            "        [0.7800, 0.9653, 0.0422],\n",
            "        [0.6079, 0.6259, 0.1681]])\n",
            "torch.Size([3, 3])\n"
          ]
        }
      ]
    },
    {
      "cell_type": "markdown",
      "metadata": {
        "id": "COv-dnTYNJ8Z"
      },
      "source": [
        "### unsqueeze\n",
        "- 차원을 증가(생성)"
      ]
    },
    {
      "cell_type": "code",
      "metadata": {
        "id": "PFxaHGY1NOBo",
        "colab": {
          "base_uri": "https://localhost:8080/"
        },
        "outputId": "d21063dc-0e7f-4e4b-9c38-02716aa0ba19"
      },
      "source": [
        "tensor = torch.rand(1,3,3)\n",
        "print(tensor)\n",
        "print(tensor.shape)"
      ],
      "execution_count": null,
      "outputs": [
        {
          "output_type": "stream",
          "name": "stdout",
          "text": [
            "tensor([[[0.5697, 0.5254, 0.9351],\n",
            "         [0.0681, 0.0390, 0.6984],\n",
            "         [0.5517, 0.4755, 0.3096]]])\n",
            "torch.Size([1, 3, 3])\n"
          ]
        }
      ]
    },
    {
      "cell_type": "code",
      "metadata": {
        "id": "b6sa4tJ7SA8G",
        "colab": {
          "base_uri": "https://localhost:8080/"
        },
        "outputId": "8c10ec64-ef01-481e-fa53-e14cad4f4ed6"
      },
      "source": [
        "t = tensor.unsqueeze(dim  = 1)\n",
        "print(t)\n",
        "print(t.shape)"
      ],
      "execution_count": null,
      "outputs": [
        {
          "output_type": "stream",
          "name": "stdout",
          "text": [
            "tensor([[[[0.5697, 0.5254, 0.9351],\n",
            "          [0.0681, 0.0390, 0.6984],\n",
            "          [0.5517, 0.4755, 0.3096]]]])\n",
            "torch.Size([1, 1, 3, 3])\n"
          ]
        }
      ]
    },
    {
      "cell_type": "markdown",
      "metadata": {
        "id": "_C_oa9JANOa6"
      },
      "source": [
        "### stack\n",
        "- 텐서간 결합"
      ]
    },
    {
      "cell_type": "code",
      "metadata": {
        "id": "f3x_XaUYNOuc",
        "colab": {
          "base_uri": "https://localhost:8080/"
        },
        "outputId": "a10d3818-6e7f-4c62-ba05-03009e303bf8"
      },
      "source": [
        "x = torch.FloatTensor([1,4])\n",
        "y = torch.FloatTensor([2,5])\n",
        "z = torch.FloatTensor([3,6])\n",
        "\n",
        "print(torch.stack([x,y,z]))"
      ],
      "execution_count": null,
      "outputs": [
        {
          "output_type": "stream",
          "name": "stdout",
          "text": [
            "tensor([[1., 4.],\n",
            "        [2., 5.],\n",
            "        [3., 6.]])\n"
          ]
        }
      ]
    },
    {
      "cell_type": "markdown",
      "metadata": {
        "id": "XmJscbfg35-c"
      },
      "source": [
        "### cat\n",
        "- 텐서를 결합하는 메소드(concatenate)\n",
        "\n",
        "- 넘파이의 `stack`과 유사하지만, 쌓을 dim이 존재해야함\n",
        "  - 예를 들어, 해당 차원을 늘려준 후 결합\n"
      ]
    },
    {
      "cell_type": "code",
      "metadata": {
        "id": "Mv3zlaNm37P1",
        "colab": {
          "base_uri": "https://localhost:8080/"
        },
        "outputId": "22237fc0-72b7-40c2-efb4-92c6ff780eb3"
      },
      "source": [
        "a = torch.randn(1,1,3,3)\n",
        "b = torch.randn(1,1,3,3)\n",
        "c = torch.cat((a,b), dim = 0)\n",
        "\n",
        "print(c)\n",
        "print(c.size())"
      ],
      "execution_count": null,
      "outputs": [
        {
          "output_type": "stream",
          "name": "stdout",
          "text": [
            "tensor([[[[-0.4358, -1.8228, -1.1827],\n",
            "          [ 1.5524, -1.7519, -0.3270],\n",
            "          [-0.2148,  0.6648, -0.9656]]],\n",
            "\n",
            "\n",
            "        [[[ 1.3047,  0.0457, -0.5966],\n",
            "          [-0.4323, -1.8360, -0.7578],\n",
            "          [ 0.1933, -0.0530, -0.8740]]]])\n",
            "torch.Size([2, 1, 3, 3])\n"
          ]
        }
      ]
    },
    {
      "cell_type": "code",
      "metadata": {
        "id": "69M5jY60S7Mi",
        "colab": {
          "base_uri": "https://localhost:8080/"
        },
        "outputId": "6cb18b77-0293-47fd-ae13-ef1c18f97681"
      },
      "source": [
        "a = torch.randn(1,3,3)\n",
        "b = torch.randn(1,3,3)\n",
        "c = torch.cat((a,b), dim = 2)\n",
        "\n",
        "print(c)\n",
        "print(c.size())"
      ],
      "execution_count": null,
      "outputs": [
        {
          "output_type": "stream",
          "name": "stdout",
          "text": [
            "tensor([[[ 0.3801, -0.4559,  0.1123, -1.2786, -0.2764, -0.4682],\n",
            "         [-1.0782, -1.4689, -0.0789, -0.8636, -1.0143, -2.0794],\n",
            "         [-0.8686, -0.5813,  1.0932, -0.2570,  0.8828,  0.2035]]])\n",
            "torch.Size([1, 3, 6])\n"
          ]
        }
      ]
    },
    {
      "cell_type": "markdown",
      "metadata": {
        "id": "7gGXnOAqQTmG"
      },
      "source": [
        "### chuck\n",
        "- 텐서를 여러 개로 나눌 때 사용\n",
        "\n",
        "- 몇 개의 텐서로 나눌 것이냐"
      ]
    },
    {
      "cell_type": "code",
      "metadata": {
        "id": "pNV80VzPQZgG",
        "colab": {
          "base_uri": "https://localhost:8080/"
        },
        "outputId": "013e4f95-7efb-4e55-dac5-56ea9b13db39"
      },
      "source": [
        "tensor = torch.rand(3,6)\n",
        "t1, t2, t3 = torch.chunk(tensor, 3, dim =1)\n",
        "\n",
        "print(tensor)\n",
        "print(t1)\n",
        "print(t2)\n",
        "print(t3)"
      ],
      "execution_count": null,
      "outputs": [
        {
          "output_type": "stream",
          "name": "stdout",
          "text": [
            "tensor([[0.8137, 0.0150, 0.2014, 0.9488, 0.8331, 0.2109],\n",
            "        [0.3887, 0.3669, 0.9982, 0.1756, 0.6995, 0.8715],\n",
            "        [0.6533, 0.7375, 0.7321, 0.7030, 0.5185, 0.6824]])\n",
            "tensor([[0.8137, 0.0150],\n",
            "        [0.3887, 0.3669],\n",
            "        [0.6533, 0.7375]])\n",
            "tensor([[0.2014, 0.9488],\n",
            "        [0.9982, 0.1756],\n",
            "        [0.7321, 0.7030]])\n",
            "tensor([[0.8331, 0.2109],\n",
            "        [0.6995, 0.8715],\n",
            "        [0.5185, 0.6824]])\n"
          ]
        }
      ]
    },
    {
      "cell_type": "markdown",
      "metadata": {
        "id": "7U0Qb0jWQgm-"
      },
      "source": [
        "### split\n",
        "- `chunck`와 동일한 기능이지만 조금 다름\n",
        "\n",
        "- 하나의 텐서당 크기가 얼마이냐"
      ]
    },
    {
      "cell_type": "code",
      "metadata": {
        "id": "1V6DDnLVQqxz",
        "colab": {
          "base_uri": "https://localhost:8080/"
        },
        "outputId": "17559339-315f-41c4-ea38-a6de2f2825ef"
      },
      "source": [
        "tensor = torch.rand(3,6)\n",
        "t1, t2 = torch.split(tensor, 3, dim=1)\n",
        "\n",
        "print(tensor)\n",
        "print(t1)\n",
        "print(t2)"
      ],
      "execution_count": null,
      "outputs": [
        {
          "output_type": "stream",
          "name": "stdout",
          "text": [
            "tensor([[0.9100, 0.3872, 0.3746, 0.2509, 0.3337, 0.8014],\n",
            "        [0.2295, 0.3951, 0.5517, 0.2203, 0.0389, 0.3314],\n",
            "        [0.4601, 0.8628, 0.5783, 0.2057, 0.8295, 0.1821]])\n",
            "tensor([[0.9100, 0.3872, 0.3746],\n",
            "        [0.2295, 0.3951, 0.5517],\n",
            "        [0.4601, 0.8628, 0.5783]])\n",
            "tensor([[0.2509, 0.3337, 0.8014],\n",
            "        [0.2203, 0.0389, 0.3314],\n",
            "        [0.2057, 0.8295, 0.1821]])\n"
          ]
        }
      ]
    },
    {
      "cell_type": "markdown",
      "metadata": {
        "id": "estSwhCgvta6"
      },
      "source": [
        "### torch ↔ numpy\n",
        "- Torch Tensor(텐서)를 Numpy array(배열)로 변환 가능\n",
        "\n",
        "  - `numpy()`\n",
        "  - `from_numpy()`\n",
        "\n",
        "- (참고)\n",
        "  - Tensor가 CPU상에 있다면 Numpy 배열은 메모리 공간을 공유하므로 하나가 변하면, 다른 하나도 변함"
      ]
    },
    {
      "cell_type": "code",
      "metadata": {
        "id": "VxHI7c_yvmAT",
        "colab": {
          "base_uri": "https://localhost:8080/"
        },
        "outputId": "90d75ba4-2c65-44ea-ee5d-7c25f78e7e62"
      },
      "source": [
        "a = torch.ones(7)\n",
        "\n",
        "print(a)"
      ],
      "execution_count": null,
      "outputs": [
        {
          "output_type": "stream",
          "name": "stdout",
          "text": [
            "tensor([1., 1., 1., 1., 1., 1., 1.])\n"
          ]
        }
      ]
    },
    {
      "cell_type": "code",
      "metadata": {
        "id": "whbrhokHwJ3A",
        "colab": {
          "base_uri": "https://localhost:8080/"
        },
        "outputId": "68576a5b-a161-4a3a-851f-f0097a56b2e4"
      },
      "source": [
        "b = a.numpy()\n",
        "print(b)"
      ],
      "execution_count": null,
      "outputs": [
        {
          "output_type": "stream",
          "name": "stdout",
          "text": [
            "[1. 1. 1. 1. 1. 1. 1.]\n"
          ]
        }
      ]
    },
    {
      "cell_type": "code",
      "metadata": {
        "id": "5StIhUWDwQjA",
        "colab": {
          "base_uri": "https://localhost:8080/"
        },
        "outputId": "03292025-bce0-4678-e3ad-b553f8ab886a"
      },
      "source": [
        "a.add_(1)\n",
        "print(a)\n",
        "print(b)"
      ],
      "execution_count": null,
      "outputs": [
        {
          "output_type": "stream",
          "name": "stdout",
          "text": [
            "tensor([2., 2., 2., 2., 2., 2., 2.])\n",
            "[2. 2. 2. 2. 2. 2. 2.]\n"
          ]
        }
      ]
    },
    {
      "cell_type": "code",
      "metadata": {
        "id": "3RNS5-cRwTt8",
        "colab": {
          "base_uri": "https://localhost:8080/"
        },
        "outputId": "80f14618-08bc-4f8e-b3d6-3c7cd60b0d03"
      },
      "source": [
        "import numpy as np\n",
        "\n",
        "a = np.ones(7)\n",
        "b = torch.from_numpy(a)\n",
        "np.add(a,1,out=a)\n",
        "print(a)\n",
        "print(b)"
      ],
      "execution_count": null,
      "outputs": [
        {
          "output_type": "stream",
          "name": "stdout",
          "text": [
            "[2. 2. 2. 2. 2. 2. 2.]\n",
            "tensor([2., 2., 2., 2., 2., 2., 2.], dtype=torch.float64)\n"
          ]
        }
      ]
    },
    {
      "cell_type": "markdown",
      "metadata": {
        "id": "v-ZaxSvLxEej"
      },
      "source": [
        "## CUDA Tensors\n",
        "- `.to` 메소드를 사용하여 텐서를 어떠한 장치로도 옮길 수 있음\n",
        "  - 예) cpu, gpu"
      ]
    },
    {
      "cell_type": "code",
      "metadata": {
        "id": "xkaQznCRxpUj"
      },
      "source": [
        "import torch"
      ],
      "execution_count": null,
      "outputs": []
    },
    {
      "cell_type": "code",
      "metadata": {
        "id": "SCnC0x2Rxpbk",
        "colab": {
          "base_uri": "https://localhost:8080/"
        },
        "outputId": "6bfe7e91-fc9f-4abd-a63a-3e2642c9082a"
      },
      "source": [
        "x = torch.randn(1)\n",
        "print(x)\n",
        "print(x.item())\n",
        "print(x.dtype)"
      ],
      "execution_count": null,
      "outputs": [
        {
          "output_type": "stream",
          "name": "stdout",
          "text": [
            "tensor([0.5585])\n",
            "0.5585248470306396\n",
            "torch.float32\n"
          ]
        }
      ]
    },
    {
      "cell_type": "code",
      "metadata": {
        "id": "GcSsFLkDw-nI",
        "colab": {
          "base_uri": "https://localhost:8080/"
        },
        "outputId": "ff5a3851-13d0-4bf4-aef0-e91fc6ac055a"
      },
      "source": [
        "device = torch.device(\"cuda\" if torch.cuda.is_available() else \"cpu\")\n",
        "\n",
        "y = torch.ones_like(x, device = device)\n",
        "x = x.to(device)\n",
        "z = x+y\n",
        "print(device)\n",
        "print(z)\n",
        "print(z.to(\"cpu\", torch.double))"
      ],
      "execution_count": null,
      "outputs": [
        {
          "output_type": "stream",
          "name": "stdout",
          "text": [
            "cuda\n",
            "tensor([1.5585], device='cuda:0')\n",
            "tensor([1.5585], dtype=torch.float64)\n"
          ]
        }
      ]
    },
    {
      "cell_type": "markdown",
      "metadata": {
        "id": "NKqiGvLWx2nk"
      },
      "source": [
        "## AUTOGRAD (자동미분)\n",
        "- autograd 패키지는 Tensor의 모든 연산에 대해 **자동 미분** 제공\n",
        "\n",
        "- 이는 코드를 어떻게 작성하여 실행하느냐에 따라 역전파가 정의된다는 뜻\n",
        "\n",
        "- backprop를 위한 미분값을 자동으로 계산"
      ]
    },
    {
      "cell_type": "markdown",
      "metadata": {
        "id": "0zH41l-MyMHi"
      },
      "source": [
        "### Tensor\n",
        "\n",
        "- data: tensor형태의 데이터\n",
        "\n",
        "- grad: data가 겨쳐온 layer에 대한 미분값 저장\n",
        "\n",
        "- grad_fn: 미분값을 계산한 함수에 대한 정보 저장 (어떤 함수에 대해서 backprop 했는지)\n",
        "\n",
        "- `requires_grad` 속성을 `True`로 설정하면, 해당 텐서에서 이루어지는 모든 연산들을 추적하기 시작\n",
        "\n",
        "- 계산이 완료된 후, `.backward()`를 호출하면 자동으로 `gradient`를 계산할 수 있으며, `.grad` 속성에 누적됨\n",
        "\n",
        "- 기록을 추적하는 것을 중단하게 하려면, `.detach()`를 호출하여 연산기록으로부터 분리\n",
        "\n",
        "- 기록을 추적하는 것을 방지하기 위해 코드 블럭을 `with torch.no_grad():`로 감싸면 `gradient`는 필요없지만, `requires_grad=True`로 설정되어 학습 가능한 매개변수를 갖는 모델을 평가(evaluate)할 때 유용\n",
        "\n",
        "- Autograd 구현에서 매우 중요한 클래스 : `Function` 클래스"
      ]
    },
    {
      "cell_type": "code",
      "metadata": {
        "id": "ipdk_1jfx47I"
      },
      "source": [
        "import torch"
      ],
      "execution_count": null,
      "outputs": []
    },
    {
      "cell_type": "code",
      "metadata": {
        "id": "ljNU-r9p0Rpo",
        "colab": {
          "base_uri": "https://localhost:8080/"
        },
        "outputId": "fd7713e0-3b3e-4f87-e434-d82359d5b49b"
      },
      "source": [
        "x = torch.ones(3,3, requires_grad = True)\n",
        "print(x)"
      ],
      "execution_count": null,
      "outputs": [
        {
          "output_type": "stream",
          "name": "stdout",
          "text": [
            "tensor([[1., 1., 1.],\n",
            "        [1., 1., 1.],\n",
            "        [1., 1., 1.]], requires_grad=True)\n"
          ]
        }
      ]
    },
    {
      "cell_type": "code",
      "metadata": {
        "id": "or6sQ4EB0UYz",
        "colab": {
          "base_uri": "https://localhost:8080/"
        },
        "outputId": "7d90ef64-0ed8-47a3-850a-f55e87f960e6"
      },
      "source": [
        "y = x + 5\n",
        "print(y)"
      ],
      "execution_count": null,
      "outputs": [
        {
          "output_type": "stream",
          "name": "stdout",
          "text": [
            "tensor([[6., 6., 6.],\n",
            "        [6., 6., 6.],\n",
            "        [6., 6., 6.]], grad_fn=<AddBackward0>)\n"
          ]
        }
      ]
    },
    {
      "cell_type": "code",
      "metadata": {
        "id": "PuQ7xDmu0Wpj",
        "colab": {
          "base_uri": "https://localhost:8080/"
        },
        "outputId": "3d405da7-a8f2-44c0-8ceb-2f3118a247f1"
      },
      "source": [
        "print(y.grad_fn)"
      ],
      "execution_count": null,
      "outputs": [
        {
          "output_type": "stream",
          "name": "stdout",
          "text": [
            "<AddBackward0 object at 0x7f8e14ca9a90>\n"
          ]
        }
      ]
    },
    {
      "cell_type": "code",
      "metadata": {
        "id": "6_2iM-Zq0ZdG",
        "colab": {
          "base_uri": "https://localhost:8080/"
        },
        "outputId": "6b0ea002-e8d1-40bd-fdf2-a43612c89113"
      },
      "source": [
        "z = y*y*2\n",
        "out = z.mean()\n",
        "\n",
        "print(z, out)"
      ],
      "execution_count": null,
      "outputs": [
        {
          "output_type": "stream",
          "name": "stdout",
          "text": [
            "tensor([[72., 72., 72.],\n",
            "        [72., 72., 72.],\n",
            "        [72., 72., 72.]], grad_fn=<MulBackward0>) tensor(72., grad_fn=<MeanBackward0>)\n"
          ]
        }
      ]
    },
    {
      "cell_type": "markdown",
      "metadata": {
        "id": "2aZ8SWn_0nqt"
      },
      "source": [
        "- `requires_grad_(...)`는 기존 텐서의 `requires_grad`값을 바꿔치기(`in-place`)하여 변경"
      ]
    },
    {
      "cell_type": "code",
      "metadata": {
        "id": "mHGROgrM0ebO",
        "colab": {
          "base_uri": "https://localhost:8080/"
        },
        "outputId": "c0d890c7-bf45-4287-8612-79a6b7ce8082"
      },
      "source": [
        "a = torch.randn(3,3)\n",
        "a = ((a*3)/(a-1))\n",
        "print(a.requires_grad)\n",
        "\n",
        "a.requires_grad_(True)\n",
        "print(a.requires_grad)\n",
        "\n",
        "b = (a*a).sum()\n",
        "print(b.grad_fn)"
      ],
      "execution_count": null,
      "outputs": [
        {
          "output_type": "stream",
          "name": "stdout",
          "text": [
            "False\n",
            "True\n",
            "<SumBackward0 object at 0x7f8e1c27f3d0>\n"
          ]
        }
      ]
    },
    {
      "cell_type": "markdown",
      "metadata": {
        "id": "KiEn_stZ1VgU"
      },
      "source": [
        "### 기울기(Gradient)\n",
        "- 역전파: `.backward()`를 통해 역전파 계산 가능"
      ]
    },
    {
      "cell_type": "code",
      "metadata": {
        "id": "1tdoN9p-1kn4"
      },
      "source": [
        "out.backward()"
      ],
      "execution_count": null,
      "outputs": []
    },
    {
      "cell_type": "code",
      "metadata": {
        "id": "CixGTXbV1B9p",
        "colab": {
          "base_uri": "https://localhost:8080/"
        },
        "outputId": "9296f294-c816-4ef1-defa-7f3e3b788103"
      },
      "source": [
        "print(x.grad)"
      ],
      "execution_count": null,
      "outputs": [
        {
          "output_type": "stream",
          "name": "stdout",
          "text": [
            "tensor([[2.6667, 2.6667, 2.6667],\n",
            "        [2.6667, 2.6667, 2.6667],\n",
            "        [2.6667, 2.6667, 2.6667]])\n"
          ]
        }
      ]
    },
    {
      "cell_type": "code",
      "metadata": {
        "id": "SY63Mcc-1iNI",
        "colab": {
          "base_uri": "https://localhost:8080/"
        },
        "outputId": "0556b96b-97f2-4b10-9456-e24c0d010ec5"
      },
      "source": [
        "x = torch.randn(3, requires_grad=True)\n",
        "y = x*2\n",
        "while y.data.norm() < 1000:\n",
        "  y = y*2\n",
        "\n",
        "print(y)"
      ],
      "execution_count": null,
      "outputs": [
        {
          "output_type": "stream",
          "name": "stdout",
          "text": [
            "tensor([1448.0363, -836.6315,  543.8237], grad_fn=<MulBackward0>)\n"
          ]
        }
      ]
    },
    {
      "cell_type": "code",
      "metadata": {
        "id": "YPaVAbIT3gx_",
        "colab": {
          "base_uri": "https://localhost:8080/"
        },
        "outputId": "920f22fe-1562-454d-938d-eae99315f4d1"
      },
      "source": [
        "v = torch.tensor([0.1, 1.0, 0.0001], dtype=torch.float)\n",
        "y.backward(v)\n",
        "\n",
        "print(x.grad)"
      ],
      "execution_count": null,
      "outputs": [
        {
          "output_type": "stream",
          "name": "stdout",
          "text": [
            "tensor([1.0240e+02, 1.0240e+03, 1.0240e-01])\n"
          ]
        }
      ]
    },
    {
      "cell_type": "markdown",
      "metadata": {
        "id": "0b9amArPXtcX"
      },
      "source": [
        "- `with torch.no_grad()`를 사용하여 gradient의 업데이트를 하지 않음"
      ]
    },
    {
      "cell_type": "code",
      "metadata": {
        "id": "weeIe5_Z3jVe",
        "colab": {
          "base_uri": "https://localhost:8080/"
        },
        "outputId": "be5b6879-9624-4702-d280-68997f473c85"
      },
      "source": [
        "print(x.requires_grad)\n",
        "print((x**2).requires_grad)\n",
        "\n",
        "with torch.no_grad():\n",
        "  print((x**2).requires_grad)"
      ],
      "execution_count": null,
      "outputs": [
        {
          "output_type": "stream",
          "name": "stdout",
          "text": [
            "True\n",
            "True\n",
            "False\n"
          ]
        }
      ]
    },
    {
      "cell_type": "markdown",
      "metadata": {
        "id": "bLcTLVRSmCdH"
      },
      "source": [
        "- `detach()`: 내용물(content)은 같지만 require_grad가 다른 새로운 Tensor를 가져올 때"
      ]
    },
    {
      "cell_type": "code",
      "metadata": {
        "id": "ALcth7Ew3l7H",
        "colab": {
          "base_uri": "https://localhost:8080/"
        },
        "outputId": "07e5a03c-e633-438c-e0f2-45e46e56cc82"
      },
      "source": [
        "print(x.requires_grad)\n",
        "y = x.detach()\n",
        "print(y.requires_grad)\n",
        "print(x.eq(y).all())"
      ],
      "execution_count": null,
      "outputs": [
        {
          "output_type": "stream",
          "name": "stdout",
          "text": [
            "True\n",
            "False\n",
            "tensor(True)\n"
          ]
        }
      ]
    },
    {
      "cell_type": "markdown",
      "metadata": {
        "id": "NSarysrqBh9D"
      },
      "source": [
        "### 자동 미분 흐름 다시 보기(1)\n",
        "- 계산 흐름  \n",
        "  $a \\rightarrow b  \\rightarrow c  \\rightarrow out $\n",
        "\n",
        "<br>\n",
        "\n",
        "## $\\quad \\frac{\\partial out}{\\partial a} = ?$\n",
        "- `backward()`를 통해  \n",
        "  $a \\leftarrow b  \\leftarrow c  \\leftarrow out $을 계산하면  \n",
        "    $\\frac{\\partial out}{\\partial a}$값이 `a.grad`에 채워짐\n"
      ]
    },
    {
      "cell_type": "code",
      "metadata": {
        "id": "NUAc1etP3oBc"
      },
      "source": [
        "import torch"
      ],
      "execution_count": null,
      "outputs": []
    },
    {
      "cell_type": "code",
      "metadata": {
        "id": "tCW7dq9uB89T",
        "colab": {
          "base_uri": "https://localhost:8080/"
        },
        "outputId": "d078c1e3-7ba0-4bfa-e664-a01495c47a2d"
      },
      "source": [
        "a = torch.ones(2,2)\n",
        "print(a)"
      ],
      "execution_count": null,
      "outputs": [
        {
          "output_type": "stream",
          "name": "stdout",
          "text": [
            "tensor([[1., 1.],\n",
            "        [1., 1.]])\n"
          ]
        }
      ]
    },
    {
      "cell_type": "code",
      "metadata": {
        "id": "-AyyGy49FLz9",
        "colab": {
          "base_uri": "https://localhost:8080/"
        },
        "outputId": "5e872b43-1459-442e-fd2c-bf498b391611"
      },
      "source": [
        "a = torch.ones(2,2, requires_grad=True)\n",
        "print(a)"
      ],
      "execution_count": null,
      "outputs": [
        {
          "output_type": "stream",
          "name": "stdout",
          "text": [
            "tensor([[1., 1.],\n",
            "        [1., 1.]], requires_grad=True)\n"
          ]
        }
      ]
    },
    {
      "cell_type": "code",
      "metadata": {
        "id": "SmmJa-hvFPGH",
        "colab": {
          "base_uri": "https://localhost:8080/"
        },
        "outputId": "04f7a807-7169-4027-9a4a-9f99a37dea36"
      },
      "source": [
        "print(\"a.data:\", a)\n",
        "print(\"a.grad:\", a.grad)\n",
        "print(\"a.grad_fn\", a.grad_fn)"
      ],
      "execution_count": null,
      "outputs": [
        {
          "output_type": "stream",
          "name": "stdout",
          "text": [
            "a.data: tensor([[1., 1.],\n",
            "        [1., 1.]], requires_grad=True)\n",
            "a.grad: None\n",
            "a.grad_fn None\n"
          ]
        }
      ]
    },
    {
      "cell_type": "markdown",
      "metadata": {
        "id": "BCwhTsiHGCmG"
      },
      "source": [
        "- $b = a + 2$"
      ]
    },
    {
      "cell_type": "code",
      "metadata": {
        "id": "iUPt042iF9V1",
        "colab": {
          "base_uri": "https://localhost:8080/"
        },
        "outputId": "7d25a829-435d-4752-f02d-97798a901be2"
      },
      "source": [
        "b = a+2\n",
        "print(b)"
      ],
      "execution_count": null,
      "outputs": [
        {
          "output_type": "stream",
          "name": "stdout",
          "text": [
            "tensor([[3., 3.],\n",
            "        [3., 3.]], grad_fn=<AddBackward0>)\n"
          ]
        }
      ]
    },
    {
      "cell_type": "markdown",
      "metadata": {
        "id": "6cw2zoq9GHLF"
      },
      "source": [
        "- $c = b^2$ "
      ]
    },
    {
      "cell_type": "code",
      "metadata": {
        "id": "FRDS6gP0GFZG",
        "colab": {
          "base_uri": "https://localhost:8080/"
        },
        "outputId": "430dfe4d-5d33-451e-8116-b47a9f1eb8c0"
      },
      "source": [
        "c = b**2\n",
        "print(c)"
      ],
      "execution_count": null,
      "outputs": [
        {
          "output_type": "stream",
          "name": "stdout",
          "text": [
            "tensor([[9., 9.],\n",
            "        [9., 9.]], grad_fn=<PowBackward0>)\n"
          ]
        }
      ]
    },
    {
      "cell_type": "code",
      "metadata": {
        "id": "VynoiUywGSwh",
        "colab": {
          "base_uri": "https://localhost:8080/"
        },
        "outputId": "1beb4f75-7fd2-45f9-9829-00fe0fa2c50b"
      },
      "source": [
        "out = c.sum()\n",
        "print(out)"
      ],
      "execution_count": null,
      "outputs": [
        {
          "output_type": "stream",
          "name": "stdout",
          "text": [
            "tensor(36., grad_fn=<SumBackward0>)\n"
          ]
        }
      ]
    },
    {
      "cell_type": "code",
      "metadata": {
        "id": "v3ryJon9GeMn",
        "colab": {
          "base_uri": "https://localhost:8080/"
        },
        "outputId": "e7d11d75-c5c1-4f99-b017-c9357510dde8"
      },
      "source": [
        "print(out)\n",
        "out.backward()"
      ],
      "execution_count": null,
      "outputs": [
        {
          "output_type": "stream",
          "name": "stdout",
          "text": [
            "tensor(36., grad_fn=<SumBackward0>)\n"
          ]
        }
      ]
    },
    {
      "cell_type": "markdown",
      "metadata": {
        "id": "f0aoNsPDHsoG"
      },
      "source": [
        "- a의 `grad_fn`이 None인 이유  \n",
        "  직접적으로 계산한 부분이 없었기 때문"
      ]
    },
    {
      "cell_type": "code",
      "metadata": {
        "id": "bccI4vIWGgqj",
        "colab": {
          "base_uri": "https://localhost:8080/"
        },
        "outputId": "a8562be5-ec8c-486a-c876-1fc327b60c47"
      },
      "source": [
        "print(\"a.data:\", a)\n",
        "print(\"a.grad:\", a.grad)\n",
        "print(\"a.grad_fn\", a.grad_fn)"
      ],
      "execution_count": null,
      "outputs": [
        {
          "output_type": "stream",
          "name": "stdout",
          "text": [
            "a.data: tensor([[1., 1.],\n",
            "        [1., 1.]], requires_grad=True)\n",
            "a.grad: tensor([[6., 6.],\n",
            "        [6., 6.]])\n",
            "a.grad_fn None\n"
          ]
        }
      ]
    },
    {
      "cell_type": "code",
      "metadata": {
        "id": "oka1mkadHq-N",
        "colab": {
          "base_uri": "https://localhost:8080/"
        },
        "outputId": "b623cb92-50dd-4848-c54c-13e709ad6e2c"
      },
      "source": [
        "print(\"b.data:\", b.data)\n",
        "print(\"b.grad:\", b.grad)\n",
        "print(\"b.grad_fn\", b.grad_fn)"
      ],
      "execution_count": null,
      "outputs": [
        {
          "output_type": "stream",
          "name": "stdout",
          "text": [
            "b.data: tensor([[3., 3.],\n",
            "        [3., 3.]])\n",
            "b.grad: None\n",
            "b.grad_fn <AddBackward0 object at 0x7f8e13a8ff90>\n"
          ]
        },
        {
          "output_type": "stream",
          "name": "stderr",
          "text": [
            "/usr/local/lib/python3.7/dist-packages/torch/_tensor.py:1104: UserWarning: The .grad attribute of a Tensor that is not a leaf Tensor is being accessed. Its .grad attribute won't be populated during autograd.backward(). If you indeed want the .grad field to be populated for a non-leaf Tensor, use .retain_grad() on the non-leaf Tensor. If you access the non-leaf Tensor by mistake, make sure you access the leaf Tensor instead. See github.com/pytorch/pytorch/pull/30531 for more informations. (Triggered internally at  aten/src/ATen/core/TensorBody.h:475.)\n",
            "  return self._grad\n"
          ]
        }
      ]
    },
    {
      "cell_type": "code",
      "metadata": {
        "id": "ZiYNajdLccUF",
        "colab": {
          "base_uri": "https://localhost:8080/"
        },
        "outputId": "6e2b22b3-e993-40df-fe98-614baeda75bd"
      },
      "source": [
        "print(\"c.data:\", c.data)\n",
        "print(\"c.grad:\", c.grad)\n",
        "print(\"c.grad_fn\", c.grad_fn)"
      ],
      "execution_count": null,
      "outputs": [
        {
          "output_type": "stream",
          "name": "stdout",
          "text": [
            "c.data: tensor([[9., 9.],\n",
            "        [9., 9.]])\n",
            "c.grad: None\n",
            "c.grad_fn <PowBackward0 object at 0x7f8e13aa8d90>\n"
          ]
        },
        {
          "output_type": "stream",
          "name": "stderr",
          "text": [
            "/usr/local/lib/python3.7/dist-packages/torch/_tensor.py:1104: UserWarning: The .grad attribute of a Tensor that is not a leaf Tensor is being accessed. Its .grad attribute won't be populated during autograd.backward(). If you indeed want the .grad field to be populated for a non-leaf Tensor, use .retain_grad() on the non-leaf Tensor. If you access the non-leaf Tensor by mistake, make sure you access the leaf Tensor instead. See github.com/pytorch/pytorch/pull/30531 for more informations. (Triggered internally at  aten/src/ATen/core/TensorBody.h:475.)\n",
            "  return self._grad\n"
          ]
        }
      ]
    },
    {
      "cell_type": "code",
      "metadata": {
        "id": "BcLoMYite0vU",
        "colab": {
          "base_uri": "https://localhost:8080/"
        },
        "outputId": "20648b81-43c8-40b5-b25c-61f96d8f2bf2"
      },
      "source": [
        "print(\"out.data:\", out.data)\n",
        "print(\"out.grad:\", out.grad)\n",
        "print(\"out.grad_fn\", out.grad_fn)"
      ],
      "execution_count": null,
      "outputs": [
        {
          "output_type": "stream",
          "name": "stdout",
          "text": [
            "out.data: tensor(36.)\n",
            "out.grad: None\n",
            "out.grad_fn <SumBackward0 object at 0x7f8e1c2a6090>\n"
          ]
        },
        {
          "output_type": "stream",
          "name": "stderr",
          "text": [
            "/usr/local/lib/python3.7/dist-packages/torch/_tensor.py:1104: UserWarning: The .grad attribute of a Tensor that is not a leaf Tensor is being accessed. Its .grad attribute won't be populated during autograd.backward(). If you indeed want the .grad field to be populated for a non-leaf Tensor, use .retain_grad() on the non-leaf Tensor. If you access the non-leaf Tensor by mistake, make sure you access the leaf Tensor instead. See github.com/pytorch/pytorch/pull/30531 for more informations. (Triggered internally at  aten/src/ATen/core/TensorBody.h:475.)\n",
            "  return self._grad\n"
          ]
        }
      ]
    },
    {
      "cell_type": "markdown",
      "metadata": {
        "id": "qZXgwviHfovj"
      },
      "source": [
        "### 자동 미분 흐름 다시 보기(2)\n",
        "- `grad`값을 넣어서 `backward`\n",
        "\n",
        "- 아래의 코드에서 `.grad`값이 None은 gradient값이 필요하지 않기 때문"
      ]
    },
    {
      "cell_type": "code",
      "metadata": {
        "id": "bB6DCYXRfcI_",
        "colab": {
          "base_uri": "https://localhost:8080/"
        },
        "outputId": "608db1e9-b060-41ca-8ab7-55263db65cad"
      },
      "source": [
        "x = torch.ones(3, requires_grad=True)\n",
        "y = (x**2)\n",
        "z= y**2+x\n",
        "out = z.sum()\n",
        "print(out)"
      ],
      "execution_count": null,
      "outputs": [
        {
          "output_type": "stream",
          "name": "stdout",
          "text": [
            "tensor(6., grad_fn=<SumBackward0>)\n"
          ]
        }
      ]
    },
    {
      "cell_type": "code",
      "metadata": {
        "id": "AVo-glm8fvFv"
      },
      "source": [
        "grad = torch.Tensor([0.1,1,100])\n",
        "z.backward(grad)"
      ],
      "execution_count": null,
      "outputs": []
    },
    {
      "cell_type": "code",
      "metadata": {
        "id": "tdBklrepf2qq",
        "colab": {
          "base_uri": "https://localhost:8080/"
        },
        "outputId": "733e0eed-b7d6-4ada-df38-94b05f48c11e"
      },
      "source": [
        "print(\"x.data:\", x.data)\n",
        "print(\"x.grad:\", x.grad)\n",
        "print(\"x.grad_fn\", x.grad_fn)"
      ],
      "execution_count": null,
      "outputs": [
        {
          "output_type": "stream",
          "name": "stdout",
          "text": [
            "x.data: tensor([1., 1., 1.])\n",
            "x.grad: tensor([  0.5000,   5.0000, 500.0000])\n",
            "x.grad_fn None\n"
          ]
        }
      ]
    },
    {
      "cell_type": "code",
      "metadata": {
        "id": "HQvUGlfRf7jU",
        "colab": {
          "base_uri": "https://localhost:8080/"
        },
        "outputId": "dac82c1f-203f-4e6d-b75a-d5d5d913669d"
      },
      "source": [
        "print(\"y.data:\", y.data)\n",
        "print(\"y.grad:\", y.grad)\n",
        "print(\"y.grad_fn\", y.grad_fn)"
      ],
      "execution_count": null,
      "outputs": [
        {
          "output_type": "stream",
          "name": "stdout",
          "text": [
            "y.data: tensor([1., 1., 1.])\n",
            "y.grad: None\n",
            "y.grad_fn <PowBackward0 object at 0x7f8e13afba50>\n"
          ]
        },
        {
          "output_type": "stream",
          "name": "stderr",
          "text": [
            "/usr/local/lib/python3.7/dist-packages/torch/_tensor.py:1104: UserWarning: The .grad attribute of a Tensor that is not a leaf Tensor is being accessed. Its .grad attribute won't be populated during autograd.backward(). If you indeed want the .grad field to be populated for a non-leaf Tensor, use .retain_grad() on the non-leaf Tensor. If you access the non-leaf Tensor by mistake, make sure you access the leaf Tensor instead. See github.com/pytorch/pytorch/pull/30531 for more informations. (Triggered internally at  aten/src/ATen/core/TensorBody.h:475.)\n",
            "  return self._grad\n"
          ]
        }
      ]
    },
    {
      "cell_type": "code",
      "metadata": {
        "id": "h7TFHdMfgxvW",
        "colab": {
          "base_uri": "https://localhost:8080/"
        },
        "outputId": "065f5bbc-12e1-4440-e8f0-e9a5b85a86b1"
      },
      "source": [
        "print(\"z.data:\", z.data)\n",
        "print(\"z.grad:\", z.grad)\n",
        "print(\"z.grad_fn\", z.grad_fn)"
      ],
      "execution_count": null,
      "outputs": [
        {
          "output_type": "stream",
          "name": "stdout",
          "text": [
            "z.data: tensor([2., 2., 2.])\n",
            "z.grad: None\n",
            "z.grad_fn <AddBackward0 object at 0x7f8e13b08c90>\n"
          ]
        },
        {
          "output_type": "stream",
          "name": "stderr",
          "text": [
            "/usr/local/lib/python3.7/dist-packages/torch/_tensor.py:1104: UserWarning: The .grad attribute of a Tensor that is not a leaf Tensor is being accessed. Its .grad attribute won't be populated during autograd.backward(). If you indeed want the .grad field to be populated for a non-leaf Tensor, use .retain_grad() on the non-leaf Tensor. If you access the non-leaf Tensor by mistake, make sure you access the leaf Tensor instead. See github.com/pytorch/pytorch/pull/30531 for more informations. (Triggered internally at  aten/src/ATen/core/TensorBody.h:475.)\n",
            "  return self._grad\n"
          ]
        }
      ]
    },
    {
      "cell_type": "markdown",
      "metadata": {
        "id": "DKv-osmNmWiA"
      },
      "source": [
        "## nn & nn.functional\n",
        "\n",
        "- 두 패키지가 같은 기능이지만 방식이 조금 다름\n",
        "\n",
        "- 위의 `autograd` 관련 작업들을 두 패키지를 통해 진행할 수 있음\n",
        "\n",
        "- 텐서를 직접 다룰 때 `requires_grad`와 같은 방식으로 진행할 수 있음\n",
        "\n",
        "- 결론적으로, `torch.nn`은 attribute를 활용해 state를 저장하고 활용하고,  \n",
        "  `torch.nn.functional`로 구현한 함수의 경우에는 인스턴스화 시킬 필요 없이 사용이 가능\n",
        " \n"
      ]
    },
    {
      "cell_type": "markdown",
      "metadata": {
        "id": "jk8fkKq3nWP1"
      },
      "source": [
        "### nn 패키지\n",
        "\n",
        "- 주로 가중치(weights), 편향(bias)값들이 내부에서 자동으로 생성되는 레이어들을 사용할 때  \n",
        "  - 따라서, `weight`값들을 직접 선언 안함\n",
        "\n",
        "- 예시\n",
        "  - Containers\n",
        "\n",
        "  - Convolution Layers\n",
        "\n",
        "  - Pooling layers\n",
        "\n",
        "  - Padding Layers\n",
        "\n",
        "  - Non-linear Activations (weighted sum, nonlinearity)\n",
        "\n",
        "  - Non-linear Activations (other)\n",
        "\n",
        "  - Normalization Layers\n",
        "\n",
        "  - Recurrent Layers\n",
        "\n",
        "  - Transformer Layers\n",
        "\n",
        "  - Linear Layers\n",
        "\n",
        "  - Dropout Layers\n",
        "\n",
        "  - Sparse Layers\n",
        "\n",
        "  - Distance Functions\n",
        "\n",
        "  - Loss Functions\n",
        "\n",
        "  - ..\n",
        "- https://pytorch.org/docs/stable/nn.html\n",
        "\n"
      ]
    },
    {
      "cell_type": "code",
      "metadata": {
        "id": "8tEtWHAsmZMy"
      },
      "source": [
        "import torch\n",
        "import torch.nn as nn"
      ],
      "execution_count": null,
      "outputs": []
    },
    {
      "cell_type": "markdown",
      "metadata": {
        "id": "NcjCbeEQqPSI"
      },
      "source": [
        "- Convolution Layer 예시 (1)\n"
      ]
    },
    {
      "cell_type": "code",
      "metadata": {
        "id": "NQ7Y0tCOpkhM",
        "colab": {
          "base_uri": "https://localhost:8080/"
        },
        "outputId": "1cb14e36-2505-40c2-c444-b47f2a42cc19"
      },
      "source": [
        "m = nn.Conv2d(16,33,3, stride =2)\n",
        "m = nn.Conv2d(16,33,(3,5), stride =(2,1), padding=(4,2))\n",
        "m = nn.Conv2d(16,33,(3,5), stride =(2,1), padding=(4,2), dilation=(3,1))\n",
        "\n",
        "input = torch.randn(20, 16, 50, 100)\n",
        "print(input)\n",
        "output = m(input)\n",
        "print(output)"
      ],
      "execution_count": null,
      "outputs": [
        {
          "output_type": "stream",
          "name": "stdout",
          "text": [
            "tensor([[[[ 6.4866e-01,  1.2265e+00, -8.7286e-01,  ...,  3.2254e-01,\n",
            "           -2.1553e-01, -1.0946e+00],\n",
            "          [ 3.0978e-01,  2.5377e-01, -4.3027e-01,  ..., -1.5333e+00,\n",
            "            9.2835e-01,  2.8855e-01],\n",
            "          [ 7.5385e-01,  2.2906e+00,  2.8035e-01,  ..., -9.5689e-02,\n",
            "            5.2162e-01,  8.3498e-01],\n",
            "          ...,\n",
            "          [ 1.0461e+00, -2.2847e+00, -6.7468e-01,  ..., -8.5318e-01,\n",
            "           -3.2906e-01,  1.7873e-01],\n",
            "          [-4.0619e-01, -1.6913e+00,  1.3561e+00,  ...,  2.7316e+00,\n",
            "            6.6580e-01,  2.9213e-01],\n",
            "          [-3.6224e-01,  3.6851e-01, -1.0448e+00,  ..., -4.8052e-01,\n",
            "           -1.3280e+00, -1.2632e+00]],\n",
            "\n",
            "         [[-3.2031e-01,  1.4183e+00, -1.9723e+00,  ...,  3.0468e-01,\n",
            "            2.1460e+00, -8.9651e-01],\n",
            "          [ 6.6708e-01, -1.0119e+00,  1.5410e+00,  ..., -7.5195e-01,\n",
            "            7.6761e-01, -1.6882e+00],\n",
            "          [ 1.9683e-01,  1.5801e+00,  1.8962e+00,  ..., -3.1309e-01,\n",
            "           -4.1279e-01, -8.4914e-01],\n",
            "          ...,\n",
            "          [-6.0338e-03,  1.6355e-01, -6.4288e-01,  ..., -2.4425e-02,\n",
            "           -1.7116e-01,  5.6406e-01],\n",
            "          [ 1.6067e+00, -3.6736e-01,  1.9835e+00,  ...,  8.6206e-01,\n",
            "            6.2553e-02,  6.7553e-01],\n",
            "          [ 6.5985e-01, -6.8059e-01, -5.3302e-01,  ..., -1.9440e+00,\n",
            "            1.2264e+00, -1.1577e+00]],\n",
            "\n",
            "         [[ 4.8730e-01, -8.5076e-01, -2.4103e+00,  ...,  2.6250e-01,\n",
            "           -2.8575e+00,  9.8526e-02],\n",
            "          [ 7.6054e-01,  2.2522e-01, -7.5614e-01,  ...,  6.0150e-02,\n",
            "           -8.7412e-02,  7.3038e-01],\n",
            "          [ 1.0122e+00,  2.5903e-01, -3.5074e-01,  ...,  6.2808e-01,\n",
            "           -5.0245e-01, -7.5018e-01],\n",
            "          ...,\n",
            "          [-1.4809e+00, -3.1602e-01,  1.4647e-01,  ...,  1.9860e-02,\n",
            "            3.8908e-01,  6.4689e-01],\n",
            "          [ 2.4115e+00, -4.2696e-02, -1.3025e+00,  ...,  5.0263e-01,\n",
            "            9.4229e-01, -1.5551e+00],\n",
            "          [ 1.0602e+00, -4.9595e-01, -2.0352e+00,  ..., -6.6107e-01,\n",
            "            8.3741e-01, -2.2635e-01]],\n",
            "\n",
            "         ...,\n",
            "\n",
            "         [[ 4.3221e-02,  6.4058e-01, -8.8206e-01,  ...,  1.1161e-01,\n",
            "            9.1305e-02,  7.9108e-01],\n",
            "          [-6.2270e-01,  1.6391e+00,  3.8670e-01,  ...,  1.2980e+00,\n",
            "           -5.9767e-01,  1.8765e+00],\n",
            "          [ 2.7935e+00, -1.4816e+00, -5.5604e-01,  ...,  2.8016e-01,\n",
            "            5.4071e-01,  5.0392e-01],\n",
            "          ...,\n",
            "          [-8.2767e-01, -2.0396e-02, -4.8286e-01,  ...,  1.9322e-01,\n",
            "            1.0432e+00,  3.3500e-01],\n",
            "          [ 8.0418e-01, -3.5389e-01,  6.8887e-01,  ...,  1.9995e-01,\n",
            "           -6.4959e-01,  5.1557e-01],\n",
            "          [-2.3973e-01, -9.4429e-01,  1.5887e-02,  ..., -3.6996e-01,\n",
            "            1.0085e+00, -1.1537e+00]],\n",
            "\n",
            "         [[-7.6886e-01, -3.8976e-01, -1.3751e+00,  ..., -3.8995e-02,\n",
            "            9.1978e-01,  7.9982e-01],\n",
            "          [ 5.0622e-02, -1.1584e+00,  1.1482e+00,  ..., -9.4999e-01,\n",
            "           -8.3138e-01,  5.7894e-01],\n",
            "          [-1.2201e-01,  1.2117e+00, -8.9678e-01,  ...,  9.3195e-02,\n",
            "            9.8226e-02,  1.1578e-01],\n",
            "          ...,\n",
            "          [-4.7007e-02, -1.3660e-01,  7.3100e-01,  ...,  3.0329e-03,\n",
            "            1.3908e+00,  1.2836e+00],\n",
            "          [ 3.4520e-01,  3.5625e-01,  1.4121e+00,  ..., -6.5532e-01,\n",
            "            8.5942e-01,  5.6386e-01],\n",
            "          [ 2.5323e-01, -7.8184e-01, -5.9645e-02,  ..., -8.6921e-01,\n",
            "            1.1629e+00, -1.2322e+00]],\n",
            "\n",
            "         [[-2.5913e-01,  3.7170e-01, -2.7487e-01,  ...,  4.0437e-01,\n",
            "           -1.6216e+00, -1.5245e+00],\n",
            "          [-2.2214e-01,  5.1795e-01,  1.2281e-01,  ..., -2.2593e-01,\n",
            "           -4.4829e-01, -1.6425e+00],\n",
            "          [-5.4566e-01,  4.2896e-01,  5.4913e-01,  ...,  2.8554e-01,\n",
            "            1.5346e-01, -5.2770e-01],\n",
            "          ...,\n",
            "          [ 1.5650e-01, -8.2826e-01,  1.0212e+00,  ...,  1.0272e+00,\n",
            "           -2.4081e-01, -9.9191e-02],\n",
            "          [-1.1374e+00,  1.9111e+00,  8.8610e-01,  ...,  1.1258e+00,\n",
            "           -2.8399e-01, -1.9070e-01],\n",
            "          [ 7.1031e-01,  1.3749e+00,  1.3941e+00,  ..., -4.9779e-01,\n",
            "           -3.7099e-01, -4.2633e-01]]],\n",
            "\n",
            "\n",
            "        [[[-1.2069e+00,  2.9986e-01, -1.3896e+00,  ..., -7.6214e-02,\n",
            "            8.4142e-01,  4.2267e-01],\n",
            "          [ 3.2375e+00,  1.3219e+00,  1.1236e+00,  ...,  1.6823e+00,\n",
            "            3.5922e-01,  8.1884e-01],\n",
            "          [-2.4593e-01,  5.8036e-02, -6.6736e-01,  ...,  8.1129e-01,\n",
            "            1.1374e-01,  7.2775e-01],\n",
            "          ...,\n",
            "          [ 2.5743e+00, -1.2861e+00,  5.7523e-01,  ...,  1.4295e+00,\n",
            "            2.5418e+00,  8.3864e-01],\n",
            "          [-5.5162e-01,  5.1579e-01,  1.0430e+00,  ...,  2.9008e-01,\n",
            "           -6.0879e-01,  6.3990e-01],\n",
            "          [ 1.4599e+00,  1.7860e-02,  1.2083e+00,  ..., -2.5456e+00,\n",
            "            1.0578e+00,  7.0910e-01]],\n",
            "\n",
            "         [[-4.3135e-02, -7.8281e-01,  4.1509e-02,  ...,  1.7895e+00,\n",
            "            1.2526e+00,  2.5650e-01],\n",
            "          [ 3.5211e-01,  5.1291e-01,  8.2775e-01,  ...,  3.3698e-01,\n",
            "            1.3855e+00,  1.6039e+00],\n",
            "          [-8.1730e-01,  6.0342e-01, -3.2850e-01,  ...,  1.9198e-02,\n",
            "            6.0728e-01, -9.9307e-01],\n",
            "          ...,\n",
            "          [ 9.0866e-02,  2.3532e-01, -1.5018e-01,  ...,  1.2883e-01,\n",
            "           -1.2707e+00, -4.0458e-01],\n",
            "          [ 4.2284e-01, -1.0772e-01,  1.0784e+00,  ...,  1.6492e+00,\n",
            "           -3.5320e-01, -2.8494e-02],\n",
            "          [-1.8864e-01,  2.3758e+00,  1.2018e+00,  ...,  1.7471e+00,\n",
            "            1.7575e+00, -5.7614e-01]],\n",
            "\n",
            "         [[-2.4809e+00,  2.7566e+00,  9.7224e-01,  ...,  1.8187e-01,\n",
            "            6.6248e-02,  7.6168e-01],\n",
            "          [ 1.3125e+00, -5.6431e-01, -5.7651e-01,  ..., -8.7561e-01,\n",
            "            1.4936e-02,  2.0435e-01],\n",
            "          [ 9.6420e-01,  1.6743e-01,  1.1538e+00,  ...,  1.2200e+00,\n",
            "            3.4338e-02, -8.0066e-01],\n",
            "          ...,\n",
            "          [-2.3944e-01,  2.8817e+00, -1.0917e+00,  ...,  1.0591e+00,\n",
            "           -1.0617e-01,  1.3519e+00],\n",
            "          [ 1.9942e+00, -3.5665e-01, -1.1740e+00,  ..., -9.0975e-01,\n",
            "           -3.5734e-01, -1.0846e+00],\n",
            "          [-5.3735e-01, -4.3094e-01, -1.2838e+00,  ...,  1.9344e+00,\n",
            "            5.6414e-01, -1.5751e-01]],\n",
            "\n",
            "         ...,\n",
            "\n",
            "         [[ 8.5639e-01, -1.4326e+00,  1.3774e+00,  ...,  2.5555e-02,\n",
            "            6.2457e-01,  1.5823e+00],\n",
            "          [ 5.8014e-01, -3.5706e-01,  1.1180e-01,  ...,  3.9724e-01,\n",
            "           -4.5600e-01,  9.6050e-01],\n",
            "          [-3.8899e+00,  1.1378e+00,  8.6248e-01,  ...,  9.1074e-01,\n",
            "            1.1500e+00,  1.5593e+00],\n",
            "          ...,\n",
            "          [ 1.1369e+00, -4.7250e-01, -2.0096e+00,  ...,  1.5179e+00,\n",
            "            3.2536e-02, -1.9627e+00],\n",
            "          [-6.1161e-01,  1.2655e+00, -6.2883e-01,  ..., -1.5180e+00,\n",
            "           -2.0251e+00,  5.0397e-02],\n",
            "          [-2.1411e+00,  1.5851e-01, -2.8967e-01,  ..., -1.3188e-01,\n",
            "           -1.1954e+00,  4.3909e-01]],\n",
            "\n",
            "         [[-8.0765e-02,  1.1160e+00,  3.0028e-01,  ..., -6.2721e-01,\n",
            "            4.7763e-01,  1.5299e-01],\n",
            "          [-1.6774e+00,  1.5471e+00, -5.7403e-01,  ...,  1.3860e+00,\n",
            "            6.6453e-01, -7.3154e-01],\n",
            "          [-1.1819e-01,  7.8372e-01, -1.0681e+00,  ...,  1.3408e-01,\n",
            "            2.2455e-01, -1.6711e+00],\n",
            "          ...,\n",
            "          [-3.6972e-01, -1.6307e-01,  2.1659e+00,  ...,  5.3482e-02,\n",
            "           -5.7211e-01,  1.2900e+00],\n",
            "          [-2.0925e-02, -1.8002e+00, -1.4978e+00,  ..., -1.0001e-01,\n",
            "            2.2705e-01,  2.6923e-01],\n",
            "          [-2.5008e-01, -2.3157e+00,  1.0116e+00,  ..., -7.7263e-01,\n",
            "            1.6101e+00, -5.3303e-01]],\n",
            "\n",
            "         [[ 5.2915e-01,  8.5923e-01,  1.5872e+00,  ...,  4.9550e-01,\n",
            "           -5.3597e-01, -3.3396e-01],\n",
            "          [ 2.8734e-01, -1.1733e+00, -4.2315e-01,  ...,  1.6011e-01,\n",
            "           -1.0522e+00,  5.9811e-01],\n",
            "          [-7.4133e-01,  1.0256e-01,  1.0396e+00,  ..., -9.6057e-01,\n",
            "           -1.6583e-01, -4.4606e-01],\n",
            "          ...,\n",
            "          [ 9.5235e-01,  2.1033e-01,  5.8830e-01,  ..., -1.5382e+00,\n",
            "           -6.4418e-02, -8.1321e-01],\n",
            "          [-6.0823e-01,  2.3517e-01, -2.2564e+00,  ..., -1.5306e-01,\n",
            "            9.7096e-01,  1.2058e+00],\n",
            "          [-6.6460e-01, -3.1764e-01,  6.1299e-01,  ..., -9.9238e-01,\n",
            "           -1.0460e+00, -2.9956e+00]]],\n",
            "\n",
            "\n",
            "        [[[ 1.8461e+00, -5.7255e-01, -1.4149e+00,  ..., -8.8303e-01,\n",
            "            1.3239e+00, -6.8179e-01],\n",
            "          [-1.2073e+00, -1.6196e-02,  5.8408e-01,  ...,  7.5133e-01,\n",
            "           -1.0514e+00, -2.4250e+00],\n",
            "          [ 4.6813e-01, -3.2435e-01, -1.8557e+00,  ..., -2.3252e-01,\n",
            "           -1.1843e+00,  2.3202e+00],\n",
            "          ...,\n",
            "          [ 2.5035e+00,  1.3045e+00, -9.2110e-01,  ..., -2.4636e-01,\n",
            "           -1.5255e+00, -1.0061e+00],\n",
            "          [-7.5443e-01,  3.5904e-02, -1.0000e+00,  ...,  6.8457e-01,\n",
            "            1.5800e-01,  2.3369e-01],\n",
            "          [-5.6630e-01, -1.3999e+00,  3.0514e+00,  ...,  1.2753e+00,\n",
            "            3.8564e-01, -5.7958e-01]],\n",
            "\n",
            "         [[-2.1391e-01, -1.9847e+00, -1.3334e+00,  ...,  8.0586e-01,\n",
            "           -4.1055e-01, -1.8022e+00],\n",
            "          [ 3.6142e-01,  1.7524e+00, -1.3872e+00,  ...,  1.8525e+00,\n",
            "            1.4565e-02,  5.8403e-01],\n",
            "          [-1.4695e+00, -6.9781e-01,  9.4920e-01,  ..., -4.3838e-01,\n",
            "           -1.1967e+00,  8.0528e-01],\n",
            "          ...,\n",
            "          [ 6.1781e-01, -9.8887e-01, -8.3867e-01,  ..., -5.6949e-01,\n",
            "            6.6986e-01, -4.1072e-01],\n",
            "          [ 5.0971e-01, -8.3232e-01, -2.8939e-01,  ...,  5.1090e-01,\n",
            "           -4.6989e-01, -5.5744e-01],\n",
            "          [ 1.6981e+00, -2.9908e-01,  1.8818e+00,  ..., -2.4730e+00,\n",
            "           -2.3010e-01,  1.7412e-01]],\n",
            "\n",
            "         [[-1.8539e-02,  1.3853e+00, -7.0159e-01,  ..., -1.1202e+00,\n",
            "           -7.7527e-01,  6.9678e-01],\n",
            "          [-1.4585e+00,  8.4322e-01,  8.3122e-02,  ...,  2.5462e-01,\n",
            "           -3.4408e-01, -9.3411e-01],\n",
            "          [-1.9443e+00, -6.3978e-02,  8.7834e-01,  ..., -2.5546e-01,\n",
            "            5.7218e-01, -5.3298e-01],\n",
            "          ...,\n",
            "          [ 1.3117e+00, -1.3309e+00, -1.4139e+00,  ..., -1.3061e+00,\n",
            "            2.8811e-01, -2.2502e+00],\n",
            "          [-2.2208e-01, -4.3505e-01, -9.9280e-01,  ..., -7.1666e-01,\n",
            "            4.7189e-01,  2.7439e+00],\n",
            "          [-1.5514e+00,  1.0888e+00, -8.7006e-01,  ..., -6.0377e-01,\n",
            "           -5.0381e-01,  1.7050e+00]],\n",
            "\n",
            "         ...,\n",
            "\n",
            "         [[-5.7966e-01, -2.0328e-01, -1.2737e+00,  ...,  1.4557e+00,\n",
            "           -8.8045e-01,  1.0704e-01],\n",
            "          [ 9.9110e-01, -1.0959e+00,  8.8860e-01,  ..., -1.0490e-01,\n",
            "            1.6505e+00, -1.7250e+00],\n",
            "          [ 5.9347e-01, -4.4886e-01, -7.7314e-02,  ..., -4.8400e-01,\n",
            "           -7.5163e-01,  4.2981e-02],\n",
            "          ...,\n",
            "          [ 8.8709e-01,  1.3150e+00,  4.0060e-01,  ..., -1.3900e+00,\n",
            "            3.3787e-01,  3.6484e-01],\n",
            "          [ 2.3044e+00,  6.6449e-01,  7.1780e-01,  ..., -6.8040e-01,\n",
            "            9.3688e-01, -1.3707e+00],\n",
            "          [ 5.8902e-02,  1.4309e+00,  4.6386e-01,  ..., -2.8955e-01,\n",
            "           -5.6047e-01, -1.7596e+00]],\n",
            "\n",
            "         [[ 2.2673e-01,  9.5092e-01, -1.3956e+00,  ..., -4.3311e-02,\n",
            "           -5.0383e-01, -3.9568e-01],\n",
            "          [-9.8022e-01, -1.6347e+00, -2.2677e+00,  ...,  4.7437e-01,\n",
            "           -4.6713e-01,  6.5783e-01],\n",
            "          [-4.9730e-01, -7.7495e-03,  1.9198e+00,  ..., -2.8357e+00,\n",
            "            3.6752e-01, -1.4135e-01],\n",
            "          ...,\n",
            "          [-2.3052e+00,  9.1313e-01,  6.8360e-01,  ...,  1.9461e-01,\n",
            "            7.6910e-01, -1.5494e+00],\n",
            "          [-6.2554e-02,  2.7997e-01,  1.0573e+00,  ..., -1.3606e-01,\n",
            "            1.0381e+00,  7.6435e-01],\n",
            "          [ 5.7770e-02, -9.5404e-01, -1.4793e-02,  ..., -2.5152e-01,\n",
            "           -1.9987e+00,  7.0322e-01]],\n",
            "\n",
            "         [[-5.9556e-01,  9.4138e-01,  5.4850e-01,  ...,  2.5366e-01,\n",
            "            5.9344e-01, -5.6427e-02],\n",
            "          [-8.6980e-02,  3.6463e-01,  1.5545e+00,  ...,  3.7101e-01,\n",
            "           -2.8124e-01,  2.0406e-01],\n",
            "          [ 9.3167e-01, -1.1161e+00,  2.2738e+00,  ..., -4.1136e-01,\n",
            "           -3.2839e-01, -2.4457e+00],\n",
            "          ...,\n",
            "          [-4.3929e-01, -1.7910e-03,  1.0942e+00,  ..., -9.6364e-01,\n",
            "           -1.5182e+00,  5.4013e-01],\n",
            "          [-5.2927e-02,  2.3699e-02,  1.0276e+00,  ..., -1.4068e+00,\n",
            "            6.8415e-01, -1.1816e+00],\n",
            "          [-1.1516e+00, -3.3986e-01,  7.4611e-01,  ...,  1.1554e+00,\n",
            "           -1.3060e+00, -1.9635e+00]]],\n",
            "\n",
            "\n",
            "        ...,\n",
            "\n",
            "\n",
            "        [[[-3.3733e-01, -5.2796e-01, -3.7054e-01,  ...,  3.3652e-01,\n",
            "            1.1328e+00,  2.0459e+00],\n",
            "          [-1.6835e+00,  2.2767e-01,  3.8934e-01,  ..., -4.9222e-01,\n",
            "           -1.5433e-01, -1.0376e-01],\n",
            "          [-1.6052e+00,  4.5079e-01,  2.8921e-01,  ..., -1.0823e+00,\n",
            "            1.7745e+00,  1.9579e+00],\n",
            "          ...,\n",
            "          [ 5.8961e-01, -6.3728e-01,  4.5258e-01,  ...,  1.1582e-01,\n",
            "           -2.4243e+00,  7.0705e-01],\n",
            "          [-7.3087e-01,  3.2309e-01,  2.1284e-01,  ..., -3.0293e-01,\n",
            "            1.7678e+00,  9.1050e-02],\n",
            "          [ 1.1392e+00,  5.7557e-01,  8.1223e-01,  ..., -3.6911e-01,\n",
            "            1.2421e-01, -1.3271e+00]],\n",
            "\n",
            "         [[ 4.1971e-01, -2.2825e+00, -6.8030e-01,  ..., -9.5700e-01,\n",
            "           -4.9772e-02, -3.9539e-01],\n",
            "          [ 1.1881e+00, -1.0516e-01, -3.3785e-01,  ...,  1.0980e+00,\n",
            "           -1.4455e-01, -1.1887e-01],\n",
            "          [-2.0882e-01,  2.8633e-01,  5.1769e-01,  ...,  1.1853e+00,\n",
            "            3.7496e-01, -2.0008e+00],\n",
            "          ...,\n",
            "          [-5.8139e-01, -8.9311e-01, -1.5405e-01,  ..., -1.1993e+00,\n",
            "            7.3268e-02,  9.0498e-01],\n",
            "          [-3.5334e-01, -2.9692e-01, -2.7121e-01,  ..., -1.0389e+00,\n",
            "            7.1275e-01,  7.9611e-01],\n",
            "          [-4.3121e-01, -1.4406e+00, -3.7854e-01,  ...,  3.0845e-01,\n",
            "           -1.6174e+00, -5.1221e-01]],\n",
            "\n",
            "         [[-2.5154e+00, -7.4621e-01,  1.0758e+00,  ...,  1.3399e+00,\n",
            "            3.0281e+00,  6.4221e-01],\n",
            "          [-1.8752e-01,  2.7569e-01, -1.6725e-01,  ..., -1.2431e+00,\n",
            "           -2.0767e+00,  1.4910e+00],\n",
            "          [-2.9191e-01,  1.3757e-01,  5.5036e-01,  ..., -6.0336e-01,\n",
            "           -6.0718e-01, -8.0731e-01],\n",
            "          ...,\n",
            "          [-2.5108e-01,  5.6702e-01, -1.5671e+00,  ...,  3.4476e-01,\n",
            "           -1.0706e+00, -1.7925e-01],\n",
            "          [-2.4130e-01,  8.4983e-01, -8.0099e-01,  ...,  4.2081e-02,\n",
            "            2.1950e-01, -4.7018e-01],\n",
            "          [-3.9846e-02,  3.4199e-01,  1.3744e+00,  ...,  1.4878e+00,\n",
            "           -2.1205e-01, -6.0455e-01]],\n",
            "\n",
            "         ...,\n",
            "\n",
            "         [[ 1.5572e-01, -8.5261e-01, -1.6638e+00,  ...,  3.5553e-01,\n",
            "           -9.3514e-01,  3.8972e-01],\n",
            "          [-1.1043e+00, -1.1652e+00,  1.6611e-01,  ...,  6.2184e-02,\n",
            "           -1.3503e+00, -1.9217e+00],\n",
            "          [ 1.0407e+00,  9.4812e-01,  6.9412e-01,  ..., -9.1231e-01,\n",
            "           -1.2035e+00, -2.6106e+00],\n",
            "          ...,\n",
            "          [ 3.4845e-02,  1.4128e+00,  5.6880e-01,  ...,  2.5442e-01,\n",
            "           -1.0632e+00, -6.8708e-02],\n",
            "          [ 7.0501e-01, -4.7735e-01,  1.0224e+00,  ...,  5.1589e-01,\n",
            "            1.6645e+00,  7.0383e-02],\n",
            "          [ 7.3110e-01, -1.2094e-01, -1.4036e+00,  ..., -1.5625e+00,\n",
            "           -7.2078e-02, -5.8740e-01]],\n",
            "\n",
            "         [[-1.0960e+00, -1.0319e+00, -1.6959e-01,  ..., -1.1122e+00,\n",
            "            4.1864e-01, -7.0673e-01],\n",
            "          [ 1.5575e+00, -5.0250e-01,  9.2519e-01,  ..., -1.3989e+00,\n",
            "            2.2081e-01,  3.1948e-02],\n",
            "          [-1.3856e+00, -7.5093e-01, -9.0319e-01,  ..., -1.3339e+00,\n",
            "           -1.8778e-01,  8.1723e-01],\n",
            "          ...,\n",
            "          [ 2.9522e-01, -1.1096e+00, -4.7959e-01,  ...,  1.3248e+00,\n",
            "            4.4889e-01, -1.4193e+00],\n",
            "          [-5.5189e-02,  9.4921e-01, -1.5913e+00,  ...,  4.4779e-01,\n",
            "           -7.2159e-01, -9.0200e-01],\n",
            "          [ 5.1895e-01,  1.2204e+00, -1.5327e+00,  ...,  1.3775e+00,\n",
            "           -8.6623e-01,  1.6004e+00]],\n",
            "\n",
            "         [[ 1.2440e-01, -1.5655e+00,  5.9632e-01,  ..., -5.5641e-01,\n",
            "           -2.1406e-01,  3.9050e-01],\n",
            "          [ 1.2155e+00,  1.5265e-01,  1.0026e+00,  ...,  1.1075e+00,\n",
            "            6.4660e-01,  4.2424e-01],\n",
            "          [-9.2179e-02,  9.0503e-01,  2.8197e-01,  ..., -1.7289e-01,\n",
            "            1.1854e+00,  1.0313e-01],\n",
            "          ...,\n",
            "          [ 2.0864e-01, -3.6946e-02, -5.1951e-01,  ..., -1.9090e+00,\n",
            "            2.6934e-01,  5.1121e-01],\n",
            "          [ 7.1902e-01, -2.3672e+00,  1.6053e+00,  ...,  2.8084e-01,\n",
            "           -1.3223e+00, -1.3581e+00],\n",
            "          [-1.0132e-01, -3.8757e-01, -1.8621e-01,  ..., -2.3306e-01,\n",
            "           -1.5318e+00, -1.3395e+00]]],\n",
            "\n",
            "\n",
            "        [[[-1.0759e+00, -1.2608e+00,  6.9321e-01,  ...,  4.5678e-01,\n",
            "            7.9480e-01,  1.0100e+00],\n",
            "          [-3.2784e+00, -2.3960e+00,  7.3183e-01,  ...,  1.0398e+00,\n",
            "            4.3740e-01,  1.2804e+00],\n",
            "          [-4.4365e-01,  5.8038e-01,  6.8249e-01,  ..., -3.3496e-01,\n",
            "            1.4978e+00,  4.4921e-03],\n",
            "          ...,\n",
            "          [-1.2101e-01, -1.4503e+00, -9.3718e-01,  ...,  1.4318e+00,\n",
            "           -3.7573e-03,  3.7070e-02],\n",
            "          [ 9.3637e-01, -9.5084e-01, -1.0825e+00,  ..., -3.3094e-01,\n",
            "            4.0551e-01, -6.6766e-01],\n",
            "          [-6.4220e-02, -5.2099e-02,  5.5375e-01,  ..., -6.2551e-02,\n",
            "            6.0910e-01,  6.4187e-01]],\n",
            "\n",
            "         [[-4.0230e-01, -6.8061e-01, -7.5689e-01,  ...,  2.2451e+00,\n",
            "           -2.9227e-01,  1.8606e-01],\n",
            "          [-2.0534e-01, -3.0433e-01, -4.3839e-01,  ..., -1.6158e+00,\n",
            "           -2.0450e+00, -2.8059e-01],\n",
            "          [ 1.1738e+00,  2.1891e+00, -6.3177e-01,  ...,  1.7301e+00,\n",
            "           -2.8402e-01, -6.7012e-01],\n",
            "          ...,\n",
            "          [ 7.0508e-01,  6.5585e-02,  4.2132e-01,  ..., -9.5196e-01,\n",
            "           -2.1588e+00,  1.3978e-04],\n",
            "          [-5.6426e-01,  4.5700e-01,  2.1781e+00,  ...,  5.9074e-01,\n",
            "           -5.3230e-01,  1.6455e-01],\n",
            "          [-3.7624e-01, -2.4467e-01, -7.9532e-01,  ..., -1.4598e-01,\n",
            "           -1.0289e+00, -3.0395e-01]],\n",
            "\n",
            "         [[-2.7344e-01, -2.5461e-01, -3.0993e-02,  ..., -4.4773e-01,\n",
            "           -1.1087e+00,  1.1419e+00],\n",
            "          [ 8.6240e-01, -1.5084e-01, -1.4310e-01,  ..., -6.5497e-01,\n",
            "           -4.5227e-01,  1.3577e-01],\n",
            "          [-1.0262e+00, -9.3794e-02, -1.9714e+00,  ...,  9.2062e-02,\n",
            "           -1.7130e+00, -4.1179e-01],\n",
            "          ...,\n",
            "          [-1.3952e+00,  6.1536e-01,  5.8731e-01,  ...,  3.4035e-01,\n",
            "            6.4575e-01,  4.0812e-01],\n",
            "          [ 1.3150e+00,  2.2361e-01,  1.4480e+00,  ..., -6.9907e-01,\n",
            "           -3.6000e+00,  1.4598e+00],\n",
            "          [-3.0827e-01,  9.1552e-01,  1.2367e+00,  ..., -9.9559e-02,\n",
            "           -4.4315e-01, -1.2870e+00]],\n",
            "\n",
            "         ...,\n",
            "\n",
            "         [[-7.3150e-01,  6.9567e-01, -1.1617e-01,  ..., -9.2095e-01,\n",
            "            3.8385e-01, -1.2999e+00],\n",
            "          [-4.1126e-01,  9.4302e-01, -8.3148e-01,  ..., -2.2195e-02,\n",
            "            1.1635e+00, -8.5290e-02],\n",
            "          [-4.3773e-01, -9.0046e-01, -5.3451e-01,  ...,  6.1210e-01,\n",
            "           -2.0112e-01,  1.5105e+00],\n",
            "          ...,\n",
            "          [-1.6716e-01, -7.4639e-01, -2.9177e+00,  ..., -5.1312e-01,\n",
            "            3.6313e-01,  1.1197e-03],\n",
            "          [-5.9168e-01,  1.0737e+00,  3.6779e-01,  ...,  6.8459e-02,\n",
            "           -8.0971e-03, -4.9087e-01],\n",
            "          [ 8.2263e-01, -2.0016e+00, -9.6453e-01,  ...,  4.0186e-01,\n",
            "           -8.6648e-01, -6.3196e-02]],\n",
            "\n",
            "         [[ 2.3898e-02, -6.0255e-02, -1.8116e+00,  ...,  5.5635e-01,\n",
            "            3.3323e-01, -3.9295e-01],\n",
            "          [-3.5477e-01,  5.8680e-01,  1.0429e+00,  ..., -1.7801e-01,\n",
            "            7.6506e-02,  1.4894e-01],\n",
            "          [ 8.9473e-01, -3.5667e-01,  8.6172e-01,  ...,  2.4774e+00,\n",
            "           -7.9430e-01, -7.3774e-01],\n",
            "          ...,\n",
            "          [-1.3573e-01, -1.1439e+00, -2.7909e-01,  ..., -1.7936e+00,\n",
            "           -4.8720e-02,  1.3442e+00],\n",
            "          [ 1.5695e+00, -1.0001e+00, -9.6839e-01,  ..., -8.3858e-01,\n",
            "            1.0939e+00,  2.4095e+00],\n",
            "          [ 5.2767e-02, -4.3112e-01,  3.3902e-01,  ..., -7.1738e-01,\n",
            "            1.0235e+00,  1.3634e-01]],\n",
            "\n",
            "         [[ 7.4616e-01, -2.8229e-01,  9.2901e-02,  ..., -5.8206e-01,\n",
            "            2.7812e-01,  1.4538e-01],\n",
            "          [-6.2152e-01, -1.3467e-01,  5.5237e-02,  ...,  1.0826e+00,\n",
            "            1.4900e+00,  1.2147e+00],\n",
            "          [ 3.7748e-01,  1.2760e+00,  5.3198e-01,  ...,  1.1706e+00,\n",
            "           -2.3983e-01,  2.1244e+00],\n",
            "          ...,\n",
            "          [ 2.8213e-01, -2.1506e-01, -2.0076e+00,  ..., -8.0679e-01,\n",
            "            6.4922e-01, -4.9380e-01],\n",
            "          [-6.9979e-01, -6.2685e-01,  9.3302e-01,  ..., -3.5370e-01,\n",
            "            1.2963e+00, -9.4226e-01],\n",
            "          [ 2.2744e-01,  1.8519e+00, -3.6799e-01,  ..., -8.1128e-01,\n",
            "           -2.1780e+00,  6.7390e-01]]],\n",
            "\n",
            "\n",
            "        [[[ 8.8289e-01,  3.7304e-01, -1.2951e+00,  ...,  3.0125e-01,\n",
            "            6.5992e-01, -1.1028e-01],\n",
            "          [-5.2792e-01,  6.4908e-01, -1.3692e+00,  ...,  1.2333e+00,\n",
            "           -6.7328e-01, -2.8730e-01],\n",
            "          [ 8.7602e-01, -4.9742e-01,  2.0375e-01,  ..., -2.0021e-01,\n",
            "           -4.3086e-02, -3.1127e-01],\n",
            "          ...,\n",
            "          [ 2.0455e-01, -8.3439e-01, -4.3078e-01,  ..., -1.8467e+00,\n",
            "            1.4448e+00, -2.0830e+00],\n",
            "          [ 1.4389e-01,  1.1861e+00,  9.0638e-02,  ..., -9.3144e-01,\n",
            "           -1.2917e+00,  5.3584e-01],\n",
            "          [ 2.1021e+00, -7.3655e-01,  1.1456e+00,  ...,  4.3414e-01,\n",
            "            1.2217e+00, -1.0804e-01]],\n",
            "\n",
            "         [[-6.9512e-01,  1.6859e+00, -1.0919e-01,  ...,  2.5643e-01,\n",
            "           -1.4227e+00, -8.1620e-01],\n",
            "          [-5.9471e-01, -2.8823e-02, -3.3104e-01,  ...,  1.6420e+00,\n",
            "            8.3875e-01,  1.1275e+00],\n",
            "          [ 1.5607e+00, -2.0694e-01, -1.0144e+00,  ..., -1.3896e+00,\n",
            "            1.8984e+00,  1.6268e+00],\n",
            "          ...,\n",
            "          [ 1.0010e+00,  5.0505e-01, -1.4260e+00,  ..., -4.0027e-01,\n",
            "           -5.9744e-01, -1.4443e+00],\n",
            "          [ 7.3609e-01, -5.1005e-01, -1.4643e+00,  ..., -1.0177e+00,\n",
            "           -4.6618e-01, -6.7032e-01],\n",
            "          [ 1.0419e+00,  3.9558e-01, -1.4720e-01,  ...,  6.1745e-01,\n",
            "           -6.9126e-01, -3.9560e-01]],\n",
            "\n",
            "         [[-1.8866e+00,  2.7305e-01,  2.2740e+00,  ..., -1.4608e+00,\n",
            "           -4.5932e-01,  6.1763e-02],\n",
            "          [-1.8366e+00,  7.0228e-01,  6.3327e-01,  ..., -3.4939e-01,\n",
            "            3.4472e-01,  2.8505e-01],\n",
            "          [ 5.7919e-01, -4.9025e-01, -1.7574e-02,  ..., -2.6425e-01,\n",
            "           -5.5528e-01,  6.3031e-02],\n",
            "          ...,\n",
            "          [-1.7211e+00,  1.7112e+00, -1.1808e+00,  ...,  8.1281e-01,\n",
            "            2.3931e+00,  2.9967e+00],\n",
            "          [ 3.1093e-01, -6.3394e-01,  2.0063e+00,  ...,  5.2094e-01,\n",
            "           -2.0086e+00,  1.3536e+00],\n",
            "          [-1.5095e+00,  9.8086e-01,  1.2121e+00,  ..., -5.7747e-01,\n",
            "           -1.1851e+00,  2.9003e-01]],\n",
            "\n",
            "         ...,\n",
            "\n",
            "         [[ 2.6655e+00,  1.9196e+00, -1.0622e-01,  ..., -5.3293e-02,\n",
            "            1.1595e+00,  1.5292e-01],\n",
            "          [-2.3321e+00,  1.4619e+00,  8.3848e-01,  ...,  5.1096e-01,\n",
            "            8.3937e-01,  1.8024e+00],\n",
            "          [ 2.3492e-01,  6.0643e-01, -6.8554e-01,  ..., -2.1557e-01,\n",
            "           -7.7513e-03, -1.3425e+00],\n",
            "          ...,\n",
            "          [-1.2690e+00, -7.1662e-01,  4.6194e-01,  ..., -9.2416e-02,\n",
            "            1.0924e+00, -1.9546e+00],\n",
            "          [-2.4838e-01,  7.7135e-01, -1.2665e-01,  ...,  3.0824e-01,\n",
            "           -1.9704e+00,  6.0524e-01],\n",
            "          [-2.5834e-01, -4.4107e-01, -9.9324e-01,  ...,  6.1837e-01,\n",
            "            4.9058e-01, -1.6998e-02]],\n",
            "\n",
            "         [[ 1.9819e+00,  2.9106e-01, -2.6641e-01,  ..., -9.0258e-01,\n",
            "           -1.4523e-01, -5.1196e-01],\n",
            "          [-2.0132e-01,  5.6414e-02,  8.0375e-01,  ..., -1.0903e+00,\n",
            "            9.3494e-01, -8.0066e-01],\n",
            "          [ 2.8996e-01,  4.3794e-01, -1.5793e+00,  ...,  7.7486e-01,\n",
            "           -7.4756e-01,  8.2921e-01],\n",
            "          ...,\n",
            "          [ 4.4232e-02,  2.3688e-01, -4.6089e-01,  ..., -7.5807e-01,\n",
            "            1.7748e+00,  3.7667e-01],\n",
            "          [ 5.3287e-01,  7.1866e-01, -9.8375e-02,  ..., -2.0469e+00,\n",
            "            6.1368e-01, -1.5220e+00],\n",
            "          [ 8.8079e-01,  9.8518e-01, -2.4732e-01,  ...,  3.0255e-01,\n",
            "           -3.0501e-01,  5.5478e-01]],\n",
            "\n",
            "         [[ 1.4241e+00,  7.5122e-01, -7.4825e-01,  ...,  3.2808e-01,\n",
            "            8.8509e-01, -1.9020e-01],\n",
            "          [ 3.2794e-01,  1.3241e+00, -9.0940e-01,  ..., -1.9516e-01,\n",
            "            1.3192e+00, -1.5715e+00],\n",
            "          [-3.8021e-01, -2.2944e-01, -6.3105e-01,  ..., -1.8615e-01,\n",
            "           -8.9801e-01,  9.2641e-01],\n",
            "          ...,\n",
            "          [ 5.3362e-01,  1.1287e+00, -1.2486e-01,  ...,  5.6263e-01,\n",
            "            6.6791e-01,  3.8889e-01],\n",
            "          [ 1.6181e+00,  1.2293e+00,  2.4496e-01,  ..., -4.4834e-01,\n",
            "           -1.4895e+00,  5.5632e-02],\n",
            "          [-2.3392e-01, -5.2650e-01, -5.1438e-01,  ...,  8.2248e-01,\n",
            "            7.5868e-05,  5.6880e-01]]]])\n",
            "tensor([[[[ 1.0574e-01,  1.7769e-02, -4.7987e-02,  ...,  2.9504e-01,\n",
            "            3.1705e-01,  1.2566e-01],\n",
            "          [ 6.2738e-01,  2.2608e-01, -1.8443e-01,  ..., -5.4361e-01,\n",
            "           -4.5528e-01, -8.8358e-02],\n",
            "          [ 5.6957e-01,  7.5959e-02,  1.1184e+00,  ..., -9.6888e-02,\n",
            "            3.3125e-01,  3.6174e-01],\n",
            "          ...,\n",
            "          [-4.4186e-01, -7.9542e-01,  7.5153e-01,  ...,  6.6550e-01,\n",
            "           -5.5297e-01, -6.3954e-02],\n",
            "          [-1.4621e-01, -5.3277e-01,  3.0246e-01,  ..., -4.3083e-01,\n",
            "            4.6686e-01, -1.6723e-02],\n",
            "          [ 6.1062e-01,  6.1820e-01,  5.5664e-01,  ...,  7.8893e-01,\n",
            "           -3.2390e-01, -7.5307e-02]],\n",
            "\n",
            "         [[-1.8214e-02, -2.7326e-01,  1.0093e-01,  ..., -2.1326e-01,\n",
            "           -9.4846e-02, -2.2308e-01],\n",
            "          [-1.1735e-01, -4.5815e-01, -4.8755e-01,  ...,  4.1972e-01,\n",
            "            6.9736e-01,  4.5370e-03],\n",
            "          [-2.5563e-01, -2.8897e-01,  8.1697e-01,  ..., -1.2668e-01,\n",
            "            2.7423e-01,  1.8176e-01],\n",
            "          ...,\n",
            "          [-8.3098e-01,  8.4035e-01,  4.5489e-01,  ..., -4.6181e-01,\n",
            "            9.2582e-02,  9.6624e-02],\n",
            "          [-1.0797e-01, -6.3751e-01, -4.3297e-01,  ..., -9.1126e-01,\n",
            "            5.7838e-02, -6.2695e-01],\n",
            "          [ 1.4983e-01,  2.1058e-01,  2.1701e-01,  ...,  2.5226e-01,\n",
            "           -9.9977e-01, -9.8234e-02]],\n",
            "\n",
            "         [[ 7.6440e-02, -5.1521e-01, -4.0051e-01,  ...,  7.2303e-02,\n",
            "           -5.3332e-01, -6.6190e-02],\n",
            "          [-5.4733e-02,  1.9236e-01, -7.0704e-01,  ..., -6.5323e-01,\n",
            "           -8.6892e-01, -1.1242e-01],\n",
            "          [-4.7541e-01,  3.9782e-01,  1.4907e-01,  ...,  6.3107e-01,\n",
            "            8.5185e-01, -7.3426e-01],\n",
            "          ...,\n",
            "          [-2.8657e-01,  2.6180e-01, -4.2091e-01,  ...,  4.9198e-01,\n",
            "            3.4950e-01, -1.9235e-01],\n",
            "          [ 1.0786e-02, -3.2490e-01,  3.6929e-01,  ..., -8.4462e-03,\n",
            "           -5.6830e-01, -1.8927e-01],\n",
            "          [ 1.3463e-01, -4.8456e-01,  3.1191e-01,  ...,  5.0107e-01,\n",
            "           -2.6598e-01, -8.5272e-02]],\n",
            "\n",
            "         ...,\n",
            "\n",
            "         [[ 1.9853e-01, -3.9714e-01,  1.7407e-01,  ..., -4.8195e-02,\n",
            "           -3.5090e-01, -2.6246e-01],\n",
            "          [ 2.7902e-01, -1.9535e-01,  7.1829e-02,  ...,  1.0999e+00,\n",
            "           -5.4404e-01, -2.3714e-01],\n",
            "          [-9.0706e-02,  5.5549e-02,  6.7578e-01,  ..., -1.0052e+00,\n",
            "           -7.6472e-02, -3.8758e-01],\n",
            "          ...,\n",
            "          [-3.0973e-03, -1.0916e+00,  8.7026e-02,  ...,  8.2408e-01,\n",
            "            1.0279e+00,  6.3626e-01],\n",
            "          [-4.8615e-01, -9.7191e-01, -7.3369e-02,  ..., -3.9731e-01,\n",
            "            4.6171e-01, -2.8344e-01],\n",
            "          [-2.9619e-01, -3.9543e-01,  2.5147e-01,  ...,  4.2690e-01,\n",
            "            4.9843e-01,  4.2015e-01]],\n",
            "\n",
            "         [[-5.6340e-01,  1.9800e-01,  5.4215e-01,  ..., -1.1368e-01,\n",
            "           -8.7470e-03,  5.5660e-02],\n",
            "          [-3.1265e-01,  8.1976e-02, -3.2627e-01,  ...,  2.8216e-01,\n",
            "           -1.4247e-01, -3.0948e-01],\n",
            "          [-5.2350e-01, -6.2454e-01,  5.5286e-01,  ..., -2.8285e-01,\n",
            "           -3.5749e-01,  2.2911e-01],\n",
            "          ...,\n",
            "          [-1.2146e-01, -3.2526e-01,  5.7182e-01,  ..., -4.9987e-01,\n",
            "            9.5593e-02,  3.5565e-01],\n",
            "          [-2.0725e-01,  4.6398e-02,  5.2901e-01,  ...,  5.3705e-01,\n",
            "           -3.9361e-01,  5.1814e-01],\n",
            "          [ 3.4739e-02,  5.1505e-01,  9.9322e-02,  ..., -2.7319e-01,\n",
            "            6.8136e-01,  5.8247e-01]],\n",
            "\n",
            "         [[-2.8947e-01, -5.2709e-01, -4.2018e-01,  ...,  2.4950e-01,\n",
            "            9.5471e-02, -1.2095e-01],\n",
            "          [ 1.6980e-01, -1.2879e-01, -4.3100e-02,  ...,  5.5869e-01,\n",
            "           -5.4538e-01,  9.2811e-02],\n",
            "          [ 1.0151e-01,  1.6197e-02,  2.0420e-01,  ..., -1.6892e-01,\n",
            "           -1.3960e-01,  2.1799e-01],\n",
            "          ...,\n",
            "          [-9.8359e-01, -9.1525e-01,  5.4662e-01,  ..., -4.4083e-02,\n",
            "           -1.9717e-01,  5.5237e-01],\n",
            "          [-2.9013e-01,  2.4978e-01,  1.4384e-01,  ..., -5.2632e-01,\n",
            "           -3.0753e-01, -2.7646e-02],\n",
            "          [-4.8597e-01, -3.0190e-01, -4.9240e-02,  ..., -9.9013e-02,\n",
            "           -3.0780e-01,  3.6509e-02]]],\n",
            "\n",
            "\n",
            "        [[[-1.4556e-01,  5.1931e-01,  7.5692e-01,  ...,  3.4399e-01,\n",
            "            1.3971e-02,  1.2069e-01],\n",
            "          [-1.9846e-01,  7.0655e-01,  3.9069e-01,  ...,  6.4217e-01,\n",
            "            1.0039e-01, -1.9251e-01],\n",
            "          [-9.7035e-02,  4.2122e-01, -1.1052e+00,  ..., -2.1273e-01,\n",
            "           -6.7660e-01,  1.1641e+00],\n",
            "          ...,\n",
            "          [ 1.5302e-01,  3.7344e-01,  1.5641e+00,  ...,  2.1989e-01,\n",
            "            1.6766e-02,  1.7926e-01],\n",
            "          [ 3.5243e-01,  1.0661e+00,  2.0965e-01,  ...,  3.5323e-01,\n",
            "           -4.5533e-01,  1.6243e-01],\n",
            "          [ 3.6735e-01,  1.1488e-01, -2.7875e-01,  ..., -1.1678e+00,\n",
            "            6.6281e-01, -6.0607e-01]],\n",
            "\n",
            "         [[-2.1016e-01,  1.7863e-01,  2.2541e-01,  ...,  6.4773e-01,\n",
            "            1.5965e-03, -2.7139e-01],\n",
            "          [-2.6908e-01, -8.3604e-01, -6.9989e-01,  ..., -3.1492e-01,\n",
            "            1.7449e-01,  1.6487e-01],\n",
            "          [-2.3052e-01,  3.0977e-02, -3.3485e-01,  ...,  2.7649e-01,\n",
            "           -6.4057e-02, -4.2279e-01],\n",
            "          ...,\n",
            "          [ 3.6543e-01, -1.1034e+00,  2.6480e-02,  ..., -2.4786e-01,\n",
            "           -5.5895e-01, -8.6764e-01],\n",
            "          [ 2.4300e-01, -8.5146e-01, -6.2248e-02,  ...,  2.6775e-01,\n",
            "           -5.2794e-01, -5.0058e-01],\n",
            "          [ 1.2255e-01,  2.6182e-01,  5.4717e-01,  ..., -2.6336e-01,\n",
            "           -1.7070e-01,  1.9041e-02]],\n",
            "\n",
            "         [[-3.9344e-01,  2.6273e-01,  3.5885e-01,  ..., -3.1539e-02,\n",
            "           -1.5259e-02,  6.3564e-02],\n",
            "          [-4.0645e-01,  2.7279e-01,  3.5967e-01,  ...,  1.6935e-01,\n",
            "           -3.4672e-01,  2.0081e-02],\n",
            "          [ 1.5612e-01,  6.3751e-01,  1.5281e+00,  ..., -1.2094e-01,\n",
            "           -2.7707e-01,  7.5986e-01],\n",
            "          ...,\n",
            "          [ 1.9919e-01, -2.9469e-01, -4.4214e-01,  ...,  9.4204e-01,\n",
            "            7.8592e-01, -4.9822e-01],\n",
            "          [-5.8792e-01,  8.9252e-01, -5.0491e-01,  ...,  1.5174e-01,\n",
            "            1.4874e-01,  5.8474e-01],\n",
            "          [ 1.0801e-02, -1.2039e+00, -4.6732e-01,  ..., -4.1942e-01,\n",
            "            3.5930e-01,  3.3873e-01]],\n",
            "\n",
            "         ...,\n",
            "\n",
            "         [[ 4.5211e-01, -1.3055e-01, -2.8771e-01,  ...,  1.1664e-01,\n",
            "           -4.7405e-01, -3.4382e-01],\n",
            "          [-1.8669e-01, -7.6444e-01,  4.6649e-02,  ..., -7.6815e-01,\n",
            "           -6.9431e-01,  2.4318e-01],\n",
            "          [ 2.3514e-01,  5.4237e-01, -1.2051e+00,  ..., -6.8134e-02,\n",
            "            1.0426e+00, -5.5143e-01],\n",
            "          ...,\n",
            "          [ 3.3693e-01,  2.4378e-02,  1.1799e-01,  ..., -1.4131e+00,\n",
            "           -3.5069e-01,  5.0080e-01],\n",
            "          [-6.2342e-01, -4.2730e-01,  1.1436e-01,  ..., -9.9280e-02,\n",
            "            5.3455e-01, -8.5610e-02],\n",
            "          [-4.3858e-01,  3.5386e-01, -3.2761e-01,  ...,  6.0386e-02,\n",
            "            7.4841e-02, -4.9649e-01]],\n",
            "\n",
            "         [[-6.9710e-02, -2.3304e-01, -5.5033e-01,  ...,  8.8771e-02,\n",
            "            1.4902e-02, -1.9640e-01],\n",
            "          [ 1.6418e-02,  3.2954e-01, -2.5356e-01,  ..., -1.1755e-01,\n",
            "           -1.7898e-01,  1.1442e-01],\n",
            "          [ 2.2070e-01,  3.6990e-01,  1.6049e-01,  ..., -2.9818e-01,\n",
            "           -1.8713e-02,  2.7452e-01],\n",
            "          ...,\n",
            "          [ 1.3626e-01, -2.7734e-01, -7.9212e-03,  ..., -9.0365e-01,\n",
            "           -7.4792e-01,  2.9159e-01],\n",
            "          [-1.7507e-01, -1.2416e-01, -2.6767e-01,  ...,  2.0645e-01,\n",
            "           -6.6476e-01, -2.0727e-01],\n",
            "          [ 1.7812e-01, -2.6097e-01,  3.5153e-01,  ..., -1.0705e+00,\n",
            "            4.5980e-02,  1.5840e-01]],\n",
            "\n",
            "         [[-1.6977e-01,  1.2684e-01,  7.3994e-02,  ...,  1.6022e-01,\n",
            "            1.7590e-01, -2.1008e-01],\n",
            "          [-7.9939e-02,  5.0105e-01,  3.5477e-01,  ..., -5.4623e-01,\n",
            "            6.2559e-01,  3.0758e-01],\n",
            "          [ 4.6480e-01,  5.6688e-01, -5.3520e-01,  ...,  7.4354e-01,\n",
            "            4.0237e-01,  2.8501e-01],\n",
            "          ...,\n",
            "          [-6.1870e-02, -5.7071e-02,  9.8932e-01,  ...,  3.0188e-02,\n",
            "            6.5701e-02, -7.2180e-01],\n",
            "          [ 5.0621e-01,  2.5257e-01,  3.1069e-01,  ...,  2.9995e-01,\n",
            "           -3.9972e-01,  3.8317e-01],\n",
            "          [ 1.4954e-01, -6.2604e-01, -2.8668e-01,  ..., -5.0071e-01,\n",
            "           -3.6675e-01, -5.9770e-02]]],\n",
            "\n",
            "\n",
            "        [[[-1.8727e-02,  1.1282e-01, -4.7654e-01,  ...,  1.3249e-01,\n",
            "            2.5742e-01, -2.5686e-01],\n",
            "          [-3.3215e-01,  1.5893e-01, -3.2658e-01,  ...,  2.9404e-01,\n",
            "            1.2159e-01,  3.4687e-01],\n",
            "          [ 2.0338e-03, -9.6469e-01, -5.1786e-01,  ...,  4.0286e-01,\n",
            "            3.0159e-01,  1.1758e-01],\n",
            "          ...,\n",
            "          [-4.4211e-01,  5.5117e-01, -7.0381e-01,  ..., -4.2251e-02,\n",
            "            2.7692e-01,  1.3910e-01],\n",
            "          [-5.3364e-02,  7.5876e-01,  2.0019e-01,  ...,  4.7837e-01,\n",
            "           -9.0300e-02, -6.8110e-02],\n",
            "          [-1.2877e-01, -3.1240e-01, -1.1935e-02,  ...,  1.1933e-01,\n",
            "           -7.0521e-01,  6.4845e-01]],\n",
            "\n",
            "         [[-5.9030e-01,  3.8439e-01,  2.6691e-02,  ..., -1.7031e-01,\n",
            "           -5.9091e-01, -1.9464e-02],\n",
            "          [-2.5308e-01,  6.8457e-01,  1.2537e-01,  ..., -2.6847e-01,\n",
            "            6.0693e-02,  3.9807e-01],\n",
            "          [ 2.1834e-01, -1.2065e+00,  2.2945e-02,  ...,  2.7275e-01,\n",
            "            6.1882e-01, -5.6694e-02],\n",
            "          ...,\n",
            "          [-1.7750e-01, -2.7009e-01,  1.6172e-01,  ...,  1.1013e+00,\n",
            "           -1.6747e-01,  7.8646e-02],\n",
            "          [ 2.2279e-02, -5.4083e-01, -1.0713e-01,  ...,  2.8567e-01,\n",
            "            1.3633e-01, -3.4426e-01],\n",
            "          [-1.0072e+00,  3.6588e-02, -1.1820e-01,  ..., -1.7608e-01,\n",
            "           -4.5565e-02,  7.7988e-03]],\n",
            "\n",
            "         [[ 2.6089e-01,  4.3928e-01,  6.5699e-02,  ..., -1.2666e-01,\n",
            "            3.7164e-01, -4.1959e-01],\n",
            "          [-1.8010e-01, -4.1663e-01,  2.3565e-01,  ..., -8.8786e-01,\n",
            "            4.4400e-01, -2.9216e-01],\n",
            "          [-4.0615e-01, -1.8364e-01,  1.3921e-01,  ..., -7.1843e-01,\n",
            "           -3.5698e-01,  3.0768e-01],\n",
            "          ...,\n",
            "          [-1.9163e-01, -6.3699e-01, -1.1028e+00,  ...,  7.3216e-01,\n",
            "           -3.1334e-01, -4.1997e-01],\n",
            "          [-4.5881e-01, -3.2690e-01, -2.3478e-01,  ...,  2.9036e-01,\n",
            "           -1.8742e-01, -2.1660e-01],\n",
            "          [-3.8106e-01, -2.4645e-01, -6.6682e-01,  ...,  7.8173e-02,\n",
            "            6.9347e-01,  4.9674e-01]],\n",
            "\n",
            "         ...,\n",
            "\n",
            "         [[ 3.6549e-02, -1.1347e-01, -6.9188e-01,  ...,  6.3916e-03,\n",
            "           -1.1874e-01,  5.8450e-03],\n",
            "          [-1.1140e-01,  5.9923e-01,  3.3353e-01,  ..., -2.8624e-01,\n",
            "           -3.2418e-01,  6.1602e-04],\n",
            "          [ 7.0940e-01,  5.3652e-01, -2.1351e-01,  ..., -1.7046e-01,\n",
            "           -9.4230e-01, -1.0842e+00],\n",
            "          ...,\n",
            "          [ 1.7401e-03, -5.2555e-01,  3.1800e-01,  ...,  4.3233e-01,\n",
            "            5.3738e-01,  7.1617e-01],\n",
            "          [-4.7043e-01, -2.5102e-01, -6.9855e-04,  ...,  3.4901e-01,\n",
            "           -1.0002e-01,  5.8136e-01],\n",
            "          [-2.2749e-02,  4.0581e-02, -6.1138e-01,  ...,  1.6498e-01,\n",
            "            3.0971e-01,  8.0663e-03]],\n",
            "\n",
            "         [[ 1.1666e-01, -1.5631e-01,  3.7596e-01,  ...,  8.3983e-02,\n",
            "            4.1197e-02,  3.3529e-01],\n",
            "          [-2.1091e-01, -1.3845e-01,  2.4681e-01,  ..., -3.2789e-01,\n",
            "            1.5487e-01, -3.3363e-02],\n",
            "          [-1.1245e-01,  1.2458e-01,  3.1523e-01,  ...,  5.2764e-01,\n",
            "           -2.0869e-01,  4.7925e-02],\n",
            "          ...,\n",
            "          [-1.1306e-01, -6.4450e-02, -3.1199e-01,  ..., -1.2461e-01,\n",
            "            5.1634e-01, -3.3341e-01],\n",
            "          [-2.7580e-02,  6.1589e-01, -7.0855e-02,  ..., -4.4103e-02,\n",
            "            6.6214e-02, -3.3313e-02],\n",
            "          [-1.1425e-01,  6.5049e-01,  8.2723e-02,  ...,  1.1835e-01,\n",
            "           -4.0410e-01, -5.1551e-02]],\n",
            "\n",
            "         [[-3.3866e-01,  2.9353e-02,  3.4723e-02,  ...,  1.9505e-01,\n",
            "           -1.5662e-01,  6.0577e-02],\n",
            "          [ 3.2225e-02, -1.5741e-01,  2.5695e-01,  ..., -7.9263e-01,\n",
            "            2.0731e-01, -1.8130e-01],\n",
            "          [-2.6491e-01, -8.6422e-02, -1.2173e-01,  ..., -6.0780e-01,\n",
            "            5.8427e-02, -1.4184e-01],\n",
            "          ...,\n",
            "          [-1.9249e-01,  2.1613e-01, -9.1612e-01,  ..., -2.1155e-01,\n",
            "            7.6477e-02, -1.6663e-01],\n",
            "          [ 6.7137e-01, -1.6122e-01, -2.0262e-01,  ..., -3.5893e-01,\n",
            "           -5.5911e-01, -6.5905e-01],\n",
            "          [ 1.2216e-01, -7.9138e-01, -7.5682e-02,  ..., -4.4089e-01,\n",
            "            5.2034e-01, -9.3091e-01]]],\n",
            "\n",
            "\n",
            "        ...,\n",
            "\n",
            "\n",
            "        [[[ 1.8966e-01,  2.8288e-02, -4.6008e-02,  ...,  2.1627e-01,\n",
            "            1.6169e-01, -1.5215e-01],\n",
            "          [ 3.2310e-01, -2.8906e-01,  3.5045e-01,  ...,  7.8668e-01,\n",
            "            2.1287e-01,  9.7950e-02],\n",
            "          [-5.1272e-01, -5.6276e-02, -8.0660e-01,  ...,  5.9687e-01,\n",
            "           -1.8374e-01,  2.8104e-01],\n",
            "          ...,\n",
            "          [ 6.9911e-02,  5.6963e-01, -5.9367e-01,  ...,  5.5442e-01,\n",
            "           -2.6491e-01, -4.6418e-02],\n",
            "          [ 4.8908e-01, -3.6742e-01, -7.8863e-01,  ..., -2.0370e-01,\n",
            "            4.0679e-01, -1.3631e-01],\n",
            "          [ 6.0643e-01,  5.0637e-02, -1.7173e-01,  ...,  1.0005e-01,\n",
            "            5.4639e-01,  3.9382e-01]],\n",
            "\n",
            "         [[ 5.9639e-01,  1.0591e-02,  4.4735e-02,  ..., -3.7232e-01,\n",
            "           -1.6065e-01, -9.7420e-02],\n",
            "          [-2.8228e-01,  5.2958e-01,  5.4785e-02,  ..., -1.6086e-01,\n",
            "            4.8906e-01,  4.3831e-01],\n",
            "          [-3.2867e-01,  2.0459e-01, -1.2897e+00,  ...,  4.7174e-02,\n",
            "           -1.5768e-02,  9.9869e-02],\n",
            "          ...,\n",
            "          [ 4.3810e-01,  3.6296e-01, -5.4119e-01,  ...,  1.1798e+00,\n",
            "           -3.3353e-01, -5.1117e-02],\n",
            "          [-4.1278e-01, -2.3603e-01, -8.1464e-02,  ..., -1.6539e-01,\n",
            "            1.6747e-01, -2.5737e-01],\n",
            "          [ 6.3786e-02, -6.1561e-02,  1.1233e-01,  ...,  7.5860e-02,\n",
            "            4.5890e-02, -2.8063e-01]],\n",
            "\n",
            "         [[ 2.5517e-01,  2.2850e-01, -5.0361e-02,  ..., -5.8019e-02,\n",
            "            3.4898e-02, -1.5173e-01],\n",
            "          [-3.8380e-01, -1.6200e-01,  1.7889e-01,  ..., -4.8822e-02,\n",
            "           -1.0103e-01,  2.1639e-01],\n",
            "          [ 1.7445e-01,  7.2012e-01, -4.1154e-01,  ..., -2.3366e-01,\n",
            "            4.5574e-01,  1.7241e-01],\n",
            "          ...,\n",
            "          [-2.5274e-01,  2.6079e-01, -7.7879e-01,  ...,  3.9778e-01,\n",
            "           -4.8775e-01, -7.8567e-02],\n",
            "          [ 3.9525e-02,  5.0253e-01, -7.7057e-01,  ...,  6.7327e-01,\n",
            "           -1.5634e-01, -5.4760e-02],\n",
            "          [ 4.6016e-02,  5.9794e-01, -3.3920e-01,  ...,  3.3715e-01,\n",
            "            6.8057e-01,  2.3039e-01]],\n",
            "\n",
            "         ...,\n",
            "\n",
            "         [[-2.4575e-01, -2.9218e-01, -3.1772e-01,  ..., -4.4724e-01,\n",
            "           -3.5190e-01, -2.6171e-01],\n",
            "          [-8.8250e-01, -5.0021e-01,  6.6047e-01,  ..., -7.8697e-01,\n",
            "           -4.7304e-01, -3.7187e-01],\n",
            "          [-6.0018e-01, -5.4457e-01, -2.8528e-01,  ..., -4.6225e-01,\n",
            "           -5.0039e-01,  5.4757e-01],\n",
            "          ...,\n",
            "          [ 2.2138e-01, -1.4253e-01,  2.5522e-01,  ...,  2.6977e-01,\n",
            "            2.9189e-01, -8.3494e-01],\n",
            "          [ 1.4793e-01,  1.4045e-01, -3.5123e-01,  ..., -1.1665e+00,\n",
            "           -1.8209e-01, -6.8462e-01],\n",
            "          [-6.3359e-01, -3.4075e-01, -4.8362e-01,  ..., -7.5196e-01,\n",
            "           -3.0690e-01,  2.1901e-01]],\n",
            "\n",
            "         [[-1.8591e-01,  7.6211e-02, -1.8530e-01,  ...,  3.1544e-01,\n",
            "            7.0019e-01, -1.7531e-02],\n",
            "          [ 3.8876e-01,  6.2894e-02, -1.8877e-01,  ...,  4.6347e-02,\n",
            "            9.2434e-02, -2.8117e-02],\n",
            "          [ 1.1263e+00,  3.1767e-01,  1.4335e-02,  ...,  8.0349e-01,\n",
            "           -8.7626e-01,  3.9745e-01],\n",
            "          ...,\n",
            "          [-8.4872e-01, -6.5657e-02,  4.4475e-01,  ..., -3.9541e-01,\n",
            "            1.7056e-01, -5.7394e-02],\n",
            "          [-3.2428e-01, -2.4661e-01, -1.8729e-01,  ..., -8.0585e-01,\n",
            "            5.9862e-01, -1.9833e-01],\n",
            "          [-4.4803e-01,  6.0375e-01,  1.2532e-01,  ...,  3.1501e-01,\n",
            "           -9.6209e-01,  2.4563e-01]],\n",
            "\n",
            "         [[ 2.7774e-01,  3.2003e-01,  2.3347e-01,  ...,  5.5659e-02,\n",
            "           -3.3343e-01, -7.4357e-01],\n",
            "          [-8.2801e-02, -1.8525e-01,  1.1858e+00,  ...,  8.4366e-02,\n",
            "            7.3423e-01, -1.0467e-01],\n",
            "          [ 6.5035e-01,  6.7454e-01, -6.8875e-01,  ...,  4.3765e-01,\n",
            "           -1.6109e-01,  2.1240e-01],\n",
            "          ...,\n",
            "          [-1.7590e-01,  6.8418e-01, -5.1583e-03,  ..., -3.7112e-01,\n",
            "           -4.4040e-01,  8.8128e-02],\n",
            "          [-3.2366e-01,  6.0527e-01, -3.6181e-01,  ..., -3.1595e-01,\n",
            "           -5.6523e-01,  5.7647e-02],\n",
            "          [-2.8467e-02,  3.7210e-01, -2.0483e-01,  ..., -1.1062e-01,\n",
            "            3.5366e-01,  5.9404e-02]]],\n",
            "\n",
            "\n",
            "        [[[-7.1715e-02,  2.0598e-01,  5.9296e-01,  ...,  1.1702e-01,\n",
            "            3.6048e-01,  1.5282e-01],\n",
            "          [ 4.1864e-01, -6.0724e-01,  9.3166e-03,  ...,  4.1646e-01,\n",
            "            7.1149e-01,  3.6576e-01],\n",
            "          [ 3.5905e-01, -6.8120e-01,  3.2614e-01,  ..., -1.6130e-01,\n",
            "            3.1290e-01, -3.2112e-01],\n",
            "          ...,\n",
            "          [-5.2561e-01, -8.6693e-03,  3.5446e-01,  ..., -1.9546e-01,\n",
            "           -5.8713e-01, -7.6569e-03],\n",
            "          [ 3.7024e-01, -1.2755e+00,  3.7022e-01,  ..., -3.8364e-01,\n",
            "            1.1668e-01,  6.8580e-01],\n",
            "          [ 2.4825e-01,  2.9524e-02,  3.2449e-01,  ...,  7.9313e-01,\n",
            "            6.1401e-01,  7.8351e-02]],\n",
            "\n",
            "         [[ 1.6993e-01, -2.1171e-02, -1.9364e-01,  ..., -1.4705e-02,\n",
            "            3.1792e-01,  5.3300e-01],\n",
            "          [-2.3535e-01, -5.8791e-02,  1.8796e-01,  ...,  3.2370e-01,\n",
            "            1.3868e-01,  2.4169e-01],\n",
            "          [ 1.5171e-01, -3.2068e-01, -5.5060e-02,  ..., -3.6924e-01,\n",
            "            3.9707e-01, -3.4991e-01],\n",
            "          ...,\n",
            "          [ 4.8503e-02, -4.3574e-01, -6.1995e-01,  ..., -2.3711e-01,\n",
            "            1.4897e-01, -1.1007e-01],\n",
            "          [ 1.5201e-01, -2.5686e-01, -1.4438e-01,  ...,  2.4668e-01,\n",
            "            3.5328e-01, -8.0447e-02],\n",
            "          [-3.1058e-01,  1.0387e-01,  3.9874e-01,  ..., -2.3154e-01,\n",
            "            2.8958e-02, -9.4118e-02]],\n",
            "\n",
            "         [[-3.1541e-01, -2.4089e-01, -1.8519e-01,  ...,  6.3206e-01,\n",
            "           -8.0471e-02,  5.1695e-02],\n",
            "          [-2.0887e-01, -7.1811e-01, -1.9339e-01,  ...,  7.4654e-02,\n",
            "           -6.8020e-02,  1.6100e-01],\n",
            "          [-9.2288e-02, -5.7281e-01,  2.0585e-02,  ..., -2.5877e-01,\n",
            "           -1.0993e-01, -9.1039e-01],\n",
            "          ...,\n",
            "          [-8.2858e-02, -3.5675e-01,  1.7616e-01,  ..., -1.5612e+00,\n",
            "           -2.8506e-01, -6.1925e-02],\n",
            "          [ 1.3206e-01, -4.8851e-01,  1.3177e-01,  ...,  1.5371e-01,\n",
            "            4.0402e-01, -3.1470e-01],\n",
            "          [ 4.8345e-01, -5.0429e-01, -1.2069e-01,  ..., -2.6870e-01,\n",
            "           -9.1000e-02, -6.0724e-01]],\n",
            "\n",
            "         ...,\n",
            "\n",
            "         [[ 7.0098e-02,  1.0836e-01, -6.6400e-01,  ...,  1.6364e-02,\n",
            "            3.8693e-01, -2.8357e-01],\n",
            "          [ 4.0898e-01, -1.1960e+00,  1.4818e-01,  ...,  4.1088e-01,\n",
            "           -6.4593e-01, -7.6473e-01],\n",
            "          [-1.8043e-01, -1.5272e-02, -7.3496e-02,  ...,  3.7748e-01,\n",
            "           -7.6742e-02,  2.8109e-01],\n",
            "          ...,\n",
            "          [-3.9502e-01,  9.0851e-02, -5.7320e-01,  ...,  2.0955e-01,\n",
            "           -3.8742e-01, -6.5369e-01],\n",
            "          [ 1.6554e-01, -1.1574e-01, -6.8528e-01,  ..., -1.6804e-02,\n",
            "           -6.9701e-02,  1.0558e-01],\n",
            "          [ 8.5354e-02,  2.1836e-01, -5.2537e-01,  ...,  8.7994e-02,\n",
            "           -1.6067e-01, -3.8375e-02]],\n",
            "\n",
            "         [[-2.1430e-01, -4.0414e-01,  4.6947e-01,  ...,  2.9870e-01,\n",
            "            2.8976e-02,  8.6005e-02],\n",
            "          [-4.5334e-02,  6.4985e-01, -4.7215e-01,  ..., -2.1489e-01,\n",
            "           -9.3733e-02, -6.4915e-01],\n",
            "          [-5.5444e-01,  4.5204e-01, -1.0551e+00,  ..., -1.7357e-01,\n",
            "            2.4697e-01,  1.7439e-01],\n",
            "          ...,\n",
            "          [-5.7354e-03,  4.5101e-02,  6.4827e-01,  ...,  8.1135e-01,\n",
            "           -1.5604e-01, -1.9036e-01],\n",
            "          [-1.1890e-01,  3.8533e-01, -9.0368e-01,  ..., -9.9848e-01,\n",
            "           -5.4210e-02,  3.9443e-01],\n",
            "          [-3.6567e-01,  6.3722e-02, -4.9072e-01,  ...,  3.5019e-01,\n",
            "            4.9046e-01, -5.5614e-01]],\n",
            "\n",
            "         [[-3.8687e-01, -1.4656e-01, -6.8952e-02,  ..., -7.0095e-02,\n",
            "            3.2268e-01, -3.1683e-01],\n",
            "          [-3.4438e-01, -3.2758e-01, -4.5883e-01,  ...,  2.6749e-01,\n",
            "            2.6734e-01, -2.6948e-01],\n",
            "          [-3.5182e-01, -3.8649e-01,  3.9237e-01,  ..., -5.3520e-01,\n",
            "           -9.2142e-01, -9.8429e-02],\n",
            "          ...,\n",
            "          [-9.5375e-02, -2.1380e-01, -6.2628e-01,  ..., -2.5765e-02,\n",
            "            1.0355e+00, -4.8621e-01],\n",
            "          [ 2.6828e-01, -5.1793e-01, -2.4123e-01,  ...,  4.5386e-02,\n",
            "            5.4074e-01, -1.8386e-01],\n",
            "          [ 4.2875e-01, -3.2421e-01,  3.0951e-01,  ...,  1.6159e-01,\n",
            "            7.9598e-01, -4.9505e-01]]],\n",
            "\n",
            "\n",
            "        [[[ 2.4028e-01,  4.5570e-02,  3.6717e-01,  ..., -4.2477e-01,\n",
            "            8.9947e-02, -2.0796e-01],\n",
            "          [-1.8359e-01, -1.0315e-01,  6.3025e-02,  ..., -8.0386e-01,\n",
            "           -1.8896e-01, -3.5248e-01],\n",
            "          [ 7.8730e-03, -6.8641e-01, -2.4444e-01,  ...,  1.3368e-01,\n",
            "           -9.8900e-01,  1.4994e-01],\n",
            "          ...,\n",
            "          [ 9.0135e-01, -2.5290e-01,  9.2540e-02,  ..., -3.1534e-01,\n",
            "            4.3616e-01, -3.5490e-01],\n",
            "          [ 5.8970e-01, -3.0434e-03,  4.0708e-02,  ..., -4.3503e-03,\n",
            "            2.5637e-01,  5.7838e-01],\n",
            "          [-2.9306e-01,  1.3556e-01, -3.8158e-01,  ...,  5.1910e-01,\n",
            "            1.7761e-01,  5.4172e-01]],\n",
            "\n",
            "         [[ 4.9745e-01, -2.3849e-01, -5.7355e-02,  ..., -8.9734e-02,\n",
            "            3.6030e-01, -1.7020e-01],\n",
            "          [-9.2534e-01,  1.8445e-01, -1.6089e-01,  ..., -1.1857e+00,\n",
            "           -2.8403e-01,  1.9290e-01],\n",
            "          [-1.2282e+00, -1.1821e+00,  7.3553e-01,  ...,  2.3601e-01,\n",
            "           -6.6322e-02, -1.4125e-01],\n",
            "          ...,\n",
            "          [-1.2506e-01, -2.2742e-01, -2.6622e-01,  ..., -2.7837e-01,\n",
            "           -1.4016e+00, -1.7694e-02],\n",
            "          [ 6.9559e-01, -2.3512e-02, -2.5363e-01,  ..., -1.0832e-01,\n",
            "            7.4181e-02, -1.4535e-01],\n",
            "          [-1.0875e-02,  5.8916e-01, -1.1205e-01,  ..., -9.1767e-01,\n",
            "           -5.9792e-01,  5.1270e-02]],\n",
            "\n",
            "         [[-1.6057e-02,  1.6913e-01,  2.6077e-01,  ..., -7.2129e-01,\n",
            "           -3.2296e-02, -1.9930e-01],\n",
            "          [-4.1565e-01,  9.6258e-01, -5.3721e-01,  ...,  4.8740e-01,\n",
            "            1.8660e-01, -3.2610e-01],\n",
            "          [ 5.4108e-02,  5.2412e-02, -1.8034e-01,  ...,  7.6140e-01,\n",
            "           -3.6754e-02,  4.7382e-01],\n",
            "          ...,\n",
            "          [ 4.8539e-01, -3.0971e-01,  1.8781e-01,  ..., -2.6788e-01,\n",
            "            9.4269e-02,  7.9186e-01],\n",
            "          [ 1.2344e-01,  2.1319e-01,  2.0122e-01,  ...,  5.3785e-02,\n",
            "            4.0954e-01, -1.4598e-01],\n",
            "          [ 3.5140e-01,  1.8437e-01, -5.7104e-01,  ..., -1.5178e-01,\n",
            "            1.2942e-02, -1.5789e-01]],\n",
            "\n",
            "         ...,\n",
            "\n",
            "         [[-2.8974e-01,  3.3686e-02,  4.4860e-03,  ..., -6.1097e-02,\n",
            "           -1.8563e-01, -4.8562e-01],\n",
            "          [-3.4495e-01, -2.5512e-01,  4.1072e-02,  ...,  1.9413e-01,\n",
            "            2.8229e-01, -1.5337e-01],\n",
            "          [ 6.4240e-01, -5.6702e-01,  2.4704e-02,  ...,  5.0629e-02,\n",
            "           -1.5775e-01, -8.8030e-01],\n",
            "          ...,\n",
            "          [ 2.0681e-01,  2.3363e-01, -2.7540e-01,  ..., -4.0063e-01,\n",
            "           -9.3983e-02, -6.1367e-01],\n",
            "          [-1.5402e-01,  3.4344e-01,  1.8061e-01,  ..., -2.2215e-01,\n",
            "           -4.1748e-01,  3.1652e-01],\n",
            "          [-4.6710e-01, -4.6460e-02, -3.8734e-01,  ...,  7.7428e-02,\n",
            "            2.5221e-03,  5.7593e-02]],\n",
            "\n",
            "         [[ 1.9648e-01, -2.3052e-01, -7.2401e-02,  ...,  5.0369e-01,\n",
            "            2.7193e-01,  6.4139e-02],\n",
            "          [-8.7727e-02, -7.7342e-01,  7.7035e-03,  ...,  1.3419e-01,\n",
            "            5.3662e-01, -4.4300e-01],\n",
            "          [-1.7698e-01,  8.4681e-01,  5.6445e-01,  ...,  1.0118e+00,\n",
            "           -3.8897e-01,  7.2286e-02],\n",
            "          ...,\n",
            "          [-2.5892e-01, -1.3149e-01, -1.1658e+00,  ...,  4.6319e-01,\n",
            "           -4.5096e-01, -4.0736e-02],\n",
            "          [ 7.5007e-02, -1.5641e-01,  2.6391e-01,  ...,  5.3946e-01,\n",
            "           -1.2657e+00,  3.5628e-01],\n",
            "          [ 3.1267e-01,  1.6612e-01,  3.6374e-01,  ...,  5.4405e-01,\n",
            "           -6.7605e-01, -1.3324e-01]],\n",
            "\n",
            "         [[ 2.5861e-01, -1.6527e-01, -1.0912e-01,  ..., -1.8393e-01,\n",
            "           -5.6128e-02, -1.8781e-01],\n",
            "          [ 1.9595e-01,  3.2937e-01,  3.7438e-01,  ...,  3.8028e-02,\n",
            "           -2.9619e-01, -1.7258e-01],\n",
            "          [ 2.3360e-02, -2.2973e-01, -3.8981e-02,  ..., -8.6031e-02,\n",
            "           -3.6234e-01, -1.7569e-01],\n",
            "          ...,\n",
            "          [ 7.9788e-01, -9.9893e-02, -5.9502e-01,  ...,  8.5145e-01,\n",
            "           -1.9894e-02,  1.7687e-01],\n",
            "          [-1.3436e-01,  1.5713e-01, -1.8072e-01,  ...,  2.1999e-01,\n",
            "            5.0983e-01, -1.4494e-01],\n",
            "          [ 4.4176e-01, -1.2247e-01, -8.2540e-02,  ..., -1.8900e-02,\n",
            "            6.3895e-01, -1.5876e-01]]]], grad_fn=<ConvolutionBackward0>)\n"
          ]
        }
      ]
    },
    {
      "cell_type": "code",
      "metadata": {
        "id": "RLqGbclbp3_N",
        "colab": {
          "base_uri": "https://localhost:8080/"
        },
        "outputId": "5e4f383e-15e2-42a9-d7e1-9049ee6ecbda"
      },
      "source": [
        "output.shape"
      ],
      "execution_count": null,
      "outputs": [
        {
          "output_type": "execute_result",
          "data": {
            "text/plain": [
              "torch.Size([20, 33, 26, 100])"
            ]
          },
          "metadata": {},
          "execution_count": 84
        }
      ]
    },
    {
      "cell_type": "markdown",
      "metadata": {
        "id": "CYeGAJEuneqW"
      },
      "source": [
        "### nn.functional 패키지\n",
        "\n",
        "- 가중치를 직접 선언하여 인자로 넣어줘야함\n",
        "\n",
        "- 예시)\n",
        "  - Convolution functions\n",
        "\n",
        "  - Pooling functions\n",
        "  \n",
        "  - Non-linear activation functions\n",
        "\n",
        "  - Normalization functions\n",
        "\n",
        "  - Linear functions\n",
        "\n",
        "  - Dropout functions\n",
        "  \n",
        "  - Sparse functions\n",
        "  \n",
        "  - Distance functions\n",
        "\n",
        "  - Loss functions\n",
        "  - ..\n",
        "\n",
        "- https://pytorch.org/docs/stable/nn.functional.html"
      ]
    },
    {
      "cell_type": "code",
      "metadata": {
        "id": "NpwbO9Dhpflm"
      },
      "source": [
        "import torch\n",
        "import torch.nn.functional as F"
      ],
      "execution_count": null,
      "outputs": []
    },
    {
      "cell_type": "markdown",
      "metadata": {
        "id": "fUYaJ5aLqKed"
      },
      "source": [
        "- Convolution Layer 예시 (2)"
      ]
    },
    {
      "cell_type": "code",
      "metadata": {
        "id": "GAWLQE2GouHP"
      },
      "source": [
        "filters = torch.randn(8,4,3,3)"
      ],
      "execution_count": null,
      "outputs": []
    },
    {
      "cell_type": "code",
      "metadata": {
        "id": "lWmSlFBrpms1",
        "colab": {
          "base_uri": "https://localhost:8080/"
        },
        "outputId": "282ef914-c10e-4599-f3da-f7e5d4530103"
      },
      "source": [
        "inputs = torch.randn(1,4,5,5)\n",
        "conv = F.conv2d(inputs, filters, padding = 1)\n",
        "conv.shape"
      ],
      "execution_count": null,
      "outputs": [
        {
          "output_type": "execute_result",
          "data": {
            "text/plain": [
              "torch.Size([1, 8, 5, 5])"
            ]
          },
          "metadata": {},
          "execution_count": 88
        }
      ]
    },
    {
      "cell_type": "markdown",
      "metadata": {
        "id": "Wah4RsmgrRDP"
      },
      "source": [
        "## Torchvision\n",
        "\n",
        "- `transforms`: 전처리할 때 사용하는 메소드\n",
        "\n",
        "- `transforms`에서 제공하는 클래스 이외에  \n",
        "  일반적으로 클래스를 따로 만들어 전처리 단계를 진행\n",
        "  \n",
        "  - 아래의 코드에서 다양한 전처리 기술 확인  \n",
        "    https://pytorch.org/docs/stable/torchvision/transforms.html\n"
      ]
    },
    {
      "cell_type": "code",
      "metadata": {
        "id": "akvq4QWmqSil"
      },
      "source": [
        "import torch\n",
        "import torchvision\n",
        "import torchvision.transforms as transforms"
      ],
      "execution_count": null,
      "outputs": []
    },
    {
      "cell_type": "markdown",
      "metadata": {
        "id": "PKu5mzyTs-Qj"
      },
      "source": [
        "- 예시)\n",
        "  - `DataLoader`의 인자로 들어갈 `transform`을 미리 정의할 수 있음\n",
        "\n",
        "  - `Compose`를 통해 리스트 안에 순서대로 전처리 진행\n",
        "\n",
        "  - 대표적인 예로, `ToTensor`()를 하는 이유는  \n",
        "   <u>torchvision이 PIL Image형태로만 입력을 받기 때문에</u> 데이터 처리를 위해서 Tensor형으로 변환해야함"
      ]
    },
    {
      "cell_type": "code",
      "metadata": {
        "id": "y6K7FH-Rs9my"
      },
      "source": [
        "transform = transforms.Compose([transforms.ToTensor(),\n",
        "                                transforms.Normalize(mean=(0.5,), std=(0.5,))])"
      ],
      "execution_count": null,
      "outputs": []
    },
    {
      "cell_type": "markdown",
      "metadata": {
        "id": "I4l1GvIlslKa"
      },
      "source": [
        "## utils.data\n",
        "\n",
        "- `Dataset`에는 다양한 데이터셋이 존재  \n",
        "  - MNIST, CIFAR10, ...\n",
        "\n",
        "- `DataLoader`, `Dataset`을 통해  \n",
        "  `batch_size`, `train`여부, `transform`등을 인자로 넣어 데이터를 어떻게 load할 것인지 정해줄 수 있음"
      ]
    },
    {
      "cell_type": "code",
      "metadata": {
        "id": "1wsZKY7-s2Vv"
      },
      "source": [
        "import torch\n",
        "from torch.utils.data import Dataset, DataLoader\n",
        "\n",
        "import torchvision\n",
        "import torchvision.transforms as transforms"
      ],
      "execution_count": null,
      "outputs": []
    },
    {
      "cell_type": "code",
      "metadata": {
        "id": "lldpI2lquBu3",
        "colab": {
          "base_uri": "https://localhost:8080/",
          "height": 423,
          "referenced_widgets": [
            "c41e6158e48c49c381794a7ef3262163",
            "8c57ee819cb6426d80d9fe64c2836211",
            "4ff89b746a734f618639363c45c881fb",
            "6350711f8fe14987aae976dba337ddc9",
            "62a66b28d14f49b68b3a40ed45df22a7",
            "6f39786d5e034ed29bb67dcc6dc50ba7",
            "88fc7dd6fd7e4740bd4efd59bf895502",
            "d6058a8cbd324ed3848e2fa560c27c17",
            "6ca65aed88ce4655871bbfabb3be3b9e",
            "d29d405fe00a475facca03af2bf91e31",
            "757626b72fec4ee3a89a0035ebf9d3f8",
            "e1079150b28e4c4ab3bb74630e675db5",
            "2ef60a5906994dfbb58cd77cf4b120cf",
            "cf0ca8b8cb2a499d972b6aa197e46c46",
            "4c3650ab356b4a2aa96b0aecf8139e6a",
            "600876142a244a8fafaa344b2eda8732",
            "21369469b4de4a8e9ef579492494f819",
            "bb97dea6898841cca0c10df220f06371",
            "f8988eb842144e24bac51bcb9598f72e",
            "5ca16c75e54941ca8bb50c97ff9d04c6",
            "d11f12c906474f5c9b9059b729e08589",
            "0ec255ee23274461bff34c31501a699c",
            "e078155a30994c6799da2152c80137fc",
            "063d0ed6beeb4eaea2b655ec0d78ce97",
            "ac4e6906b2014f26a247a47e063b5936",
            "b717262d4ee9486f87e90f7a690f10f0",
            "9a992acf6a7b42049742b7b22f9ecac1",
            "edb8245aa33e42a3829f687f0890a225",
            "bb264961004d40b59c122adb762d4ebb",
            "5e55ba654f764d42aa062fdfda82a65f",
            "2bc87b8e9065455eb2425e8b6d63ba33",
            "c05e5da000c747099b21cdf8fd2ce190",
            "876c64af48284a9b9f03bafc3a5c34c0",
            "0eed918bcd6740c788ed734b78deb97b",
            "3eb3d617eb4b460c8459ac8b363f67fc",
            "d4a533f20ba542209252214db150a4b4",
            "35076abe39f746b4a7841632e2272b27",
            "2f8265c0ea624f24a3b4015a1a28594f",
            "812b246188044dc69e7a8d251389aae8",
            "bc8bc79652bf421c8b5cbbd67a5a32f1",
            "ae3fa865645d48eaac0068a065ee6ce5",
            "4bef55b45e02405fa0db563a4c7fc1b8",
            "a4bf891696e44ed2968845b7b2b1ee80",
            "a3195ee52f2e44fda8b12f0e45884a31"
          ]
        },
        "outputId": "3ab60d0a-d785-45bb-8e07-1e904539631b"
      },
      "source": [
        "trainset = torchvision.datasets.MNIST(root='/content/',\n",
        "                                      train = True,\n",
        "                                      download = True,\n",
        "                                      transform = transform)\n",
        "testset = torchvision.datasets.MNIST(root='/content/',\n",
        "                                      train = False,\n",
        "                                      download = True,\n",
        "                                      transform = transform)"
      ],
      "execution_count": null,
      "outputs": [
        {
          "output_type": "stream",
          "name": "stdout",
          "text": [
            "Downloading http://yann.lecun.com/exdb/mnist/train-images-idx3-ubyte.gz\n",
            "Downloading http://yann.lecun.com/exdb/mnist/train-images-idx3-ubyte.gz to /content/MNIST/raw/train-images-idx3-ubyte.gz\n"
          ]
        },
        {
          "output_type": "display_data",
          "data": {
            "text/plain": [
              "  0%|          | 0/9912422 [00:00<?, ?it/s]"
            ],
            "application/vnd.jupyter.widget-view+json": {
              "version_major": 2,
              "version_minor": 0,
              "model_id": "c41e6158e48c49c381794a7ef3262163"
            }
          },
          "metadata": {}
        },
        {
          "output_type": "stream",
          "name": "stdout",
          "text": [
            "Extracting /content/MNIST/raw/train-images-idx3-ubyte.gz to /content/MNIST/raw\n",
            "\n",
            "Downloading http://yann.lecun.com/exdb/mnist/train-labels-idx1-ubyte.gz\n",
            "Downloading http://yann.lecun.com/exdb/mnist/train-labels-idx1-ubyte.gz to /content/MNIST/raw/train-labels-idx1-ubyte.gz\n"
          ]
        },
        {
          "output_type": "display_data",
          "data": {
            "text/plain": [
              "  0%|          | 0/28881 [00:00<?, ?it/s]"
            ],
            "application/vnd.jupyter.widget-view+json": {
              "version_major": 2,
              "version_minor": 0,
              "model_id": "e1079150b28e4c4ab3bb74630e675db5"
            }
          },
          "metadata": {}
        },
        {
          "output_type": "stream",
          "name": "stdout",
          "text": [
            "Extracting /content/MNIST/raw/train-labels-idx1-ubyte.gz to /content/MNIST/raw\n",
            "\n",
            "Downloading http://yann.lecun.com/exdb/mnist/t10k-images-idx3-ubyte.gz\n",
            "Downloading http://yann.lecun.com/exdb/mnist/t10k-images-idx3-ubyte.gz to /content/MNIST/raw/t10k-images-idx3-ubyte.gz\n"
          ]
        },
        {
          "output_type": "display_data",
          "data": {
            "text/plain": [
              "  0%|          | 0/1648877 [00:00<?, ?it/s]"
            ],
            "application/vnd.jupyter.widget-view+json": {
              "version_major": 2,
              "version_minor": 0,
              "model_id": "e078155a30994c6799da2152c80137fc"
            }
          },
          "metadata": {}
        },
        {
          "output_type": "stream",
          "name": "stdout",
          "text": [
            "Extracting /content/MNIST/raw/t10k-images-idx3-ubyte.gz to /content/MNIST/raw\n",
            "\n",
            "Downloading http://yann.lecun.com/exdb/mnist/t10k-labels-idx1-ubyte.gz\n",
            "Downloading http://yann.lecun.com/exdb/mnist/t10k-labels-idx1-ubyte.gz to /content/MNIST/raw/t10k-labels-idx1-ubyte.gz\n"
          ]
        },
        {
          "output_type": "display_data",
          "data": {
            "text/plain": [
              "  0%|          | 0/4542 [00:00<?, ?it/s]"
            ],
            "application/vnd.jupyter.widget-view+json": {
              "version_major": 2,
              "version_minor": 0,
              "model_id": "0eed918bcd6740c788ed734b78deb97b"
            }
          },
          "metadata": {}
        },
        {
          "output_type": "stream",
          "name": "stdout",
          "text": [
            "Extracting /content/MNIST/raw/t10k-labels-idx1-ubyte.gz to /content/MNIST/raw\n",
            "\n"
          ]
        }
      ]
    },
    {
      "cell_type": "code",
      "metadata": {
        "id": "fKddZnT1uQmT"
      },
      "source": [
        "train_loader = DataLoader(trainset, batch_size = 8, shuffle=True, num_workers=2)\n",
        "test_loader = DataLoader(testset, batch_size = 8, shuffle=False, num_workers=2)"
      ],
      "execution_count": null,
      "outputs": []
    },
    {
      "cell_type": "markdown",
      "metadata": {
        "id": "zrxymquLxeo8"
      },
      "source": [
        "- `batch_size`만큼 데이터를 하나씩 가져옴"
      ]
    },
    {
      "cell_type": "code",
      "metadata": {
        "id": "hvgMIyF6uUuU",
        "colab": {
          "base_uri": "https://localhost:8080/"
        },
        "outputId": "9e10c428-fe8a-482e-a8e2-4881ff75df00"
      },
      "source": [
        "dataiter = iter(train_loader)\n",
        "images, labels = dataiter.next()\n",
        "images.shape, labels.shape"
      ],
      "execution_count": null,
      "outputs": [
        {
          "output_type": "execute_result",
          "data": {
            "text/plain": [
              "(torch.Size([8, 1, 28, 28]), torch.Size([8]))"
            ]
          },
          "metadata": {},
          "execution_count": 95
        }
      ]
    },
    {
      "cell_type": "markdown",
      "metadata": {
        "id": "YPUC0a0aw6OM"
      },
      "source": [
        "<u>**(중요) torch에서는 channel(채널)이 앞에 옴**</u>\n",
        "\n",
        "- `channel first`\n",
        "\n",
        "- tensorflow, keras 등에서는 channel이 뒤에 옴(`channel last`)"
      ]
    },
    {
      "cell_type": "markdown",
      "metadata": {
        "id": "wuhylD3iyFYr"
      },
      "source": [
        "### 데이터 확인"
      ]
    },
    {
      "cell_type": "code",
      "metadata": {
        "id": "C9hAQmQlul8P"
      },
      "source": [
        "import matplotlib.pyplot as plt\n",
        "plt.style.use('seaborn-white')"
      ],
      "execution_count": null,
      "outputs": []
    },
    {
      "cell_type": "code",
      "metadata": {
        "id": "zDcUY6o4xUQp",
        "colab": {
          "base_uri": "https://localhost:8080/"
        },
        "outputId": "ad2788e1-a9ff-4f97-8589-8551e8cc8e89"
      },
      "source": [
        "torch_image = torch.squeeze(images[0])\n",
        "torch_image.shape"
      ],
      "execution_count": null,
      "outputs": [
        {
          "output_type": "execute_result",
          "data": {
            "text/plain": [
              "torch.Size([28, 28])"
            ]
          },
          "metadata": {},
          "execution_count": 99
        }
      ]
    },
    {
      "cell_type": "code",
      "metadata": {
        "id": "MZmPWiGbxoiW",
        "colab": {
          "base_uri": "https://localhost:8080/"
        },
        "outputId": "c3011281-0349-4673-a240-d04eb9c597f0"
      },
      "source": [
        "image = torch_image.numpy()\n",
        "image.shape"
      ],
      "execution_count": null,
      "outputs": [
        {
          "output_type": "execute_result",
          "data": {
            "text/plain": [
              "(28, 28)"
            ]
          },
          "metadata": {},
          "execution_count": 101
        }
      ]
    },
    {
      "cell_type": "code",
      "metadata": {
        "id": "AUOdd4UaxaXO",
        "colab": {
          "base_uri": "https://localhost:8080/"
        },
        "outputId": "d3a81402-f5e8-4bcb-deb1-a33c876ce369"
      },
      "source": [
        "label = labels[0].numpy()\n",
        "label.shape"
      ],
      "execution_count": null,
      "outputs": [
        {
          "output_type": "execute_result",
          "data": {
            "text/plain": [
              "()"
            ]
          },
          "metadata": {},
          "execution_count": 104
        }
      ]
    },
    {
      "cell_type": "code",
      "metadata": {
        "id": "PDQfjw4wxr1z",
        "colab": {
          "base_uri": "https://localhost:8080/"
        },
        "outputId": "d3312f4c-1047-4d20-8bc4-971cc85c9078"
      },
      "source": [
        "label"
      ],
      "execution_count": null,
      "outputs": [
        {
          "output_type": "execute_result",
          "data": {
            "text/plain": [
              "array(1)"
            ]
          },
          "metadata": {},
          "execution_count": 105
        }
      ]
    },
    {
      "cell_type": "code",
      "metadata": {
        "id": "JDCVw59ax3-A",
        "colab": {
          "base_uri": "https://localhost:8080/",
          "height": 277
        },
        "outputId": "41c2622d-c23e-43f6-aceb-34c44dde88ac"
      },
      "source": [
        "plt.title(label)\n",
        "plt.imshow(image, 'gray')\n",
        "plt.show(_)"
      ],
      "execution_count": null,
      "outputs": [
        {
          "output_type": "display_data",
          "data": {
            "text/plain": [
              "<Figure size 432x288 with 1 Axes>"
            ],
            "image/png": "[encoded data removed]"
          },
          "metadata": {}
        }
      ]
    },
    {
      "cell_type": "markdown",
      "metadata": {
        "id": "JVcWQlxzihtS"
      },
      "source": [
        "## 각 Layer 설명"
      ]
    },
    {
      "cell_type": "code",
      "metadata": {
        "id": "IGXn1_weif5H"
      },
      "source": [
        "import torch\n",
        "import torch.nn as nn\n",
        "import torch.nn.functional as F\n",
        "import torch.optim as optim"
      ],
      "execution_count": null,
      "outputs": []
    },
    {
      "cell_type": "markdown",
      "metadata": {
        "id": "73kJ3heBi26y"
      },
      "source": [
        "### nn.Conv2d\n",
        "\n",
        "- `in_channels`: channel의 갯수\n",
        "\n",
        "- `out_channels`: 출력 채널의 갯수\n",
        "\n",
        "- `kernel_size`: 커널(필터) 사이즈\n",
        "\n",
        "- 텐서플로우, 케라스와 다르게 레이어의 `input`인자에도 값을 집어 넣어줘야함"
      ]
    },
    {
      "cell_type": "code",
      "metadata": {
        "id": "RcHJguyFipTl",
        "colab": {
          "base_uri": "https://localhost:8080/"
        },
        "outputId": "51515387-40e4-4bf1-9e5c-025877584e75"
      },
      "source": [
        "nn.Conv2d(in_channels=1, out_channels=20, kernel_size=5, stride =1)"
      ],
      "execution_count": null,
      "outputs": [
        {
          "output_type": "execute_result",
          "data": {
            "text/plain": [
              "Conv2d(1, 20, kernel_size=(5, 5), stride=(1, 1))"
            ]
          },
          "metadata": {},
          "execution_count": 119
        }
      ]
    },
    {
      "cell_type": "code",
      "metadata": {
        "id": "iWiJbViHjFG0",
        "colab": {
          "base_uri": "https://localhost:8080/"
        },
        "outputId": "dc56cc2e-9623-44ab-8c01-190c284b03cb"
      },
      "source": [
        "layer = nn.Conv2d(1,20,5,1).to(torch.device(\"cpu\"))\n",
        "layer"
      ],
      "execution_count": null,
      "outputs": [
        {
          "output_type": "execute_result",
          "data": {
            "text/plain": [
              "Conv2d(1, 20, kernel_size=(5, 5), stride=(1, 1))"
            ]
          },
          "metadata": {},
          "execution_count": 120
        }
      ]
    },
    {
      "cell_type": "markdown",
      "metadata": {
        "id": "GxWYFm2xjUeN"
      },
      "source": [
        "- `wegiht`확인"
      ]
    },
    {
      "cell_type": "code",
      "metadata": {
        "id": "za0enRbyjPzV",
        "colab": {
          "base_uri": "https://localhost:8080/"
        },
        "outputId": "d1077f34-e828-4d38-bdb4-d273f9af2843"
      },
      "source": [
        "weight = layer.weight\n",
        "weight.shape"
      ],
      "execution_count": null,
      "outputs": [
        {
          "output_type": "execute_result",
          "data": {
            "text/plain": [
              "torch.Size([20, 1, 5, 5])"
            ]
          },
          "metadata": {},
          "execution_count": 121
        }
      ]
    },
    {
      "cell_type": "markdown",
      "metadata": {
        "id": "MAZcTU2gjiCX"
      },
      "source": [
        "- `weight`는 `detach()`를 통해 꺼내줘야 `numpy()`변환이 가능"
      ]
    },
    {
      "cell_type": "code",
      "metadata": {
        "id": "9eN_oUBkjT85"
      },
      "source": [
        "weight = weight.detach()"
      ],
      "execution_count": null,
      "outputs": []
    },
    {
      "cell_type": "code",
      "metadata": {
        "id": "kwso9tsijmz8",
        "colab": {
          "base_uri": "https://localhost:8080/"
        },
        "outputId": "eca7a8aa-a718-4ff0-e974-e81d892916c2"
      },
      "source": [
        "weight = weight.numpy()\n",
        "weight.shape"
      ],
      "execution_count": null,
      "outputs": [
        {
          "output_type": "execute_result",
          "data": {
            "text/plain": [
              "(20, 1, 5, 5)"
            ]
          },
          "metadata": {},
          "execution_count": 123
        }
      ]
    },
    {
      "cell_type": "code",
      "metadata": {
        "id": "mUegf6HPjdPl",
        "colab": {
          "base_uri": "https://localhost:8080/",
          "height": 262
        },
        "outputId": "fdaa26c2-de1e-45cd-f044-9b2bd1ec332a"
      },
      "source": [
        "plt.imshow(weight[0,0,:,:], 'jet')\n",
        "plt.colorbar()\n",
        "plt.show()"
      ],
      "execution_count": null,
      "outputs": [
        {
          "output_type": "display_data",
          "data": {
            "text/plain": [
              "<Figure size 432x288 with 2 Axes>"
            ],
            "image/png": "[encoded data removed]"
          },
          "metadata": {}
        }
      ]
    },
    {
      "cell_type": "code",
      "metadata": {
        "id": "DMeTOqVmcdWa",
        "colab": {
          "base_uri": "https://localhost:8080/"
        },
        "outputId": "e4aec871-44ce-414b-9665-e80f6509e607"
      },
      "source": [
        "print(images.shape)"
      ],
      "execution_count": null,
      "outputs": [
        {
          "output_type": "stream",
          "name": "stdout",
          "text": [
            "torch.Size([8, 1, 28, 28])\n"
          ]
        }
      ]
    },
    {
      "cell_type": "code",
      "metadata": {
        "id": "cvolnNsscdHs"
      },
      "source": [
        "input_image = torch.unsqueeze(images[0],dim=0)"
      ],
      "execution_count": null,
      "outputs": []
    },
    {
      "cell_type": "code",
      "metadata": {
        "id": "NLOAfD5mjup1"
      },
      "source": [
        "output_data = layer(input_image)"
      ],
      "execution_count": null,
      "outputs": []
    },
    {
      "cell_type": "code",
      "metadata": {
        "id": "r50wFkl6j1sY"
      },
      "source": [
        "output = output_data.data"
      ],
      "execution_count": null,
      "outputs": []
    },
    {
      "cell_type": "code",
      "metadata": {
        "id": "ZiIp-frJj2Hl",
        "colab": {
          "base_uri": "https://localhost:8080/"
        },
        "outputId": "9b1935c8-a77a-41d2-e006-5491c5313c28"
      },
      "source": [
        "output_arr = output.numpy()\n",
        "output_arr.shape"
      ],
      "execution_count": null,
      "outputs": [
        {
          "output_type": "execute_result",
          "data": {
            "text/plain": [
              "(1, 20, 24, 24)"
            ]
          },
          "metadata": {},
          "execution_count": 131
        }
      ]
    },
    {
      "cell_type": "code",
      "metadata": {
        "id": "uOHMu-UQkW3a",
        "colab": {
          "base_uri": "https://localhost:8080/",
          "height": 306
        },
        "outputId": "10986f50-0128-496e-ec3c-eea48ad779b0"
      },
      "source": [
        "plt.figure(figsize = (15,30))\n",
        "\n",
        "plt.subplot(131)\n",
        "plt.title(\"Input\")\n",
        "plt.imshow(image, 'gray')\n",
        "plt.subplot(132)\n",
        "plt.title(\"Weight\")\n",
        "plt.imshow(weight[0,0,:,:], 'jet')\n",
        "plt.subplot(133)\n",
        "plt.title('Output')\n",
        "plt.imshow(output_arr[0,0,:,:], 'gray')\n",
        "plt.show()"
      ],
      "execution_count": null,
      "outputs": [
        {
          "output_type": "display_data",
          "data": {
            "text/plain": [
              "<Figure size 1080x2160 with 3 Axes>"
            ],
            "image/png": "[encoded data removed]"
          },
          "metadata": {}
        }
      ]
    },
    {
      "cell_type": "markdown",
      "metadata": {
        "id": "6sCqGmH_kwHm"
      },
      "source": [
        "### Pooling\n",
        "- `F.max_pool2d` \n",
        "  - `stride`\n",
        "\n",
        "  - `kernel_size`\n",
        "\n",
        "- `torch.nn.MaxPool2d` 도 많이 사용"
      ]
    },
    {
      "cell_type": "code",
      "metadata": {
        "id": "AYqPrLH1kxQl",
        "colab": {
          "base_uri": "https://localhost:8080/"
        },
        "outputId": "8a5bc56b-60d9-4be4-8d4a-f5380f90feab"
      },
      "source": [
        "image.shape"
      ],
      "execution_count": null,
      "outputs": [
        {
          "output_type": "execute_result",
          "data": {
            "text/plain": [
              "(28, 28)"
            ]
          },
          "metadata": {},
          "execution_count": 133
        }
      ]
    },
    {
      "cell_type": "code",
      "metadata": {
        "id": "tvI8W_8Yk81S",
        "colab": {
          "base_uri": "https://localhost:8080/"
        },
        "outputId": "b3ce20af-6b05-442f-ed68-72eb44c0aeff"
      },
      "source": [
        "pool = F.max_pool2d(output, 2, 2)\n",
        "pool.shape"
      ],
      "execution_count": null,
      "outputs": [
        {
          "output_type": "execute_result",
          "data": {
            "text/plain": [
              "torch.Size([1, 20, 12, 12])"
            ]
          },
          "metadata": {},
          "execution_count": 134
        }
      ]
    },
    {
      "cell_type": "markdown",
      "metadata": {
        "id": "aV3HK4FulCaJ"
      },
      "source": [
        "- MaxPool Layer는 weight가 없기 때문에 바로 `numpy()`변환 가능"
      ]
    },
    {
      "cell_type": "code",
      "metadata": {
        "id": "fseB_qlflBta",
        "colab": {
          "base_uri": "https://localhost:8080/"
        },
        "outputId": "ac9c21cc-8a0a-4244-df0b-d299a75a16cd"
      },
      "source": [
        "pool_arr = pool.numpy()\n",
        "pool_arr.shape"
      ],
      "execution_count": null,
      "outputs": [
        {
          "output_type": "execute_result",
          "data": {
            "text/plain": [
              "(1, 20, 12, 12)"
            ]
          },
          "metadata": {},
          "execution_count": 135
        }
      ]
    },
    {
      "cell_type": "code",
      "metadata": {
        "id": "6w8DQnNtlNCq",
        "colab": {
          "base_uri": "https://localhost:8080/",
          "height": 313
        },
        "outputId": "700bd752-2c8b-4f53-bedc-921fdc35282e"
      },
      "source": [
        "plt.figure(figsize=(10,15))\n",
        "plt.subplot(121)\n",
        "plt.title('Input')\n",
        "plt.imshow(image, 'gray')\n",
        "plt.subplot(122)\n",
        "plt.title('Output')\n",
        "plt.imshow(pool_arr[0,0,:,:], 'gray')\n",
        "plt.show()"
      ],
      "execution_count": null,
      "outputs": [
        {
          "output_type": "display_data",
          "data": {
            "text/plain": [
              "<Figure size 720x1080 with 2 Axes>"
            ],
            "image/png": "[encoded data removed]"
          },
          "metadata": {}
        }
      ]
    },
    {
      "cell_type": "markdown",
      "metadata": {
        "id": "q7RVioKwlbH1"
      },
      "source": [
        "### Linear\n",
        "- 1d만 가능 `.view()`를 통해 1D로 펼쳐줘야함"
      ]
    },
    {
      "cell_type": "code",
      "metadata": {
        "id": "Kwcedadrlcbl",
        "colab": {
          "base_uri": "https://localhost:8080/"
        },
        "outputId": "88b494df-0789-4b69-a683-0dd353886b17"
      },
      "source": [
        "image = torch.from_numpy(image)\n",
        "image.shape"
      ],
      "execution_count": null,
      "outputs": [
        {
          "output_type": "execute_result",
          "data": {
            "text/plain": [
              "torch.Size([28, 28])"
            ]
          },
          "metadata": {},
          "execution_count": 137
        }
      ]
    },
    {
      "cell_type": "code",
      "metadata": {
        "id": "_mYQy4I3lmAm",
        "colab": {
          "base_uri": "https://localhost:8080/"
        },
        "outputId": "b791eaae-c5d0-42d0-fcdb-f920c87176fb"
      },
      "source": [
        "flatten = image.view(1, 28*28)\n",
        "flatten.shape"
      ],
      "execution_count": null,
      "outputs": [
        {
          "output_type": "execute_result",
          "data": {
            "text/plain": [
              "torch.Size([1, 784])"
            ]
          },
          "metadata": {},
          "execution_count": 138
        }
      ]
    },
    {
      "cell_type": "code",
      "metadata": {
        "id": "6wgSmY0Zlofk",
        "colab": {
          "base_uri": "https://localhost:8080/"
        },
        "outputId": "3819ab84-1047-4741-c4c1-9730e9837f04"
      },
      "source": [
        "lin = nn.Linear(784,10)(flatten)\n",
        "lin.shape"
      ],
      "execution_count": null,
      "outputs": [
        {
          "output_type": "execute_result",
          "data": {
            "text/plain": [
              "torch.Size([1, 10])"
            ]
          },
          "metadata": {},
          "execution_count": 139
        }
      ]
    },
    {
      "cell_type": "code",
      "metadata": {
        "id": "LcJFqf0alsxr",
        "colab": {
          "base_uri": "https://localhost:8080/"
        },
        "outputId": "af63fa11-68a2-4c2a-fc0f-1e068ca23de4"
      },
      "source": [
        "lin"
      ],
      "execution_count": null,
      "outputs": [
        {
          "output_type": "execute_result",
          "data": {
            "text/plain": [
              "tensor([[ 6.9811e-02,  1.1175e+00,  4.2877e-01, -4.7207e-04, -3.2337e-01,\n",
              "         -5.8364e-02, -7.8480e-01, -1.0298e-01,  9.2454e-01,  4.7354e-01]],\n",
              "       grad_fn=<AddmmBackward0>)"
            ]
          },
          "metadata": {},
          "execution_count": 140
        }
      ]
    },
    {
      "cell_type": "code",
      "metadata": {
        "id": "ewEpebSVluHz",
        "colab": {
          "base_uri": "https://localhost:8080/",
          "height": 250
        },
        "outputId": "998f9e5d-6d1b-43d4-8d97-5994cf7aead9"
      },
      "source": [
        "plt.imshow(lin.detach().numpy(), 'jet')\n",
        "plt.colorbar()\n",
        "plt.show()"
      ],
      "execution_count": null,
      "outputs": [
        {
          "output_type": "display_data",
          "data": {
            "text/plain": [
              "<Figure size 432x288 with 2 Axes>"
            ],
            "image/png": "[encoded data removed]"
          },
          "metadata": {}
        }
      ]
    },
    {
      "cell_type": "markdown",
      "metadata": {
        "id": "0IjPKDKRl3CV"
      },
      "source": [
        "### Softmax"
      ]
    },
    {
      "cell_type": "code",
      "metadata": {
        "id": "obhBb3O-lzbs"
      },
      "source": [
        "with torch.no_grad():\n",
        "  flatten = image.view(1, 28*28)\n",
        "  lin = nn.Linear(784, 10)(flatten)\n",
        "  softmax = F.softmax(lin,dim=1)"
      ],
      "execution_count": null,
      "outputs": []
    },
    {
      "cell_type": "code",
      "metadata": {
        "id": "ljgOEyNMmBEE",
        "colab": {
          "base_uri": "https://localhost:8080/"
        },
        "outputId": "322f103a-3f87-4245-f181-af160032f143"
      },
      "source": [
        "softmax"
      ],
      "execution_count": null,
      "outputs": [
        {
          "output_type": "execute_result",
          "data": {
            "text/plain": [
              "tensor([[0.0479, 0.1068, 0.1990, 0.0437, 0.0625, 0.0827, 0.1550, 0.0706, 0.0907,\n",
              "         0.1410]])"
            ]
          },
          "metadata": {},
          "execution_count": 143
        }
      ]
    },
    {
      "cell_type": "code",
      "metadata": {
        "id": "18ymFSRAmBo7",
        "colab": {
          "base_uri": "https://localhost:8080/"
        },
        "outputId": "e94f0c03-849c-411f-b2df-4cc66d26fc2e"
      },
      "source": [
        "np.sum(softmax.numpy())"
      ],
      "execution_count": null,
      "outputs": [
        {
          "output_type": "execute_result",
          "data": {
            "text/plain": [
              "0.99999994"
            ]
          },
          "metadata": {},
          "execution_count": 144
        }
      ]
    },
    {
      "cell_type": "markdown",
      "metadata": {
        "id": "bYh13Bnj5wEN"
      },
      "source": [
        "### F.relu\n",
        "\n",
        "- ReLU 함수를 적용하는 레이어\n",
        "\n",
        "- `nn.ReLU`로도 사용 가능"
      ]
    },
    {
      "cell_type": "code",
      "metadata": {
        "id": "D4VFePpR9_Ak",
        "colab": {
          "base_uri": "https://localhost:8080/"
        },
        "outputId": "0f7cd66f-54db-4d92-ffd3-a713ed28dbf4"
      },
      "source": [
        "inputs = torch.randn(4,3,28,28).to(device)\n",
        "inputs.shape"
      ],
      "execution_count": null,
      "outputs": [
        {
          "output_type": "execute_result",
          "data": {
            "text/plain": [
              "torch.Size([4, 3, 28, 28])"
            ]
          },
          "metadata": {},
          "execution_count": 145
        }
      ]
    },
    {
      "cell_type": "code",
      "metadata": {
        "id": "1lKlSiaY5wZW",
        "colab": {
          "base_uri": "https://localhost:8080/"
        },
        "outputId": "bbf082af-e113-44cd-8163-a04411adc18f"
      },
      "source": [
        "layer = nn.Conv2d(3, 20, 5, 1).to(device)\n",
        "output = F.relu(layer(inputs))\n",
        "output.shape"
      ],
      "execution_count": null,
      "outputs": [
        {
          "output_type": "execute_result",
          "data": {
            "text/plain": [
              "torch.Size([4, 20, 24, 24])"
            ]
          },
          "metadata": {},
          "execution_count": 146
        }
      ]
    },
    {
      "cell_type": "markdown",
      "metadata": {
        "id": "0yuABl4h-yye"
      },
      "source": [
        "## Optimizer\n",
        "\n",
        "- `import torch.optim as optim`\n",
        "\n",
        "- `model`의 파라미터를 업데이트\n",
        "\n",
        "- 예시)\n",
        "  ```python\n",
        "  optimizer = torch.optim.Adam(model.parameters(), lr=1e-4, weight_decay=1e-5)\n",
        "  optimizer = optim.SGD(model.parameters(), lr=0.001)\n",
        "  ```\n",
        "\n",
        "- `.zero_grad()`로 초기화\n",
        "- `.step()`으로 업데이트\n",
        "\n"
      ]
    }
  ]
}